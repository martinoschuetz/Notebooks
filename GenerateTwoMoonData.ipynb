{
 "cells": [
  {
   "cell_type": "code",
   "execution_count": 1,
   "metadata": {},
   "outputs": [
    {
     "name": "stdout",
     "output_type": "stream",
     "text": [
      "Populating the interactive namespace from numpy and matplotlib\n"
     ]
    }
   ],
   "source": [
    "import sklearn\n",
    "import numpy as np\n",
    "import pandas as pd\n",
    "import matplotlib.pyplot as plt\n",
    "import seaborn as sns\n",
    "import sklearn.datasets\n",
    "%pylab inline\n",
    "\n",
    "#sklearn two moons generator makes lots of these...\n",
    "import warnings\n",
    "warnings.filterwarnings(\"ignore\", category=DeprecationWarning)"
   ]
  },
  {
   "cell_type": "code",
   "execution_count": 2,
   "metadata": {},
   "outputs": [],
   "source": [
    "#low noise, plenty of samples, should be easy\n",
    "X0, y0 = sklearn.datasets.make_moons(n_samples=1000, noise=.05)\n",
    "#more noise, plenty of samples\n",
    "X1, y1 = sklearn.datasets.make_moons(n_samples=1000, noise=.3)\n",
    "#less noise, few samples\n",
    "X2, y2 = sklearn.datasets.make_moons(n_samples=200, noise=.05)\n",
    "#more noise, less samples, should be hard\n",
    "X3, y3 = sklearn.datasets.make_moons(n_samples=200, noise=.3)\n",
    "\n"
   ]
  },
  {
   "cell_type": "code",
   "execution_count": 3,
   "metadata": {},
   "outputs": [],
   "source": [
    "X0=X0.reshape(1000,2)\n",
    "X1=X1.reshape(1000,2)\n",
    "X2=X2.reshape(200,2)\n",
    "X3=X3.reshape(200,2)\n"
   ]
  },
  {
   "cell_type": "code",
   "execution_count": 4,
   "metadata": {},
   "outputs": [],
   "source": [
    "y0=y0.reshape(1000,1)\n",
    "y1=y1.reshape(1000,1)\n",
    "y2=y2.reshape(200,1)\n",
    "y3=y3.reshape(200,1)"
   ]
  },
  {
   "cell_type": "code",
   "execution_count": 5,
   "metadata": {},
   "outputs": [],
   "source": [
    "train0=np.hstack((y0,X0))\n",
    "train1=np.hstack((y1,X1))\n",
    "train2=np.hstack((y2,X2))\n",
    "train3=np.hstack((y3,X3))\n",
    "\n",
    "train0 = pd.DataFrame(train0, columns=['y', 'x1','x2'])\n",
    "train1 = pd.DataFrame(train1, columns=['y', 'x1','x2'])\n",
    "train2 = pd.DataFrame(train2, columns=['y', 'x1','x2'])\n",
    "train3 = pd.DataFrame(train3, columns=['y', 'x1','x2'])\n",
    "\n"
   ]
  },
  {
   "cell_type": "code",
   "execution_count": 6,
   "metadata": {},
   "outputs": [],
   "source": [
    "from swat import *\n",
    "from swat.render import render_html\n",
    "from pprint import pprint\n",
    "from matplotlib import pyplot as plt\n",
    "\n",
    "import sys\n",
    "%matplotlib inline\n",
    "\n",
    "cashost='localhost'\n",
    "casport=5570\n",
    "casauth='~/.authinfo'\n",
    "sess = CAS(cashost, casport, authinfo=casauth, caslib=\"public\")\n"
   ]
  },
  {
   "cell_type": "code",
   "execution_count": 7,
   "metadata": {},
   "outputs": [
    {
     "name": "stdout",
     "output_type": "stream",
     "text": [
      "NOTE: Cloud Analytic Services made the uploaded file available as table TRAIN0 in caslib public.\n",
      "NOTE: The table TRAIN0 has been created in caslib public from binary data uploaded to Cloud Analytic Services.\n",
      "NOTE: Cloud Analytic Services made the uploaded file available as table TRAIN1 in caslib public.\n",
      "NOTE: The table TRAIN1 has been created in caslib public from binary data uploaded to Cloud Analytic Services.\n",
      "NOTE: Cloud Analytic Services made the uploaded file available as table TRAIN2 in caslib public.\n",
      "NOTE: The table TRAIN2 has been created in caslib public from binary data uploaded to Cloud Analytic Services.\n",
      "NOTE: Cloud Analytic Services made the uploaded file available as table TRAIN3 in caslib public.\n",
      "NOTE: The table TRAIN3 has been created in caslib public from binary data uploaded to Cloud Analytic Services.\n"
     ]
    },
    {
     "data": {
      "text/html": [
       "<div class=\"cas-results-key\"><b>&#167; caslib</b></div>\n",
       "<div class=\"cas-results-body\">\n",
       "<div>public</div>\n",
       "</div>\n",
       "<div class=\"cas-results-key\"><hr/><b>&#167; tableName</b></div>\n",
       "<div class=\"cas-results-body\">\n",
       "<div>TRAIN3</div>\n",
       "</div>\n",
       "<div class=\"cas-results-key\"><hr/><b>&#167; casTable</b></div>\n",
       "<div class=\"cas-results-body\">\n",
       "<div>CASTable('TRAIN3', caslib='public')</div>\n",
       "</div>\n",
       "<div class=\"cas-output-area\"></div>\n",
       "<p class=\"cas-results-performance\"><small><span class=\"cas-elapsed\">elapsed 0.00757s</span> &#183; <span class=\"cas-user\">user 0.002s</span> &#183; <span class=\"cas-sys\">sys 0.006s</span> &#183; <span class=\"cas-memory\">mem 10.8MB</span></small></p>"
      ],
      "text/plain": [
       "[caslib]\n",
       "\n",
       " 'public'\n",
       "\n",
       "[tableName]\n",
       "\n",
       " 'TRAIN3'\n",
       "\n",
       "[casTable]\n",
       "\n",
       " CASTable('TRAIN3', caslib='public')\n",
       "\n",
       "+ Elapsed: 0.00757s, user: 0.002s, sys: 0.006s, mem: 10.8mb"
      ]
     },
     "execution_count": 7,
     "metadata": {},
     "output_type": "execute_result"
    }
   ],
   "source": [
    "sess.upload(train0,casout=dict(name='train0', caslib='public',promote=True))\n",
    "sess.upload(train1,casout=dict(name='train1', caslib='public',promote=True))\n",
    "sess.upload(train2,casout=dict(name='train2', caslib='public',promote=True))\n",
    "sess.upload(train3,casout=dict(name='train3', caslib='public',promote=True))\n"
   ]
  },
  {
   "cell_type": "code",
   "execution_count": null,
   "metadata": {},
   "outputs": [],
   "source": []
  }
 ],
 "metadata": {
  "kernelspec": {
   "display_name": "Python 3",
   "language": "python",
   "name": "python3"
  },
  "language_info": {
   "codemirror_mode": {
    "name": "ipython",
    "version": 3
   },
   "file_extension": ".py",
   "mimetype": "text/x-python",
   "name": "python",
   "nbconvert_exporter": "python",
   "pygments_lexer": "ipython3",
   "version": "3.7.3"
  }
 },
 "nbformat": 4,
 "nbformat_minor": 2
}
