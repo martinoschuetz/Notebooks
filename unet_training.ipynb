{
 "cells": [
  {
   "cell_type": "code",
   "execution_count": null,
   "metadata": {
    "collapsed": true
   },
   "outputs": [],
   "source": [
    "%matplotlib inline\n",
    "import swat as sw\n",
    "\n",
    "from dlpy.splitting import two_way_split\n",
    "from dlpy.utils import create_segmentation_table\n",
    "from dlpy.utils import display_segmentation_images\n",
    "from dlpy.applications import UNet\n",
    "from dlpy.model import AdamSolver\n",
    "from dlpy.model import Optimizer\n",
    "from dlpy.lr_scheduler import StepLR"
   ]
  },
  {
   "cell_type": "code",
   "execution_count": null,
   "metadata": {
    "collapsed": true
   },
   "outputs": [],
   "source": [
    "s = sw.CAS('dach-viya-smp.sas.com', 5570)"
   ]
  },
  {
   "cell_type": "code",
   "execution_count": null,
   "metadata": {},
   "outputs": [],
   "source": [
    "tbl = create_segmentation_table(s,\n",
    "                                path_to_images='/home/sasdemo01/airbus_ship_detection/train/',\n",
    "                                path_to_ground_truth='/home/sasdemo01/airbus_ship_detection/masks/')"
   ]
  },
  {
   "cell_type": "code",
   "execution_count": null,
   "metadata": {},
   "outputs": [],
   "source": [
    "train, validate = two_way_split(tbl, stratify=False, columns=['_filename_0', 'labels'])"
   ]
  },
  {
   "cell_type": "code",
   "execution_count": null,
   "metadata": {
    "collapsed": true
   },
   "outputs": [],
   "source": [
    "model = UNet(s, \n",
    "             n_classes=2, \n",
    "             n_channels=3,\n",
    "             width=768,\n",
    "             height=768,\n",
    "             bn_after_convolutions=True)"
   ]
  },
  {
   "cell_type": "code",
   "execution_count": null,
   "metadata": {
    "collapsed": true
   },
   "outputs": [],
   "source": [
    "solver = AdamSolver(lr_scheduler=StepLR(learning_rate=0.0002, step_size=30, gamma=0.8), \n",
    "                    clip_grad_max = 100, \n",
    "                    clip_grad_min = -100)\n",
    "\n",
    "optimizer = Optimizer(algorithm=solver, \n",
    "                      mini_batch_size=1, \n",
    "                      log_level=2, \n",
    "                      max_epochs=5, \n",
    "                      reg_l2=0.0005, \n",
    "                      seed=13309)\n",
    "\n",
    "dataspecs=[dict(type='image', layer='data', data=['_image_']),\n",
    "           dict(type='image', layer='Segmentation_1', data=['labels'])]"
   ]
  },
  {
   "cell_type": "code",
   "execution_count": null,
   "metadata": {
    "collapsed": true
   },
   "outputs": [],
   "source": [
    "model.fit(data=train,\n",
    "          valid_table=validate,\n",
    "          optimizer=optimizer, \n",
    "          data_specs=dataspecs, \n",
    "          n_threads=1, \n",
    "          record_seed=54321,\n",
    "          force_equal_padding=True,\n",
    "          gpu=dict(devices=[0]))"
   ]
  }
 ],
 "metadata": {
  "kernelspec": {
   "display_name": "Python 3",
   "language": "python",
   "name": "python3"
  },
  "language_info": {
   "codemirror_mode": {
    "name": "ipython",
    "version": 3
   },
   "file_extension": ".py",
   "mimetype": "text/x-python",
   "name": "python",
   "nbconvert_exporter": "python",
   "pygments_lexer": "ipython3",
   "version": "3.6.3"
  }
 },
 "nbformat": 4,
 "nbformat_minor": 2
}
