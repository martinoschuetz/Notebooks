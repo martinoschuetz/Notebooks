{
 "cells": [
  {
   "cell_type": "markdown",
   "metadata": {},
   "source": [
    "This snippet showcases a sample Machine Learning pipeline for            \n",
    "unsupervised learning using IRIS data set. The steps include:    \n",
    "                                                                          \n",
    "1. PREPARE DATA  \n",
    "  a) Load data set into CAS                                            \n",
    "<br>                                                                          \n",
    "2. PERFORM UNSUPERVISED LEARNING  \n",
    "  a) Generate Principal Components  \n",
    "  b) Analyze Clusters                                                  \n",
    "<br>                                                                          \n",
    "3. VISUALIZE THE RESULTS  \n",
    "  a) Examine the clustering plot  \n",
    "  b) Identify clusters in a PCA plot                                   "
   ]
  },
  {
   "cell_type": "markdown",
   "metadata": {},
   "source": [
    "### Import packages"
   ]
  },
  {
   "cell_type": "code",
   "execution_count": 1,
   "metadata": {
    "collapsed": true
   },
   "outputs": [],
   "source": [
    "from swat import *\n",
    "import pandas as pd\n",
    "import numpy as np\n",
    "import matplotlib.pyplot as plt\n",
    "from swat.render import render_html\n",
    "%matplotlib inline"
   ]
  },
  {
   "cell_type": "markdown",
   "metadata": {},
   "source": [
    "### CAS Server connection details"
   ]
  },
  {
   "cell_type": "code",
   "execution_count": 2,
   "metadata": {
    "collapsed": true
   },
   "outputs": [],
   "source": [
    "cashost='sasserver.demo.sas.com'\n",
    "casport=5570\n",
    "casauth='~/.authinfo'"
   ]
  },
  {
   "cell_type": "markdown",
   "metadata": {},
   "source": [
    "### Start CAS session"
   ]
  },
  {
   "cell_type": "code",
   "execution_count": 3,
   "metadata": {
    "collapsed": true
   },
   "outputs": [],
   "source": [
    "sess = CAS(cashost, casport, authinfo=casauth, caslib=\"casuser\")"
   ]
  },
  {
   "cell_type": "markdown",
   "metadata": {},
   "source": [
    "### Import action sets"
   ]
  },
  {
   "cell_type": "code",
   "execution_count": 4,
   "metadata": {
    "collapsed": false
   },
   "outputs": [
    {
     "name": "stdout",
     "output_type": "stream",
     "text": [
      "NOTE: Added action set 'clustering'.\n",
      "NOTE: Added action set 'pca'.\n"
     ]
    },
    {
     "data": {
      "text/html": [
       "<div class=\"cas-results-key\"><b>&#167; actionset</b></div>\n",
       "<div class=\"cas-results-body\">\n",
       "<div>pca</div>\n",
       "</div>\n",
       "<div class=\"cas-output-area\"></div>\n",
       "<p class=\"cas-results-performance\"><small><span class=\"cas-elapsed\">elapsed 0.000899s</span> &#183; <span class=\"cas-user\">user 0.001s</span> &#183; <span class=\"cas-memory\">mem 0.032MB</span></small></p>"
      ],
      "text/plain": [
       "[actionset]\n",
       "\n",
       " 'pca'\n",
       "\n",
       "+ Elapsed: 0.000899s, user: 0.001s, mem: 0.032mb"
      ]
     },
     "execution_count": 4,
     "metadata": {},
     "output_type": "execute_result"
    }
   ],
   "source": [
    "sess.loadactionset(actionset=\"clustering\")\n",
    "sess.loadactionset(actionset=\"pca\")"
   ]
  },
  {
   "cell_type": "markdown",
   "metadata": {},
   "source": [
    "### Set variables for input data"
   ]
  },
  {
   "cell_type": "code",
   "execution_count": 5,
   "metadata": {
    "collapsed": true
   },
   "outputs": [],
   "source": [
    "indata_dir         = \"data\"\n",
    "indata             = \"iris\""
   ]
  },
  {
   "cell_type": "markdown",
   "metadata": {},
   "source": [
    "### Load data into CAS if needed"
   ]
  },
  {
   "cell_type": "code",
   "execution_count": 6,
   "metadata": {
    "collapsed": false
   },
   "outputs": [
    {
     "name": "stdout",
     "output_type": "stream",
     "text": [
      "NOTE: Cloud Analytic Services made the file data/iris.sas7bdat available as table IRIS in caslib CASUSER(viyauser).\n"
     ]
    }
   ],
   "source": [
    "if not sess.table.tableExists(table=indata).exists:\n",
    "    sess.loadTable(caslib=\"casuser\", path=indata_dir+\"/\"+indata+\".sas7bdat\", casout={\"name\":indata})"
   ]
  },
  {
   "cell_type": "markdown",
   "metadata": {},
   "source": [
    "### Perform a principal components analysis"
   ]
  },
  {
   "cell_type": "code",
   "execution_count": 7,
   "metadata": {
    "collapsed": false
   },
   "outputs": [
    {
     "data": {
      "text/html": [
       "\n",
       "    <style type=\"text/css\">\n",
       "    div.cas-results {\n",
       "        overflow-x: auto;\n",
       "    }\n",
       "    div.cas-results > * {\n",
       "        margin-left: auto !important;\n",
       "        margin-right: auto !important;\n",
       "    }\n",
       "    div.cas-results .sas-dataframe th[colspan],\n",
       "    div.cas-results .byline {\n",
       "        text-align: center;\n",
       "        font-size: 110%;\n",
       "    }\n",
       "    div.cas-results .sas-dataframe > tbody > tr:nth-child(even) {\n",
       "        background-color: #f8f8f8;\n",
       "    }\n",
       "    div.cas-results .sas-dataframe td,\n",
       "    div.cas-results .sas-dataframe th {\n",
       "        border: 1px solid #aaaaaa;\n",
       "        padding: 5px 10px;\n",
       "    }\n",
       "    div.cas-results .sas-dataframe th {\n",
       "        background-color: #f0f0f0;\n",
       "    }\n",
       "    div.cas-results .sas-dataframe .double,\n",
       "    div.cas-results .sas-dataframe .int32,\n",
       "    div.cas-results .sas-dataframe .int64,\n",
       "    div.cas-results .sas-dataframe .decsext,\n",
       "    div.cas-results .sas-dataframe .decquad {\n",
       "        text-align: right;\n",
       "    }\n",
       "    </style>\n",
       "<div class=\"cas-results\"><table class=\"sas-dataframe\">\n",
       "<colgroup><col class=\"char\" /><col class=\"char\" /></colgroup>\n",
       "<thead>\n",
       "<tr><th colspan=\"2\">Model Information</th></tr>\n",
       "<th class=\"char\">Description</th>\n",
       "<th class=\"char\">Value</th>\n",
       "</thead>\n",
       "<tbody>\n",
       "<tr><td class=\"char\">Data Source</td><td class=\"char\">IRIS</td></tr>\n",
       "<tr><td class=\"char\">Component Extraction Method</td><td class=\"char\">Eigenvalue Decomposition</td></tr>\n",
       "</tbody>\n",
       "</table><table class=\"sas-dataframe\">\n",
       "<colgroup><col class=\"char\" /><col class=\"int32\" /></colgroup>\n",
       "<thead>\n",
       "<tr><th colspan=\"2\">Number of Variables</th></tr>\n",
       "<th class=\"char\">Description</th>\n",
       "<th class=\"int32\">Value</th>\n",
       "</thead>\n",
       "<tbody>\n",
       "<tr><td class=\"char\">Number of Variables</td><td class=\"int32\">4</td></tr>\n",
       "<tr><td class=\"char\">Number of Principal Components</td><td class=\"int32\">4</td></tr>\n",
       "</tbody>\n",
       "</table><table class=\"sas-dataframe\">\n",
       "<colgroup><col class=\"char\" /><col class=\"double\" /></colgroup>\n",
       "<thead>\n",
       "<tr><th colspan=\"2\">Number of Observations</th></tr>\n",
       "<th class=\"char\">Description</th>\n",
       "<th class=\"double\">Value</th>\n",
       "</thead>\n",
       "<tbody>\n",
       "<tr><td class=\"char\">Number of Observations Read</td><td class=\"double\">150</td></tr>\n",
       "<tr><td class=\"char\">Number of Observations Used</td><td class=\"double\">150</td></tr>\n",
       "</tbody>\n",
       "</table><table class=\"sas-dataframe\">\n",
       "<colgroup><col class=\"char\" /><col class=\"char\" /><col class=\"double\" /><col class=\"double\" /></colgroup>\n",
       "<thead>\n",
       "<tr><th colspan=\"4\">Simple Statistics</th></tr>\n",
       "<th class=\"char\">Variable</th>\n",
       "<th class=\"char\">Label</th>\n",
       "<th class=\"double\">Mean</th>\n",
       "<th class=\"double\">Standard Deviation</th>\n",
       "</thead>\n",
       "<tbody>\n",
       "<tr><td class=\"char\">SepalWidth</td><td class=\"char\">Sepal Width in mm.</td><td class=\"double\">30.573333333</td><td class=\"double\">4.3586628494</td></tr>\n",
       "<tr><td class=\"char\">SepalLength</td><td class=\"char\">Sepal Length in mm.</td><td class=\"double\">58.433333333</td><td class=\"double\">8.2806612798</td></tr>\n",
       "<tr><td class=\"char\">PetalLength</td><td class=\"char\">Petal Length in mm.</td><td class=\"double\">37.58</td><td class=\"double\">17.652982333</td></tr>\n",
       "<tr><td class=\"char\">PetalWidth</td><td class=\"char\">Petal Width in mm.</td><td class=\"double\">11.993333333</td><td class=\"double\">7.6223766896</td></tr>\n",
       "</tbody>\n",
       "</table><table class=\"sas-dataframe\">\n",
       "<colgroup><col class=\"char\" /><col class=\"char\" /><col class=\"double\" /><col class=\"double\" /><col class=\"double\" /><col class=\"double\" /></colgroup>\n",
       "<thead>\n",
       "<tr><th colspan=\"6\">Correlation Matrix</th></tr>\n",
       "<th class=\"char\">Variable</th>\n",
       "<th class=\"char\">Label</th>\n",
       "<th class=\"double\">SepalWidth</th>\n",
       "<th class=\"double\">SepalLength</th>\n",
       "<th class=\"double\">PetalLength</th>\n",
       "<th class=\"double\">PetalWidth</th>\n",
       "</thead>\n",
       "<tbody>\n",
       "<tr><td class=\"char\">SepalWidth</td><td class=\"char\">Sepal Width in mm.</td><td class=\"double\">1</td><td class=\"double\">-0.117569784</td><td class=\"double\">-0.428440104</td><td class=\"double\">-0.366125933</td></tr>\n",
       "<tr><td class=\"char\">SepalLength</td><td class=\"char\">Sepal Length in mm.</td><td class=\"double\">-0.117569784</td><td class=\"double\">1</td><td class=\"double\">0.8717537759</td><td class=\"double\">0.8179411263</td></tr>\n",
       "<tr><td class=\"char\">PetalLength</td><td class=\"char\">Petal Length in mm.</td><td class=\"double\">-0.428440104</td><td class=\"double\">0.8717537759</td><td class=\"double\">1</td><td class=\"double\">0.9628654314</td></tr>\n",
       "<tr><td class=\"char\">PetalWidth</td><td class=\"char\">Petal Width in mm.</td><td class=\"double\">-0.366125933</td><td class=\"double\">0.8179411263</td><td class=\"double\">0.9628654314</td><td class=\"double\">1</td></tr>\n",
       "</tbody>\n",
       "</table><table class=\"sas-dataframe\">\n",
       "<colgroup><col class=\"int32\" /><col class=\"double\" /><col class=\"double\" /><col class=\"double\" /><col class=\"double\" /></colgroup>\n",
       "<thead>\n",
       "<tr><th colspan=\"5\">Eigenvalues</th></tr>\n",
       "<th class=\"int32\">Number</th>\n",
       "<th class=\"double\">Eigenvalue</th>\n",
       "<th class=\"double\">Difference</th>\n",
       "<th class=\"double\">Proportion</th>\n",
       "<th class=\"double\">Cumulative</th>\n",
       "</thead>\n",
       "<tbody>\n",
       "<tr><td class=\"int32\">1</td><td class=\"double\">2.9184978165</td><td class=\"double\">2.0044673451</td><td class=\"double\">0.7296244541</td><td class=\"double\">0.7296244541</td></tr>\n",
       "<tr><td class=\"int32\">2</td><td class=\"double\">0.9140304715</td><td class=\"double\">0.7672735959</td><td class=\"double\">0.2285076179</td><td class=\"double\">0.958132072</td></tr>\n",
       "<tr><td class=\"int32\">3</td><td class=\"double\">0.1467568756</td><td class=\"double\">0.1260420391</td><td class=\"double\">0.0366892189</td><td class=\"double\">0.9948212909</td></tr>\n",
       "<tr><td class=\"int32\">4</td><td class=\"double\">0.0207148364</td><td class=\"double\">nan</td><td class=\"double\">0.0051787091</td><td class=\"double\">1</td></tr>\n",
       "</tbody>\n",
       "</table><table class=\"sas-dataframe\">\n",
       "<colgroup><col class=\"char\" /><col class=\"char\" /><col class=\"double\" /><col class=\"double\" /><col class=\"double\" /><col class=\"double\" /></colgroup>\n",
       "<thead>\n",
       "<tr><th colspan=\"6\">Eigenvectors</th></tr>\n",
       "<th class=\"char\">Variable</th>\n",
       "<th class=\"char\">Label</th>\n",
       "<th class=\"double\">Prin1</th>\n",
       "<th class=\"double\">Prin2</th>\n",
       "<th class=\"double\">Prin3</th>\n",
       "<th class=\"double\">Prin4</th>\n",
       "</thead>\n",
       "<tbody>\n",
       "<tr><td class=\"char\">SepalWidth</td><td class=\"char\">Sepal Width in mm.</td><td class=\"double\">-0.269347443</td><td class=\"double\">0.9232956595</td><td class=\"double\">0.2443817795</td><td class=\"double\">0.1235096196</td></tr>\n",
       "<tr><td class=\"char\">SepalLength</td><td class=\"char\">Sepal Length in mm.</td><td class=\"double\">0.5210659147</td><td class=\"double\">0.3774176156</td><td class=\"double\">-0.719566353</td><td class=\"double\">-0.26128628</td></tr>\n",
       "<tr><td class=\"char\">PetalLength</td><td class=\"char\">Petal Length in mm.</td><td class=\"double\">0.5804130958</td><td class=\"double\">0.0244916091</td><td class=\"double\">0.1421263693</td><td class=\"double\">0.8014492463</td></tr>\n",
       "<tr><td class=\"char\">PetalWidth</td><td class=\"char\">Petal Width in mm.</td><td class=\"double\">0.5648565358</td><td class=\"double\">0.066941987</td><td class=\"double\">0.6342727371</td><td class=\"double\">-0.523597135</td></tr>\n",
       "</tbody>\n",
       "</table><table class=\"sas-dataframe\">\n",
       "<colgroup><col class=\"char\" /><col class=\"double\" /><col class=\"double\" /></colgroup>\n",
       "<thead>\n",
       "<tr><th colspan=\"3\">Timing</th></tr>\n",
       "<th class=\"char\">Task</th>\n",
       "<th class=\"double\">Time</th>\n",
       "<th class=\"double\">Relative Time</th>\n",
       "</thead>\n",
       "<tbody>\n",
       "<tr><td class=\"char\">Setup and Parsing</td><td class=\"double\">0.0013668537</td><td class=\"double\">0.1899224806</td></tr>\n",
       "<tr><td class=\"char\">Computing Moments</td><td class=\"double\">0.0002660751</td><td class=\"double\">0.0369707812</td></tr>\n",
       "<tr><td class=\"char\">Computing Principal Components</td><td class=\"double\">0.0011160374</td><td class=\"double\">0.1550718876</td></tr>\n",
       "<tr><td class=\"char\">Producing Output Data</td><td class=\"double\">0.004442215</td><td class=\"double\">0.61723978</td></tr>\n",
       "<tr><td class=\"char\">Cleanup</td><td class=\"double\">1.9073486E-6</td><td class=\"double\">0.0002650235</td></tr>\n",
       "<tr><td class=\"char\">Total</td><td class=\"double\">0.0071969032</td><td class=\"double\">1</td></tr>\n",
       "</tbody>\n",
       "</table><table class=\"sas-dataframe\">\n",
       "<colgroup><col class=\"varchar\" /><col class=\"varchar\" /><col class=\"varchar\" /><col class=\"int64\" /><col class=\"int64\" /><col class=\"object\" /></colgroup>\n",
       "<thead>\n",
       "<tr><th colspan=\"6\">Output CAS Tables</th></tr>\n",
       "<th class=\"varchar\">CAS Library</th>\n",
       "<th class=\"varchar\">Name</th>\n",
       "<th class=\"varchar\">Label</th>\n",
       "<th class=\"int64\">Number of Rows</th>\n",
       "<th class=\"int64\">Number of Columns</th>\n",
       "<th class=\"object\">Table</th>\n",
       "</thead>\n",
       "<tbody>\n",
       "<tr><td class=\"varchar\">CASUSER(viyauser)</td><td class=\"varchar\">scored_pca</td><td class=\"varchar\"></td><td class=\"int64\">150</td><td class=\"int64\">5</td><td class=\"object\">CASTable('scored_pca', caslib='CASUSER(viyauser)')</td></tr>\n",
       "</tbody>\n",
       "</table></div>"
      ]
     },
     "metadata": {},
     "output_type": "display_data"
    }
   ],
   "source": [
    "p = sess.pca.eig(\n",
    "  table={\"name\":\"iris\"},\n",
    "  inputs={\"sepallength\", \"sepalwidth\", \"petallength\", \"petalwidth\"},\n",
    "  output={\"casOut\" : {\"name\" : \"scored_pca\", \"replace\" : True}, \"copyVars\": {\"Species\"}},\n",
    ")\n",
    "\n",
    "render_html(p)"
   ]
  },
  {
   "cell_type": "markdown",
   "metadata": {},
   "source": [
    "### Output Scree Plot and Variance Explained Plot"
   ]
  },
  {
   "cell_type": "code",
   "execution_count": 8,
   "metadata": {
    "collapsed": false
   },
   "outputs": [
    {
     "data": {
      "image/png": "[encoded data removed]",
      "text/plain": [
       "<matplotlib.figure.Figure at 0x7f84c0509d68>"
      ]
     },
     "metadata": {},
     "output_type": "display_data"
    }
   ],
   "source": [
    "plt.figure(figsize=(14, 6))\n",
    "\n",
    "plt.subplot(1, 2, 1)\n",
    "plt.plot(p.Eigenvalues.Number, p.Eigenvalues.Eigenvalue)\n",
    "plt.xticks(np.arange(1, 5, 1.0))\n",
    "plt.xlabel(\"Principal Component\")\n",
    "plt.ylabel(\"Eigenvalue\")\n",
    "plt.grid(True)\n",
    "plt.title(\"Scree Plot\")\n",
    "\n",
    "plt.subplot(1, 2, 2)\n",
    "plt.plot(p.Eigenvalues.Number, p.Eigenvalues.Proportion, label=\"Proportion\")\n",
    "plt.plot(p.Eigenvalues.Number, p.Eigenvalues.Cumulative, linestyle='dashed', color=\"b\", label=\"Cumulative\")\n",
    "plt.xticks(np.arange(1, 5, 1.0))\n",
    "plt.xlabel(\"Principal Component\")\n",
    "plt.ylabel(\"Proportion\")\n",
    "plt.grid(True)\n",
    "plt.legend(loc=\"best\")\n",
    "plt.title(\"Variance Explained\");\n"
   ]
  },
  {
   "cell_type": "markdown",
   "metadata": {},
   "source": [
    "### Perform a cluster analysis"
   ]
  },
  {
   "cell_type": "code",
   "execution_count": 9,
   "metadata": {
    "collapsed": false
   },
   "outputs": [
    {
     "name": "stdout",
     "output_type": "stream",
     "text": [
      "NOTE: Using SEED=1352617267.\n",
      "NOTE: Running for input data for K 3.\n",
      "NOTE: Clustering is finished. STOPVALUE is satisfied for STOPCRITERION=CLUSTER_CHANGE.\n"
     ]
    },
    {
     "data": {
      "text/html": [
       "\n",
       "    <style type=\"text/css\">\n",
       "    div.cas-results {\n",
       "        overflow-x: auto;\n",
       "    }\n",
       "    div.cas-results > * {\n",
       "        margin-left: auto !important;\n",
       "        margin-right: auto !important;\n",
       "    }\n",
       "    div.cas-results .sas-dataframe th[colspan],\n",
       "    div.cas-results .byline {\n",
       "        text-align: center;\n",
       "        font-size: 110%;\n",
       "    }\n",
       "    div.cas-results .sas-dataframe > tbody > tr:nth-child(even) {\n",
       "        background-color: #f8f8f8;\n",
       "    }\n",
       "    div.cas-results .sas-dataframe td,\n",
       "    div.cas-results .sas-dataframe th {\n",
       "        border: 1px solid #aaaaaa;\n",
       "        padding: 5px 10px;\n",
       "    }\n",
       "    div.cas-results .sas-dataframe th {\n",
       "        background-color: #f0f0f0;\n",
       "    }\n",
       "    div.cas-results .sas-dataframe .double,\n",
       "    div.cas-results .sas-dataframe .int32,\n",
       "    div.cas-results .sas-dataframe .int64,\n",
       "    div.cas-results .sas-dataframe .decsext,\n",
       "    div.cas-results .sas-dataframe .decquad {\n",
       "        text-align: right;\n",
       "    }\n",
       "    </style>\n",
       "<div class=\"cas-results\"><pre>{'outputNObs': 150.0, 'outputNVars': 5}</pre><table class=\"sas-dataframe\">\n",
       "<colgroup><col class=\"char\" /><col class=\"double\" /></colgroup>\n",
       "<thead>\n",
       "<tr><th colspan=\"2\">Number of Observations</th></tr>\n",
       "<th class=\"char\">Type</th>\n",
       "<th class=\"double\">N</th>\n",
       "</thead>\n",
       "<tbody>\n",
       "<tr><td class=\"char\">Number of Observations Read</td><td class=\"double\">150</td></tr>\n",
       "<tr><td class=\"char\">Number of Observations Used</td><td class=\"double\">150</td></tr>\n",
       "</tbody>\n",
       "</table><table class=\"sas-dataframe\">\n",
       "<colgroup><col class=\"char\" /><col class=\"char\" /></colgroup>\n",
       "<thead>\n",
       "<tr><th colspan=\"2\">Model Information</th></tr>\n",
       "<th class=\"char\">Parameter</th>\n",
       "<th class=\"char\">Setting</th>\n",
       "</thead>\n",
       "<tbody>\n",
       "<tr><td class=\"char\">Clustering Algorithm</td><td class=\"char\">K-means</td></tr>\n",
       "<tr><td class=\"char\">Maximum Iterations</td><td class=\"char\">50</td></tr>\n",
       "<tr><td class=\"char\">Stop Criterion</td><td class=\"char\">Cluster Change</td></tr>\n",
       "<tr><td class=\"char\">Stop Criterion Value</td><td class=\"char\">0</td></tr>\n",
       "<tr><td class=\"char\">Clusters</td><td class=\"char\">3</td></tr>\n",
       "<tr><td class=\"char\">Initialization</td><td class=\"char\">Forgy</td></tr>\n",
       "<tr><td class=\"char\">Seed</td><td class=\"char\">1352617267</td></tr>\n",
       "<tr><td class=\"char\">Distance</td><td class=\"char\">Euclidean</td></tr>\n",
       "<tr><td class=\"char\">Standardization</td><td class=\"char\">Std</td></tr>\n",
       "<tr><td class=\"char\">Interval Imputation</td><td class=\"char\">Mean</td></tr>\n",
       "</tbody>\n",
       "</table><table class=\"sas-dataframe\">\n",
       "<colgroup><col class=\"char\" /><col class=\"double\" /><col class=\"double\" /></colgroup>\n",
       "<thead>\n",
       "<tr><th colspan=\"3\">Descriptive Statistics</th></tr>\n",
       "<th class=\"char\">Variable</th>\n",
       "<th class=\"double\">Mean</th>\n",
       "<th class=\"double\">StdDev</th>\n",
       "</thead>\n",
       "<tbody>\n",
       "<tr><td class=\"char\">Score1</td><td class=\"double\">1.776357E-16</td><td class=\"double\">1.7083611493</td></tr>\n",
       "<tr><td class=\"char\">Score2</td><td class=\"double\">-1.25825E-17</td><td class=\"double\">0.9560494085</td></tr>\n",
       "</tbody>\n",
       "</table><table class=\"sas-dataframe\">\n",
       "<colgroup><col class=\"char\" /><col class=\"int32\" /><col class=\"double\" /><col class=\"double\" /></colgroup>\n",
       "<thead>\n",
       "<tr><th colspan=\"4\">Within Cluster Statistics</th></tr>\n",
       "<th class=\"char\">Variable</th>\n",
       "<th class=\"int32\">Cluster</th>\n",
       "<th class=\"double\">Mean</th>\n",
       "<th class=\"double\">StdDev</th>\n",
       "</thead>\n",
       "<tbody>\n",
       "<tr><td class=\"char\">Score1</td><td class=\"int32\">1</td><td class=\"double\">0.3198365228</td><td class=\"double\">0.3925753318</td></tr>\n",
       "<tr><td class=\"char\"></td><td class=\"int32\">2</td><td class=\"double\">0.9500112626</td><td class=\"double\">0.3829150953</td></tr>\n",
       "<tr><td class=\"char\"></td><td class=\"int32\">3</td><td class=\"double\">-1.302290322</td><td class=\"double\">0.1176573752</td></tr>\n",
       "<tr><td class=\"char\">Score2</td><td class=\"int32\">1</td><td class=\"double\">-0.94516538</td><td class=\"double\">0.6555704662</td></tr>\n",
       "<tr><td class=\"char\"></td><td class=\"int32\">2</td><td class=\"double\">0.6141338816</td><td class=\"double\">0.6059552109</td></tr>\n",
       "<tr><td class=\"char\"></td><td class=\"int32\">3</td><td class=\"double\">0.3570763322</td><td class=\"double\">0.8996938556</td></tr>\n",
       "</tbody>\n",
       "</table><table class=\"sas-dataframe\">\n",
       "<colgroup><col class=\"char\" /><col class=\"double\" /><col class=\"double\" /></colgroup>\n",
       "<thead>\n",
       "<tr><th colspan=\"3\">Standardization</th></tr>\n",
       "<th class=\"char\">Variable</th>\n",
       "<th class=\"double\">Location</th>\n",
       "<th class=\"double\">Scale</th>\n",
       "</thead>\n",
       "<tbody>\n",
       "<tr><td class=\"char\">Score1</td><td class=\"double\">1.776357E-16</td><td class=\"double\">1.7083611493</td></tr>\n",
       "<tr><td class=\"char\">Score2</td><td class=\"double\">-1.25825E-17</td><td class=\"double\">0.9560494085</td></tr>\n",
       "</tbody>\n",
       "</table><table class=\"sas-dataframe\">\n",
       "<colgroup><col class=\"int32\" /><col class=\"double\" /><col class=\"double\" /><col class=\"double\" /><col class=\"double\" /><col class=\"double\" /><col class=\"double\" /><col class=\"double\" /><col class=\"double\" /></colgroup>\n",
       "<thead>\n",
       "<tr><th colspan=\"9\">Cluster Summary</th></tr>\n",
       "<th class=\"int32\">Cluster</th>\n",
       "<th class=\"double\">Frequency</th>\n",
       "<th class=\"double\">MinDist</th>\n",
       "<th class=\"double\">MaxDist</th>\n",
       "<th class=\"double\">AvgDist</th>\n",
       "<th class=\"double\">SSE</th>\n",
       "<th class=\"double\">StdDeviation</th>\n",
       "<th class=\"double\">NearestClus</th>\n",
       "<th class=\"double\">DBtwCentroids</th>\n",
       "</thead>\n",
       "<tbody>\n",
       "<tr><td class=\"int32\">1</td><td class=\"double\">51</td><td class=\"double\">0.1500550111</td><td class=\"double\">2.048301433</td><td class=\"double\">0.6684577065</td><td class=\"double\">29.194401367</td><td class=\"double\">0.7565971468</td><td class=\"double\">2</td><td class=\"double\">1.6818247199</td></tr>\n",
       "<tr><td class=\"int32\">2</td><td class=\"double\">50</td><td class=\"double\">0.0935477611</td><td class=\"double\">2.1601162349</td><td class=\"double\">0.5784669852</td><td class=\"double\">25.176478704</td><td class=\"double\">0.7095981779</td><td class=\"double\">1</td><td class=\"double\">1.6818247199</td></tr>\n",
       "<tr><td class=\"int32\">3</td><td class=\"double\">49</td><td class=\"double\">0.0621010283</td><td class=\"double\">2.4433804772</td><td class=\"double\">0.7273678809</td><td class=\"double\">39.518030007</td><td class=\"double\">0.8980481102</td><td class=\"double\">1</td><td class=\"double\">2.0801752276</td></tr>\n",
       "</tbody>\n",
       "</table><table class=\"sas-dataframe\">\n",
       "<colgroup><col class=\"double\" /><col class=\"double\" /><col class=\"double\" /><col class=\"double\" /><col class=\"double\" /><col class=\"double\" /></colgroup>\n",
       "<thead>\n",
       "<tr><th colspan=\"6\">Cluster Centroids</th></tr>\n",
       "<th class=\"double\">_ITERATION_</th>\n",
       "<th class=\"double\">_CLUSTER_ID_</th>\n",
       "<th class=\"double\">Score1</th>\n",
       "<th class=\"double\">Score2</th>\n",
       "<th class=\"double\">Standard: Score1</th>\n",
       "<th class=\"double\">Standard: Score2</th>\n",
       "</thead>\n",
       "<tbody>\n",
       "<tr><td class=\"double\">7</td><td class=\"double\">1</td><td class=\"double\">0.5463962897</td><td class=\"double\">-0.903624802</td><td class=\"double\">0.3198365228</td><td class=\"double\">-0.94516538</td></tr>\n",
       "<tr><td class=\"double\">7</td><td class=\"double\">2</td><td class=\"double\">1.6229623325</td><td class=\"double\">0.5871423342</td><td class=\"double\">0.9500112626</td><td class=\"double\">0.6141338816</td></tr>\n",
       "<tr><td class=\"double\">7</td><td class=\"double\">3</td><td class=\"double\">-2.224782192</td><td class=\"double\">0.3413826162</td><td class=\"double\">-1.302290322</td><td class=\"double\">0.3570763322</td></tr>\n",
       "</tbody>\n",
       "</table><table class=\"sas-dataframe\">\n",
       "<colgroup><col class=\"int32\" /><col class=\"double\" /><col class=\"double\" /><col class=\"double\" /></colgroup>\n",
       "<thead>\n",
       "<tr><th colspan=\"4\">Iteration History</th></tr>\n",
       "<th class=\"int32\">IterationNum</th>\n",
       "<th class=\"double\">IterationSSE</th>\n",
       "<th class=\"double\">SSEChange</th>\n",
       "<th class=\"double\">StopCriterion</th>\n",
       "</thead>\n",
       "<tbody>\n",
       "<tr><td class=\"int32\">0</td><td class=\"double\">184.19661217</td><td class=\"double\">nan</td><td class=\"double\">nan</td></tr>\n",
       "<tr><td class=\"int32\">1</td><td class=\"double\">168.9122406</td><td class=\"double\">-15.28437157</td><td class=\"double\">10.666666667</td></tr>\n",
       "<tr><td class=\"int32\">2</td><td class=\"double\">147.84589406</td><td class=\"double\">-21.06634655</td><td class=\"double\">15.333333333</td></tr>\n",
       "<tr><td class=\"int32\">3</td><td class=\"double\">109.84446143</td><td class=\"double\">-38.00143263</td><td class=\"double\">12</td></tr>\n",
       "<tr><td class=\"int32\">4</td><td class=\"double\">94.135190418</td><td class=\"double\">-15.70927101</td><td class=\"double\">1.3333333333</td></tr>\n",
       "<tr><td class=\"int32\">5</td><td class=\"double\">93.922880327</td><td class=\"double\">-0.212310091</td><td class=\"double\">0.6666666667</td></tr>\n",
       "<tr><td class=\"int32\">6</td><td class=\"double\">93.888910078</td><td class=\"double\">-0.033970248</td><td class=\"double\">0</td></tr>\n",
       "</tbody>\n",
       "</table><table class=\"sas-dataframe\">\n",
       "<colgroup><col class=\"varchar\" /><col class=\"varchar\" /><col class=\"varchar\" /><col class=\"int64\" /><col class=\"int64\" /><col class=\"object\" /></colgroup>\n",
       "<thead>\n",
       "<tr><th colspan=\"6\">Output CAS Tables</th></tr>\n",
       "<th class=\"varchar\">CAS Library</th>\n",
       "<th class=\"varchar\">Name</th>\n",
       "<th class=\"varchar\">Label</th>\n",
       "<th class=\"int64\">Number of Rows</th>\n",
       "<th class=\"int64\">Number of Columns</th>\n",
       "<th class=\"object\">Table</th>\n",
       "</thead>\n",
       "<tbody>\n",
       "<tr><td class=\"varchar\">CASUSER(viyauser)</td><td class=\"varchar\">kClusOutputScore</td><td class=\"varchar\"></td><td class=\"int64\">150</td><td class=\"int64\">5</td><td class=\"object\">CASTable('kClusOutputScore', caslib='CASUSER(viyauser)')</td></tr>\n",
       "</tbody>\n",
       "</table></div>"
      ]
     },
     "metadata": {},
     "output_type": "display_data"
    }
   ],
   "source": [
    "c = sess.clustering.kClus(\n",
    "  table={\"name\":\"scored_pca\"},\n",
    "  inputs={\"Score1\", \"Score2\"}, \n",
    "  output={\"casOut\" : {\"name\" : 'kClusOutputScore', \"replace\" : True}, \n",
    "          \"copyVars\": {\"Score1\", \"Score2\"}},\n",
    "  impute=\"MEAN\",\n",
    "  maxiters=50,\n",
    "  distance=\"EUCLIDEAN\",\n",
    "  standardize=\"STD\",\n",
    "  nClusters=3\n",
    ")\n",
    "\n",
    "render_html(c)"
   ]
  },
  {
   "cell_type": "markdown",
   "metadata": {},
   "source": [
    "### Retrieve scored and clustered data set for plotting"
   ]
  },
  {
   "cell_type": "code",
   "execution_count": 10,
   "metadata": {
    "collapsed": false
   },
   "outputs": [],
   "source": [
    "scoredKClus = sess.fetch(table=\"kClusOutputScore\", to=150)\n",
    "scoredKClus_df = pd.DataFrame(scoredKClus['Fetch'])"
   ]
  },
  {
   "cell_type": "code",
   "execution_count": 11,
   "metadata": {
    "collapsed": false,
    "scrolled": true
   },
   "outputs": [
    {
     "data": {
      "text/html": [
       "<div>\n",
       "<table border=\"1\" class=\"dataframe\">\n",
       "  <thead>\n",
       "    <tr style=\"text-align: right;\">\n",
       "      <th></th>\n",
       "      <th>Score1</th>\n",
       "      <th>Score2</th>\n",
       "      <th>_CLUSTER_ID_</th>\n",
       "      <th>_DISTANCE_</th>\n",
       "      <th>_STANDARDIZED_DISTANCE_</th>\n",
       "    </tr>\n",
       "  </thead>\n",
       "  <tbody>\n",
       "    <tr>\n",
       "      <th>0</th>\n",
       "      <td>-2.196475</td>\n",
       "      <td>0.009186</td>\n",
       "      <td>3.0</td>\n",
       "      <td>0.333401</td>\n",
       "      <td>0.347863</td>\n",
       "    </tr>\n",
       "    <tr>\n",
       "      <th>1</th>\n",
       "      <td>1.856484</td>\n",
       "      <td>-0.177953</td>\n",
       "      <td>2.0</td>\n",
       "      <td>0.799940</td>\n",
       "      <td>0.811858</td>\n",
       "    </tr>\n",
       "    <tr>\n",
       "      <th>2</th>\n",
       "      <td>1.071884</td>\n",
       "      <td>-0.207725</td>\n",
       "      <td>1.0</td>\n",
       "      <td>0.872017</td>\n",
       "      <td>0.790216</td>\n",
       "    </tr>\n",
       "    <tr>\n",
       "      <th>3</th>\n",
       "      <td>2.008083</td>\n",
       "      <td>0.611836</td>\n",
       "      <td>2.0</td>\n",
       "      <td>0.385912</td>\n",
       "      <td>0.226908</td>\n",
       "    </tr>\n",
       "    <tr>\n",
       "      <th>4</th>\n",
       "      <td>1.110428</td>\n",
       "      <td>-0.291945</td>\n",
       "      <td>1.0</td>\n",
       "      <td>0.832036</td>\n",
       "      <td>0.719965</td>\n",
       "    </tr>\n",
       "  </tbody>\n",
       "</table>\n",
       "</div>"
      ],
      "text/plain": [
       "     Score1    Score2  _CLUSTER_ID_  _DISTANCE_  _STANDARDIZED_DISTANCE_\n",
       "0 -2.196475  0.009186           3.0    0.333401                 0.347863\n",
       "1  1.856484 -0.177953           2.0    0.799940                 0.811858\n",
       "2  1.071884 -0.207725           1.0    0.872017                 0.790216\n",
       "3  2.008083  0.611836           2.0    0.385912                 0.226908\n",
       "4  1.110428 -0.291945           1.0    0.832036                 0.719965"
      ]
     },
     "execution_count": 11,
     "metadata": {},
     "output_type": "execute_result"
    }
   ],
   "source": [
    "scoredKClus_df.head()"
   ]
  },
  {
   "cell_type": "markdown",
   "metadata": {},
   "source": [
    "### Visualize the results by identifying clusters in a PCA plot"
   ]
  },
  {
   "cell_type": "code",
   "execution_count": 12,
   "metadata": {
    "collapsed": false
   },
   "outputs": [
    {
     "data": {
      "image/png": "[encoded data removed]",
      "text/plain": [
       "<matplotlib.figure.Figure at 0x7f84c02e6320>"
      ]
     },
     "metadata": {},
     "output_type": "display_data"
    }
   ],
   "source": [
    "plt.figure(figsize=(10,8))\n",
    "plt.scatter(scoredKClus_df['Score1'][scoredKClus_df['_CLUSTER_ID_'] == 1], \n",
    "            scoredKClus_df['Score2'][scoredKClus_df['_CLUSTER_ID_'] == 1], \n",
    "            c='r', label=\"Cluster_ID 1\")\n",
    "plt.scatter(scoredKClus_df['Score1'][scoredKClus_df['_CLUSTER_ID_'] == 2], \n",
    "            scoredKClus_df['Score2'][scoredKClus_df['_CLUSTER_ID_'] == 2], \n",
    "            c='b', label=\"Cluster_ID 2\")\n",
    "plt.scatter(scoredKClus_df['Score1'][scoredKClus_df['_CLUSTER_ID_'] == 3], \n",
    "            scoredKClus_df['Score2'][scoredKClus_df['_CLUSTER_ID_'] == 3], \n",
    "            c='g', label=\"Cluster_ID 3\")\n",
    "plt.xlabel(\"PC_1\")\n",
    "plt.ylabel(\"PC_2\")\n",
    "plt.grid(True)\n",
    "plt.legend(loc=\"lower right\")\n",
    "plt.title(\"Identify Clusters in a PCA Plot\");"
   ]
  },
  {
   "cell_type": "markdown",
   "metadata": {},
   "source": [
    "### End CAS session"
   ]
  },
  {
   "cell_type": "code",
   "execution_count": 13,
   "metadata": {
    "collapsed": true
   },
   "outputs": [],
   "source": [
    "sess.close()"
   ]
  },
  {
   "cell_type": "code",
   "execution_count": null,
   "metadata": {
    "collapsed": true
   },
   "outputs": [],
   "source": []
  }
 ],
 "metadata": {
  "anaconda-cloud": {},
  "kernelspec": {
   "display_name": "Python [default]",
   "language": "python",
   "name": "python3"
  },
  "language_info": {
   "codemirror_mode": {
    "name": "ipython",
    "version": 3
   },
   "file_extension": ".py",
   "mimetype": "text/x-python",
   "name": "python",
   "nbconvert_exporter": "python",
   "pygments_lexer": "ipython3",
   "version": "3.5.2"
  }
 },
 "nbformat": 4,
 "nbformat_minor": 0
}
