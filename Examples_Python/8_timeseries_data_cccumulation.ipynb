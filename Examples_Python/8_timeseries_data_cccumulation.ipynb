{
 "cells": [
  {
   "cell_type": "markdown",
   "metadata": {},
   "source": [
    "## This is the first in a series of examples provided to demonstrate the use of SAS Visual Forecasting actions to compose a program that             \n",
    "- loads transactional data,                                                          \n",
    "- accumulates the transactional data to time series,                                                    \n",
    "- optionally promotes the time series for pick up in other applications running on CAS                           \n",
    "                                  \n",
    "                                                                          \n",
    "The programs are written to execute in the CAS in-memory distributed computing engine in the SAS Viya environment.                            \n",
    "                                                                          \n",
    "This first example shows how to load local data into CAS             "
   ]
  },
  {
   "cell_type": "markdown",
   "metadata": {},
   "source": [
    "## load packages"
   ]
  },
  {
   "cell_type": "code",
   "execution_count": null,
   "metadata": {
    "collapsed": true
   },
   "outputs": [],
   "source": [
    "from swat import *"
   ]
  },
  {
   "cell_type": "markdown",
   "metadata": {},
   "source": [
    "# CAS server connection details"
   ]
  },
  {
   "cell_type": "code",
   "execution_count": null,
   "metadata": {
    "collapsed": true
   },
   "outputs": [],
   "source": [
    "cashost='localhost'\n",
    "casport=5570\n",
    "casauth='~/.authinfo'"
   ]
  },
  {
   "cell_type": "markdown",
   "metadata": {},
   "source": [
    "# Start CAS session"
   ]
  },
  {
   "cell_type": "code",
   "execution_count": null,
   "metadata": {
    "collapsed": true
   },
   "outputs": [],
   "source": [
    "sess = CAS(cashost, casport, authinfo=casauth, caslib=\"casuser\")"
   ]
  },
  {
   "cell_type": "markdown",
   "metadata": {},
   "source": [
    "# Details for local data to be loaded into CAS"
   ]
  },
  {
   "cell_type": "code",
   "execution_count": null,
   "metadata": {
    "collapsed": true
   },
   "outputs": [],
   "source": [
    "indata_dir=\"/opt/sasinside/DemoData\"\n",
    "indata=\"pricedata\""
   ]
  },
  {
   "cell_type": "markdown",
   "metadata": {},
   "source": [
    "# load the table action set"
   ]
  },
  {
   "cell_type": "code",
   "execution_count": null,
   "metadata": {
    "collapsed": false
   },
   "outputs": [],
   "source": [
    "sess.loadactionset(actionset=\"table\")\n",
    "#sess.actionsetinfo(all='true')"
   ]
  },
  {
   "cell_type": "markdown",
   "metadata": {},
   "source": [
    "# load the timedata action set"
   ]
  },
  {
   "cell_type": "code",
   "execution_count": null,
   "metadata": {
    "collapsed": false
   },
   "outputs": [],
   "source": [
    "sess.loadactionset(actionset=\"timedata\")"
   ]
  },
  {
   "cell_type": "markdown",
   "metadata": {},
   "source": [
    "# load data into CAS\n",
    "\n",
    "## For execution in the CAS engine, data must be loaded from the local data set to a CAS table.   \n",
    "## This code first checks to see if the specified CAS table exists and then loads data from local ## data sets.      "
   ]
  },
  {
   "cell_type": "code",
   "execution_count": null,
   "metadata": {
    "collapsed": false
   },
   "outputs": [],
   "source": [
    "if not sess.table.tableExists(table=indata).exists:\n",
    "    tbl = sess.upload_file(indata_dir+\"/\"+indata+\".sas7bdat\", casout={\"name\":indata})"
   ]
  },
  {
   "cell_type": "code",
   "execution_count": null,
   "metadata": {
    "collapsed": false
   },
   "outputs": [],
   "source": [
    "tbl.head(10)"
   ]
  },
  {
   "cell_type": "markdown",
   "metadata": {},
   "source": [
    "# accumulate transactonal sale, price and discount series corresponding to productlines in pricedata to a monthly interval"
   ]
  },
  {
   "cell_type": "code",
   "execution_count": null,
   "metadata": {
    "collapsed": false,
    "scrolled": true
   },
   "outputs": [],
   "source": [
    "sess.timedata.timeSeries(\n",
    "   table={\"name\":indata, \"groupBy\":{\"regionName\", \"productLine\"}},\n",
    "   series= [{\"name\":\"sale\", \"acc\":\"sum\"}, {\"name\":\"price\", \"acc\":\"avg\"}, {\"name\":\"discount\", \"acc\":\"avg\"}],\n",
    "   timeid='date',\n",
    "   interval='month',\n",
    "   casOut={\"name\":\"pricemidpy\", \"replace\":True}\n",
    "   )"
   ]
  },
  {
   "cell_type": "code",
   "execution_count": null,
   "metadata": {
    "collapsed": false
   },
   "outputs": [],
   "source": [
    "sess.table.tableinfo(caslib='casuser')"
   ]
  },
  {
   "cell_type": "markdown",
   "metadata": {},
   "source": [
    "# optional, promote the priceline timeseries for pickup in other CAS applications"
   ]
  },
  {
   "cell_type": "code",
   "execution_count": null,
   "metadata": {
    "collapsed": false
   },
   "outputs": [],
   "source": [
    "if not sess.table.tableExists(table='PRICEMIDPY').exists:\n",
    "    sess.table.promote('PRICEMIDPY')"
   ]
  },
  {
   "cell_type": "markdown",
   "metadata": {},
   "source": [
    "# end CAS session"
   ]
  },
  {
   "cell_type": "code",
   "execution_count": null,
   "metadata": {
    "collapsed": true
   },
   "outputs": [],
   "source": [
    "sess.close()"
   ]
  },
  {
   "cell_type": "code",
   "execution_count": null,
   "metadata": {
    "collapsed": true
   },
   "outputs": [],
   "source": []
  },
  {
   "cell_type": "code",
   "execution_count": null,
   "metadata": {
    "collapsed": true
   },
   "outputs": [],
   "source": []
  }
 ],
 "metadata": {
  "kernelspec": {
   "display_name": "Python 3",
   "language": "python",
   "name": "python3"
  },
  "language_info": {
   "codemirror_mode": {
    "name": "ipython",
    "version": 3
   },
   "file_extension": ".py",
   "mimetype": "text/x-python",
   "name": "python",
   "nbconvert_exporter": "python",
   "pygments_lexer": "ipython3",
   "version": "3.6.0"
  }
 },
 "nbformat": 4,
 "nbformat_minor": 2
}
