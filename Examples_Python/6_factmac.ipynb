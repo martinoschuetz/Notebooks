{
 "cells": [
  {
   "cell_type": "markdown",
   "metadata": {},
   "source": [
    "This example showcases a sample Machine Learning pipeline for supervised learning using a Factorization Machine on a ratings data set. A Factorization Machine performs matrix factorization that can be used for recommendation or predictive modelling with sparse transactional data.                                                  \n",
    "                                                                      \n",
    "The steps include:                                                                                                             \n",
    "1. PREPARE AND EXPLORE  \n",
    "  a) Load data set into CAS  \n",
    "<br>\n",
    "2. PERFORM SUPERVISED LEARNING  \n",
    "  a) Fit a model by using Factorization Machine for a sample of reviews data set  \n",
    "<br>  \n",
    "3. EVALUATE AND IMPLEMENT  \n",
    "  a) Score the data using Factorization Machine model  \n",
    "  b) Assess model performance                                      "
   ]
  },
  {
   "cell_type": "markdown",
   "metadata": {},
   "source": [
    "### Import packages"
   ]
  },
  {
   "cell_type": "code",
   "execution_count": 1,
   "metadata": {
    "collapsed": true
   },
   "outputs": [],
   "source": [
    "from swat import *\n",
    "import matplotlib.pyplot as plt\n",
    "%matplotlib inline"
   ]
  },
  {
   "cell_type": "markdown",
   "metadata": {},
   "source": [
    "### CAS Server connection details"
   ]
  },
  {
   "cell_type": "code",
   "execution_count": 2,
   "metadata": {
    "collapsed": true
   },
   "outputs": [],
   "source": [
    "cashost='localhost'\n",
    "casport=5570\n",
    "casauth='~/.authinfo'"
   ]
  },
  {
   "cell_type": "markdown",
   "metadata": {},
   "source": [
    "### Start CAS session"
   ]
  },
  {
   "cell_type": "code",
   "execution_count": 3,
   "metadata": {
    "collapsed": true
   },
   "outputs": [],
   "source": [
    "sess = CAS(cashost, casport, authinfo=casauth, caslib=\"casuser\")"
   ]
  },
  {
   "cell_type": "markdown",
   "metadata": {},
   "source": [
    "### Import action sets"
   ]
  },
  {
   "cell_type": "code",
   "execution_count": 4,
   "metadata": {
    "collapsed": false
   },
   "outputs": [
    {
     "name": "stdout",
     "output_type": "stream",
     "text": [
      "NOTE: Added action set 'factmac'.\n",
      "NOTE: Added action set 'astore'.\n"
     ]
    },
    {
     "data": {
      "text/html": [
       "<div class=\"cas-results-key\"><b>&#167; actionset</b></div>\n",
       "<div class=\"cas-results-body\">\n",
       "<div>astore</div>\n",
       "</div>\n",
       "<div class=\"cas-output-area\"></div>\n",
       "<p class=\"cas-results-performance\"><small><span class=\"cas-elapsed\">elapsed 0.000372s</span> &#183; <span class=\"cas-memory\">mem 0.0291MB</span></small></p>"
      ],
      "text/plain": [
       "[actionset]\n",
       "\n",
       " 'astore'\n",
       "\n",
       "+ Elapsed: 0.000372s, mem: 0.0291mb"
      ]
     },
     "execution_count": 4,
     "metadata": {},
     "output_type": "execute_result"
    }
   ],
   "source": [
    "sess.loadactionset(actionset=\"factmac\")\n",
    "sess.loadactionset(actionset=\"astore\")"
   ]
  },
  {
   "cell_type": "markdown",
   "metadata": {},
   "source": [
    "### Load data into CAS  "
   ]
  },
  {
   "cell_type": "code",
   "execution_count": 5,
   "metadata": {
    "collapsed": false
   },
   "outputs": [
    {
     "name": "stdout",
     "output_type": "stream",
     "text": [
      "NOTE: Cloud Analytic Services made the uploaded file available as table REVIEWS500 in caslib CASUSER(viyauser).\n",
      "NOTE: The table REVIEWS500 has been created in caslib CASUSER(viyauser) from binary data uploaded to Cloud Analytic Services.\n",
      "NOTE: Cloud Analytic Services made the uploaded file available as table REVIEWS_USER99 in caslib CASUSER(viyauser).\n",
      "NOTE: The table REVIEWS_USER99 has been created in caslib CASUSER(viyauser) from binary data uploaded to Cloud Analytic Services.\n"
     ]
    }
   ],
   "source": [
    "# Load train data\n",
    "indata_dir=\"/home/viyauser/casuser/data\"\n",
    "#indata_dir = \"data\"\n",
    "if not sess.table.tableExists(table=\"reviews500\").exists:\n",
    "    sess.upload_file(indata_dir+\"/reviews500.sas7bdat\", casout={\"name\":\"reviews500\"})\n",
    "\n",
    "# Load score data\n",
    "if not sess.table.tableExists(table=\"reviews_user99\").exists:\n",
    "    sess.upload_file(indata_dir+\"/reviews_user99.sas7bdat\", casout={\"name\":\"reviews_user99\"})"
   ]
  },
  {
   "cell_type": "markdown",
   "metadata": {},
   "source": [
    "### Modeling:                                                            \n",
    "The Factorization Machine will run with the following settings:  \n",
    "  -The optimization will stops after 20 iterations  \n",
    "  -The model will have 5 factors  \n",
    "  -The optimization learning step is 0.15                             "
   ]
  },
  {
   "cell_type": "code",
   "execution_count": 6,
   "metadata": {
    "collapsed": false
   },
   "outputs": [
    {
     "name": "stdout",
     "output_type": "stream",
     "text": [
      "NOTE: Using SEED=12345.\n",
      "NOTE: Beginning data reading and levelization...\n",
      "NOTE: Data reading and levelization complete.\n",
      "NOTE: Beginning optimization of the factorization machine model...\n",
      "NOTE: >>> Progress: completed iteration 1\n",
      "NOTE: >>> Progress: completed iteration 2\n",
      "NOTE: >>> Progress: completed iteration 3\n",
      "NOTE: >>> Progress: completed iteration 4\n",
      "NOTE: >>> Progress: completed iteration 5\n",
      "NOTE: >>> Progress: completed iteration 6\n",
      "NOTE: >>> Progress: completed iteration 7\n",
      "NOTE: >>> Progress: completed iteration 8\n",
      "NOTE: >>> Progress: completed iteration 9\n",
      "NOTE: >>> Progress: completed iteration 10\n",
      "NOTE: >>> Progress: completed iteration 11\n",
      "NOTE: >>> Progress: completed iteration 12\n",
      "NOTE: >>> Progress: completed iteration 13\n",
      "NOTE: >>> Progress: completed iteration 14\n",
      "NOTE: >>> Progress: completed iteration 15\n",
      "NOTE: >>> Progress: completed iteration 16\n",
      "NOTE: >>> Progress: completed iteration 17\n",
      "NOTE: >>> Progress: completed iteration 18\n",
      "NOTE: >>> Progress: completed iteration 19\n",
      "NOTE: >>> Progress: completed iteration 20\n",
      "NOTE: Optimization complete.\n",
      "NOTE: Wrote 719061 bytes to the savestate file fm_astore_model.\n"
     ]
    },
    {
     "data": {
      "text/html": [
       "<div class=\"cas-results-key\"><b>&#167; ModelInfo</b></div>\n",
       "<div class=\"cas-results-body\">\n",
       "<div>\n",
       "<table border=\"1\" class=\"dataframe\"><caption>Model Information</caption>\n",
       "  <thead>\n",
       "    <tr style=\"text-align: right;\">\n",
       "      <th title=\"\"></th>\n",
       "      <th title=\"Description\">Description</th>\n",
       "      <th title=\"Value\">Value</th>\n",
       "    </tr>\n",
       "  </thead>\n",
       "  <tbody>\n",
       "    <tr>\n",
       "      <th>0</th>\n",
       "      <td>Maximum Iterations</td>\n",
       "      <td>20.00</td>\n",
       "    </tr>\n",
       "    <tr>\n",
       "      <th>1</th>\n",
       "      <td>Number of Factors</td>\n",
       "      <td>5.00</td>\n",
       "    </tr>\n",
       "    <tr>\n",
       "      <th>2</th>\n",
       "      <td>Learning Step</td>\n",
       "      <td>0.15</td>\n",
       "    </tr>\n",
       "    <tr>\n",
       "      <th>3</th>\n",
       "      <td>Seed</td>\n",
       "      <td>12345.00</td>\n",
       "    </tr>\n",
       "  </tbody>\n",
       "</table>\n",
       "</div>\n",
       "</div>\n",
       "<div class=\"cas-results-key\"><hr/><b>&#167; NObs</b></div>\n",
       "<div class=\"cas-results-body\">\n",
       "<div>\n",
       "<table border=\"1\" class=\"dataframe\"><caption>Number of Observations</caption>\n",
       "  <thead>\n",
       "    <tr style=\"text-align: right;\">\n",
       "      <th title=\"\"></th>\n",
       "      <th title=\"Type\">Type</th>\n",
       "      <th title=\"N\">N</th>\n",
       "    </tr>\n",
       "  </thead>\n",
       "  <tbody>\n",
       "    <tr>\n",
       "      <th>0</th>\n",
       "      <td>Number of Observations Read</td>\n",
       "      <td>500034.0</td>\n",
       "    </tr>\n",
       "    <tr>\n",
       "      <th>1</th>\n",
       "      <td>Number of Observations Used</td>\n",
       "      <td>500034.0</td>\n",
       "    </tr>\n",
       "  </tbody>\n",
       "</table>\n",
       "</div>\n",
       "</div>\n",
       "<div class=\"cas-results-key\"><hr/><b>&#167; DescStatsInt</b></div>\n",
       "<div class=\"cas-results-body\">\n",
       "<div>\n",
       "<table border=\"1\" class=\"dataframe\"><caption>Interval Variables</caption>\n",
       "  <thead>\n",
       "    <tr style=\"text-align: right;\">\n",
       "      <th title=\"\"></th>\n",
       "      <th title=\"Variable\">Variable</th>\n",
       "      <th title=\"Mean\">Mean</th>\n",
       "      <th title=\"Std Dev\">StdDev</th>\n",
       "    </tr>\n",
       "  </thead>\n",
       "  <tbody>\n",
       "    <tr>\n",
       "      <th>0</th>\n",
       "      <td>rating</td>\n",
       "      <td>3.501254</td>\n",
       "      <td>1.323776</td>\n",
       "    </tr>\n",
       "  </tbody>\n",
       "</table>\n",
       "</div>\n",
       "</div>\n",
       "<div class=\"cas-results-key\"><hr/><b>&#167; DescStatsNom</b></div>\n",
       "<div class=\"cas-results-body\">\n",
       "<div>\n",
       "<table border=\"1\" class=\"dataframe\"><caption>Nominal Variables</caption>\n",
       "  <thead>\n",
       "    <tr style=\"text-align: right;\">\n",
       "      <th title=\"\"></th>\n",
       "      <th title=\"Variable\">Variable</th>\n",
       "      <th title=\"Number of Levels\">NumLevels</th>\n",
       "    </tr>\n",
       "  </thead>\n",
       "  <tbody>\n",
       "    <tr>\n",
       "      <th>0</th>\n",
       "      <td>user</td>\n",
       "      <td>500.0</td>\n",
       "    </tr>\n",
       "    <tr>\n",
       "      <th>1</th>\n",
       "      <td>item</td>\n",
       "      <td>10000.0</td>\n",
       "    </tr>\n",
       "  </tbody>\n",
       "</table>\n",
       "</div>\n",
       "</div>\n",
       "<div class=\"cas-results-key\"><hr/><b>&#167; OptIterHistory</b></div>\n",
       "<div class=\"cas-results-body\">\n",
       "<div>\n",
       "<table border=\"1\" class=\"dataframe\">\n",
       "  <thead>\n",
       "    <tr style=\"text-align: right;\">\n",
       "      <th title=\"\"></th>\n",
       "      <th title=\"Progress\">Progress</th>\n",
       "      <th title=\"Objective\">Objective</th>\n",
       "      <th title=\"Loss\">Loss</th>\n",
       "    </tr>\n",
       "  </thead>\n",
       "  <tbody>\n",
       "    <tr>\n",
       "      <th>0</th>\n",
       "      <td>1.0</td>\n",
       "      <td>0.797921</td>\n",
       "      <td>0.797921</td>\n",
       "    </tr>\n",
       "    <tr>\n",
       "      <th>1</th>\n",
       "      <td>2.0</td>\n",
       "      <td>0.493202</td>\n",
       "      <td>0.493202</td>\n",
       "    </tr>\n",
       "    <tr>\n",
       "      <th>2</th>\n",
       "      <td>3.0</td>\n",
       "      <td>0.448072</td>\n",
       "      <td>0.448072</td>\n",
       "    </tr>\n",
       "    <tr>\n",
       "      <th>3</th>\n",
       "      <td>4.0</td>\n",
       "      <td>0.428111</td>\n",
       "      <td>0.428111</td>\n",
       "    </tr>\n",
       "    <tr>\n",
       "      <th>4</th>\n",
       "      <td>5.0</td>\n",
       "      <td>0.414230</td>\n",
       "      <td>0.414230</td>\n",
       "    </tr>\n",
       "    <tr>\n",
       "      <th>5</th>\n",
       "      <td>6.0</td>\n",
       "      <td>0.412651</td>\n",
       "      <td>0.412651</td>\n",
       "    </tr>\n",
       "    <tr>\n",
       "      <th>6</th>\n",
       "      <td>7.0</td>\n",
       "      <td>0.404533</td>\n",
       "      <td>0.404533</td>\n",
       "    </tr>\n",
       "    <tr>\n",
       "      <th>7</th>\n",
       "      <td>8.0</td>\n",
       "      <td>0.403440</td>\n",
       "      <td>0.403440</td>\n",
       "    </tr>\n",
       "    <tr>\n",
       "      <th>8</th>\n",
       "      <td>9.0</td>\n",
       "      <td>0.399384</td>\n",
       "      <td>0.399384</td>\n",
       "    </tr>\n",
       "    <tr>\n",
       "      <th>9</th>\n",
       "      <td>10.0</td>\n",
       "      <td>0.401033</td>\n",
       "      <td>0.401033</td>\n",
       "    </tr>\n",
       "    <tr>\n",
       "      <th>10</th>\n",
       "      <td>11.0</td>\n",
       "      <td>0.398914</td>\n",
       "      <td>0.398914</td>\n",
       "    </tr>\n",
       "    <tr>\n",
       "      <th>11</th>\n",
       "      <td>12.0</td>\n",
       "      <td>0.397253</td>\n",
       "      <td>0.397253</td>\n",
       "    </tr>\n",
       "    <tr>\n",
       "      <th>12</th>\n",
       "      <td>13.0</td>\n",
       "      <td>0.396511</td>\n",
       "      <td>0.396511</td>\n",
       "    </tr>\n",
       "    <tr>\n",
       "      <th>13</th>\n",
       "      <td>14.0</td>\n",
       "      <td>0.396151</td>\n",
       "      <td>0.396151</td>\n",
       "    </tr>\n",
       "    <tr>\n",
       "      <th>14</th>\n",
       "      <td>15.0</td>\n",
       "      <td>0.396155</td>\n",
       "      <td>0.396155</td>\n",
       "    </tr>\n",
       "    <tr>\n",
       "      <th>15</th>\n",
       "      <td>16.0</td>\n",
       "      <td>0.397337</td>\n",
       "      <td>0.397337</td>\n",
       "    </tr>\n",
       "    <tr>\n",
       "      <th>16</th>\n",
       "      <td>17.0</td>\n",
       "      <td>0.396197</td>\n",
       "      <td>0.396197</td>\n",
       "    </tr>\n",
       "    <tr>\n",
       "      <th>17</th>\n",
       "      <td>18.0</td>\n",
       "      <td>0.396573</td>\n",
       "      <td>0.396573</td>\n",
       "    </tr>\n",
       "    <tr>\n",
       "      <th>18</th>\n",
       "      <td>19.0</td>\n",
       "      <td>0.398982</td>\n",
       "      <td>0.398982</td>\n",
       "    </tr>\n",
       "    <tr>\n",
       "      <th>19</th>\n",
       "      <td>20.0</td>\n",
       "      <td>0.396457</td>\n",
       "      <td>0.396457</td>\n",
       "    </tr>\n",
       "  </tbody>\n",
       "</table>\n",
       "</div>\n",
       "</div>\n",
       "<div class=\"cas-results-key\"><hr/><b>&#167; FinalLoss</b></div>\n",
       "<div class=\"cas-results-body\">\n",
       "<div>\n",
       "<table border=\"1\" class=\"dataframe\"><caption>Final Exact Loss</caption>\n",
       "  <thead>\n",
       "    <tr style=\"text-align: right;\">\n",
       "      <th title=\"\"></th>\n",
       "      <th title=\"Criterion\">Criterion</th>\n",
       "      <th title=\"Value\">Value</th>\n",
       "    </tr>\n",
       "  </thead>\n",
       "  <tbody>\n",
       "    <tr>\n",
       "      <th>0</th>\n",
       "      <td>MSE</td>\n",
       "      <td>0.405528</td>\n",
       "    </tr>\n",
       "    <tr>\n",
       "      <th>1</th>\n",
       "      <td>RMSE</td>\n",
       "      <td>0.636811</td>\n",
       "    </tr>\n",
       "  </tbody>\n",
       "</table>\n",
       "</div>\n",
       "</div>\n",
       "<div class=\"cas-output-area\"></div>\n",
       "<p class=\"cas-results-performance\"><small><span class=\"cas-elapsed\">elapsed 4.24s</span> &#183; <span class=\"cas-user\">user 22.9s</span> &#183; <span class=\"cas-sys\">sys 0.022s</span> &#183; <span class=\"cas-memory\">mem 20.1MB</span></small></p>"
      ],
      "text/plain": [
       "[ModelInfo]\n",
       "\n",
       " Model Information\n",
       " \n",
       "           Description     Value\n",
       " 0  Maximum Iterations     20.00\n",
       " 1   Number of Factors      5.00\n",
       " 2       Learning Step      0.15\n",
       " 3                Seed  12345.00\n",
       "\n",
       "[NObs]\n",
       "\n",
       " Number of Observations\n",
       " \n",
       "                           Type         N\n",
       " 0  Number of Observations Read  500034.0\n",
       " 1  Number of Observations Used  500034.0\n",
       "\n",
       "[DescStatsInt]\n",
       "\n",
       " Interval Variables\n",
       " \n",
       "   Variable      Mean    StdDev\n",
       " 0   rating  3.501254  1.323776\n",
       "\n",
       "[DescStatsNom]\n",
       "\n",
       " Nominal Variables\n",
       " \n",
       "   Variable  NumLevels\n",
       " 0     user      500.0\n",
       " 1     item    10000.0\n",
       "\n",
       "[OptIterHistory]\n",
       "\n",
       "     Progress  Objective      Loss\n",
       " 0        1.0   0.797921  0.797921\n",
       " 1        2.0   0.493202  0.493202\n",
       " 2        3.0   0.448072  0.448072\n",
       " 3        4.0   0.428111  0.428111\n",
       " 4        5.0   0.414230  0.414230\n",
       " 5        6.0   0.412651  0.412651\n",
       " 6        7.0   0.404533  0.404533\n",
       " 7        8.0   0.403440  0.403440\n",
       " 8        9.0   0.399384  0.399384\n",
       " 9       10.0   0.401033  0.401033\n",
       " 10      11.0   0.398914  0.398914\n",
       " 11      12.0   0.397253  0.397253\n",
       " 12      13.0   0.396511  0.396511\n",
       " 13      14.0   0.396151  0.396151\n",
       " 14      15.0   0.396155  0.396155\n",
       " 15      16.0   0.397337  0.397337\n",
       " 16      17.0   0.396197  0.396197\n",
       " 17      18.0   0.396573  0.396573\n",
       " 18      19.0   0.398982  0.398982\n",
       " 19      20.0   0.396457  0.396457\n",
       "\n",
       "[FinalLoss]\n",
       "\n",
       " Final Exact Loss\n",
       " \n",
       "   Criterion     Value\n",
       " 0       MSE  0.405528\n",
       " 1      RMSE  0.636811\n",
       "\n",
       "+ Elapsed: 4.24s, user: 22.9s, sys: 0.022s, mem: 20.1mb"
      ]
     },
     "execution_count": 6,
     "metadata": {},
     "output_type": "execute_result"
    }
   ],
   "source": [
    "sess.factmac.factmac(\n",
    "  table={\"name\":\"reviews500\"},\n",
    "  inputs={\"user\", \"item\"},\n",
    "  nominals={\"user\", \"item\"},\n",
    "  target=\"rating\",\n",
    "  seed=12345,\n",
    "  maxIter=20,\n",
    "  nFactors=5,\n",
    "  learnStep=0.15,\n",
    "  id={\"user\", \"item\", \"rating\"},\n",
    "  savestate={\"name\":\"fm_astore_model\", \"replace\":True}\n",
    ")\n"
   ]
  },
  {
   "cell_type": "markdown",
   "metadata": {},
   "source": [
    "### Score using ASTORE"
   ]
  },
  {
   "cell_type": "code",
   "execution_count": 7,
   "metadata": {
    "collapsed": false
   },
   "outputs": [
    {
     "data": {
      "text/html": [
       "<div class=\"cas-results-key\"><b>&#167; Timing</b></div>\n",
       "<div class=\"cas-results-body\">\n",
       "<div>\n",
       "<table border=\"1\" class=\"dataframe\"><caption>Task Timing</caption>\n",
       "  <thead>\n",
       "    <tr style=\"text-align: right;\">\n",
       "      <th title=\"\"></th>\n",
       "      <th title=\"Task\">Task</th>\n",
       "      <th title=\"Seconds\">Seconds</th>\n",
       "      <th title=\"Percent\">Percent</th>\n",
       "    </tr>\n",
       "  </thead>\n",
       "  <tbody>\n",
       "    <tr>\n",
       "      <th>0</th>\n",
       "      <td>Loading the Store</td>\n",
       "      <td>0.000013</td>\n",
       "      <td>0.000056</td>\n",
       "    </tr>\n",
       "    <tr>\n",
       "      <th>1</th>\n",
       "      <td>Creating the State</td>\n",
       "      <td>0.027757</td>\n",
       "      <td>0.121254</td>\n",
       "    </tr>\n",
       "    <tr>\n",
       "      <th>2</th>\n",
       "      <td>Scoring</td>\n",
       "      <td>0.201146</td>\n",
       "      <td>0.878685</td>\n",
       "    </tr>\n",
       "    <tr>\n",
       "      <th>3</th>\n",
       "      <td>Total</td>\n",
       "      <td>0.228917</td>\n",
       "      <td>1.000000</td>\n",
       "    </tr>\n",
       "  </tbody>\n",
       "</table>\n",
       "</div>\n",
       "</div>\n",
       "<div class=\"cas-output-area\"></div>\n",
       "<p class=\"cas-results-performance\"><small><span class=\"cas-elapsed\">elapsed 0.231s</span> &#183; <span class=\"cas-user\">user 0.031s</span> &#183; <span class=\"cas-sys\">sys 0.005s</span> &#183; <span class=\"cas-memory\">mem 12.1MB</span></small></p>"
      ],
      "text/plain": [
       "[Timing]\n",
       "\n",
       " Task Timing\n",
       " \n",
       "                  Task   Seconds   Percent\n",
       " 0   Loading the Store  0.000013  0.000056\n",
       " 1  Creating the State  0.027757  0.121254\n",
       " 2             Scoring  0.201146  0.878685\n",
       " 3               Total  0.228917  1.000000\n",
       "\n",
       "+ Elapsed: 0.231s, user: 0.031s, sys: 0.005s, mem: 12.1mb"
      ]
     },
     "execution_count": 7,
     "metadata": {},
     "output_type": "execute_result"
    }
   ],
   "source": [
    "# Scoring the reviews dataset for user 99 based on the model developed \n",
    "sess.astore.score(\n",
    "  table={\"name\":\"reviews_user99\"},\n",
    "  rstore={\"name\":\"fm_astore_model\"},\n",
    "  out={\"name\":\"reviews_user99_scored\", \"replace\":True}\n",
    ")"
   ]
  },
  {
   "cell_type": "markdown",
   "metadata": {},
   "source": [
    "### Plot predicted values"
   ]
  },
  {
   "cell_type": "code",
   "execution_count": 8,
   "metadata": {
    "collapsed": false
   },
   "outputs": [
    {
     "data": {
      "image/png": "[encoded data removed]",
      "text/plain": [
       "<matplotlib.figure.Figure at 0x7f9ce0c465c0>"
      ]
     },
     "metadata": {},
     "output_type": "display_data"
    }
   ],
   "source": [
    "# Plot the predicted vs actual ratings for the scored dataset\n",
    "plot_tbl=sess.CASTable(\"reviews_user99_scored\")\n",
    "plot_tbl.where=\"rating>0.0\"\n",
    "\n",
    "allRows=20000  # Assuming max rows in reviews_user99_scored table is <= 20,000\n",
    "plot_df=plot_tbl.fetch(to=allRows)['Fetch']\n",
    "plt.scatter(plot_df[\"rating\"], plot_df[\"P_rating\"])\n",
    "plt.xlabel(\"Actual Rating\")\n",
    "plt.ylabel(\"Predicted Rating\")\n",
    "plt.title(\"Scored Ratings for User 99\")\n",
    "plt.show()"
   ]
  },
  {
   "cell_type": "markdown",
   "metadata": {},
   "source": [
    "### End CAS session"
   ]
  },
  {
   "cell_type": "code",
   "execution_count": 9,
   "metadata": {
    "collapsed": true
   },
   "outputs": [],
   "source": [
    "sess.close()"
   ]
  },
  {
   "cell_type": "code",
   "execution_count": null,
   "metadata": {
    "collapsed": true
   },
   "outputs": [],
   "source": []
  }
 ],
 "metadata": {
  "anaconda-cloud": {},
  "kernelspec": {
   "display_name": "Python 3",
   "language": "python",
   "name": "python3"
  },
  "language_info": {
   "codemirror_mode": {
    "name": "ipython",
    "version": 3
   },
   "file_extension": ".py",
   "mimetype": "text/x-python",
   "name": "python",
   "nbconvert_exporter": "python",
   "pygments_lexer": "ipython3",
   "version": "3.6.0"
  }
 },
 "nbformat": 4,
 "nbformat_minor": 0
}
