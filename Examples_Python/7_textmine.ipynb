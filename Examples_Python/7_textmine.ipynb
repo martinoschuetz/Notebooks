{
 "cells": [
  {
   "cell_type": "markdown",
   "metadata": {},
   "source": [
    "This code example illustrates the use of PROC TEXTMINE for identifying important terms and topics in a document collection.     \n",
    "                                                                      \n",
    "PROC TEXTMINE parses the news data set to                            \n",
    "1. generate a dictionary of important terms                        \n",
    "2. generate a collection of important topics                       \n",
    "                                                                      \n",
    "The OUTTERMS= option specifies the terms dictionary to be created.\n",
    "\n",
    "The OUTTOPICS= option specifies the SAS data set to contain the number of topics specified by the K= option. The user can peruse the TERMS and TOPICS data sets to gain insight about the document collection.                                                          \n",
    "                                                                      \n",
    "PROC TMSCORE allows the user to score new document collections based on training performed by a previous PROC TEXTMINE analysis.    "
   ]
  },
  {
   "cell_type": "markdown",
   "metadata": {},
   "source": [
    "### Import packages"
   ]
  },
  {
   "cell_type": "code",
   "execution_count": 1,
   "metadata": {
    "collapsed": true
   },
   "outputs": [],
   "source": [
    "from swat import *\n",
    "from pprint import pprint"
   ]
  },
  {
   "cell_type": "markdown",
   "metadata": {},
   "source": [
    "### CAS Server connection details"
   ]
  },
  {
   "cell_type": "code",
   "execution_count": 2,
   "metadata": {
    "collapsed": true
   },
   "outputs": [],
   "source": [
    "cashost='localhost'\n",
    "casport=5570\n",
    "casauth='~/.authinfo'"
   ]
  },
  {
   "cell_type": "markdown",
   "metadata": {},
   "source": [
    "### Start CAS session"
   ]
  },
  {
   "cell_type": "code",
   "execution_count": 3,
   "metadata": {
    "collapsed": true
   },
   "outputs": [],
   "source": [
    "sess = CAS(cashost, casport, authinfo=casauth, caslib=\"casuser\")"
   ]
  },
  {
   "cell_type": "markdown",
   "metadata": {},
   "source": [
    "### Import action sets"
   ]
  },
  {
   "cell_type": "code",
   "execution_count": 4,
   "metadata": {
    "collapsed": false
   },
   "outputs": [
    {
     "name": "stdout",
     "output_type": "stream",
     "text": [
      "NOTE: Added action set 'textMining'.\n"
     ]
    },
    {
     "data": {
      "text/html": [
       "<div class=\"cas-results-key\"><b>&#167; actionset</b></div>\n",
       "<div class=\"cas-results-body\">\n",
       "<div>textMining</div>\n",
       "</div>\n",
       "<div class=\"cas-output-area\"></div>\n",
       "<p class=\"cas-results-performance\"><small><span class=\"cas-elapsed\">elapsed 0.00157s</span> &#183; <span class=\"cas-user\">user 0.000999s</span> &#183; <span class=\"cas-memory\">mem 0.0588MB</span></small></p>"
      ],
      "text/plain": [
       "[actionset]\n",
       "\n",
       " 'textMining'\n",
       "\n",
       "+ Elapsed: 0.00157s, user: 0.000999s, mem: 0.0588mb"
      ]
     },
     "execution_count": 4,
     "metadata": {},
     "output_type": "execute_result"
    }
   ],
   "source": [
    "sess.loadactionset(actionset=\"textMining\")"
   ]
  },
  {
   "cell_type": "markdown",
   "metadata": {},
   "source": [
    "### Load data into CAS "
   ]
  },
  {
   "cell_type": "code",
   "execution_count": 5,
   "metadata": {
    "collapsed": false
   },
   "outputs": [
    {
     "name": "stdout",
     "output_type": "stream",
     "text": [
      "NOTE: Cloud Analytic Services made the uploaded file available as table NEWS in caslib CASUSER(viyauser).\n",
      "NOTE: The table NEWS has been created in caslib CASUSER(viyauser) from binary data uploaded to Cloud Analytic Services.\n",
      "NOTE: Cloud Analytic Services made the uploaded file available as table ENGSTOP in caslib CASUSER(viyauser).\n",
      "NOTE: The table ENGSTOP has been created in caslib CASUSER(viyauser) from binary data uploaded to Cloud Analytic Services.\n"
     ]
    }
   ],
   "source": [
    "indata_dir = \"/home/viyauser/casuser/data\"\n",
    "if not sess.table.tableExists(table=\"news\").exists:\n",
    "    sess.upload_file(indata_dir + \"/news.sas7bdat\", casout={\"name\":\"news\"})\n",
    "\n",
    "if not sess.table.tableExists(table=\"engstop\").exists:\n",
    "    sess.upload_file(indata_dir+\"/engstop.sas7bdat\", casout={\"name\":\"engstop\"})"
   ]
  },
  {
   "cell_type": "markdown",
   "metadata": {},
   "source": [
    "1. Parse the documents in table news and generate the term-by-term matrix                                   \n",
    "2. Perform dimensionality reduction via SVD, and                    \n",
    "3. Perform topic discovery based on SVD "
   ]
  },
  {
   "cell_type": "code",
   "execution_count": 6,
   "metadata": {
    "collapsed": false
   },
   "outputs": [
    {
     "data": {
      "text/html": [
       "<div class=\"cas-results-key\"><b>&#167; OutputCasTablesFull</b></div>\n",
       "<div class=\"cas-results-body\">\n",
       "<div>\n",
       "<table border=\"1\" class=\"dataframe\">\n",
       "  <thead>\n",
       "    <tr style=\"text-align: right;\">\n",
       "      <th title=\"\"></th>\n",
       "      <th title=\"CAS Library\">casLib</th>\n",
       "      <th title=\"Name\">Name</th>\n",
       "      <th title=\"Label\">Label</th>\n",
       "      <th title=\"Number of Rows\">Rows</th>\n",
       "      <th title=\"Number of Columns\">Columns</th>\n",
       "      <th title=\"Table\">casTable</th>\n",
       "    </tr>\n",
       "  </thead>\n",
       "  <tbody>\n",
       "    <tr>\n",
       "      <th>0</th>\n",
       "      <td>CASUSER(viyauser)</td>\n",
       "      <td>config</td>\n",
       "      <td></td>\n",
       "      <td>1</td>\n",
       "      <td>11</td>\n",
       "      <td>CASTable('config', caslib='CASUSER(viyauser)')</td>\n",
       "    </tr>\n",
       "    <tr>\n",
       "      <th>1</th>\n",
       "      <td>CASUSER(viyauser)</td>\n",
       "      <td>terms</td>\n",
       "      <td></td>\n",
       "      <td>9657</td>\n",
       "      <td>11</td>\n",
       "      <td>CASTable('terms', caslib='CASUSER(viyauser)')</td>\n",
       "    </tr>\n",
       "    <tr>\n",
       "      <th>2</th>\n",
       "      <td>CASUSER(viyauser)</td>\n",
       "      <td>parent</td>\n",
       "      <td></td>\n",
       "      <td>31467</td>\n",
       "      <td>3</td>\n",
       "      <td>CASTable('parent', caslib='CASUSER(viyauser)')</td>\n",
       "    </tr>\n",
       "    <tr>\n",
       "      <th>3</th>\n",
       "      <td>CASUSER(viyauser)</td>\n",
       "      <td>svdu</td>\n",
       "      <td></td>\n",
       "      <td>6024</td>\n",
       "      <td>11</td>\n",
       "      <td>CASTable('svdu', caslib='CASUSER(viyauser)')</td>\n",
       "    </tr>\n",
       "    <tr>\n",
       "      <th>4</th>\n",
       "      <td>CASUSER(viyauser)</td>\n",
       "      <td>docpro</td>\n",
       "      <td></td>\n",
       "      <td>598</td>\n",
       "      <td>11</td>\n",
       "      <td>CASTable('docpro', caslib='CASUSER(viyauser)')</td>\n",
       "    </tr>\n",
       "    <tr>\n",
       "      <th>5</th>\n",
       "      <td>CASUSER(viyauser)</td>\n",
       "      <td>topics</td>\n",
       "      <td></td>\n",
       "      <td>10</td>\n",
       "      <td>3</td>\n",
       "      <td>CASTable('topics', caslib='CASUSER(viyauser)')</td>\n",
       "    </tr>\n",
       "  </tbody>\n",
       "</table>\n",
       "</div>\n",
       "</div>\n",
       "<div class=\"cas-output-area\"></div>\n",
       "<p class=\"cas-results-performance\"><small><span class=\"cas-elapsed\">elapsed 4.76s</span> &#183; <span class=\"cas-user\">user 10.4s</span> &#183; <span class=\"cas-sys\">sys 0.741s</span> &#183; <span class=\"cas-memory\">mem 10.3MB</span></small></p>"
      ],
      "text/plain": [
       "[OutputCasTablesFull]\n",
       "\n",
       "               casLib    Name Label   Rows  Columns  \\\n",
       " 0  CASUSER(viyauser)  config            1       11   \n",
       " 1  CASUSER(viyauser)   terms         9657       11   \n",
       " 2  CASUSER(viyauser)  parent        31467        3   \n",
       " 3  CASUSER(viyauser)    svdu         6024       11   \n",
       " 4  CASUSER(viyauser)  docpro          598       11   \n",
       " 5  CASUSER(viyauser)  topics           10        3   \n",
       " \n",
       "                                          casTable  \n",
       " 0  CASTable('config', caslib='CASUSER(viyauser)')  \n",
       " 1   CASTable('terms', caslib='CASUSER(viyauser)')  \n",
       " 2  CASTable('parent', caslib='CASUSER(viyauser)')  \n",
       " 3    CASTable('svdu', caslib='CASUSER(viyauser)')  \n",
       " 4  CASTable('docpro', caslib='CASUSER(viyauser)')  \n",
       " 5  CASTable('topics', caslib='CASUSER(viyauser)')  \n",
       "\n",
       "+ Elapsed: 4.76s, user: 10.4s, sys: 0.741s, mem: 10.3mb"
      ]
     },
     "execution_count": 6,
     "metadata": {},
     "output_type": "execute_result"
    }
   ],
   "source": [
    "sess.textMining.tmMine(\n",
    "  documents={\"name\":\"news\"},\n",
    "  stopList={\"name\":\"engstop\"},\n",
    "  docId=\"key\",\n",
    "  text=\"text\",\n",
    "  reduce=2,\n",
    "  entities=\"STD\",\n",
    "  k=10,\n",
    "  norm=\"DOC\",\n",
    "  u={\"name\":\"svdu\", \"replace\":True},\n",
    "  terms={\"name\":\"terms\", \"replace\":True},\n",
    "  parent={\"name\":\"parent\", \"replace\":True},\n",
    "  parseConfig={\"name\":\"config\", \"replace\":True},\n",
    "  docPro={\"name\":\"docpro\", \"replace\":True},\n",
    "  topics={\"name\":\"topics\", \"replace\":True}  \n",
    ")"
   ]
  },
  {
   "cell_type": "markdown",
   "metadata": {},
   "source": [
    "### Print results"
   ]
  },
  {
   "cell_type": "code",
   "execution_count": 7,
   "metadata": {
    "collapsed": false
   },
   "outputs": [
    {
     "name": "stdout",
     "output_type": "stream",
     "text": [
      "------------------------10 Topics found by PROC TEXTMINE------------------------\n",
      "CASResults([('Fetch',\n",
      "             Selected Rows from Table TOPICS\n",
      "\n",
      "   _TopicId_                                           _Name_  _TermCutOff_\n",
      "0        1.0  league, +defenseman, hockey, tampa, +draft pick         0.021\n",
      "1        2.0            +keyboard, pc, +price, +mouse, +thumb         0.021\n",
      "2        3.0             +flyer, amour, +goal, tommy, lindros         0.020\n",
      "3        4.0              period, scorer g, scorer, power, pp         0.021\n",
      "4        5.0     gif, +injury, +muscle, +keyboard, +condition         0.020\n",
      "5        6.0    +tool, +break, +exercise, +type, +description         0.022\n",
      "6        7.0                +cancer, +day, +bath, water, +eat         0.022\n",
      "7        8.0                   +versus, tor, mon, van, series         0.023\n",
      "8        9.0        business, political, college, +event, dr.         0.020\n",
      "9       10.0        +system, sgi, virtual, graphics, +reality         0.024)])\n",
      "--------------------Top 10 entities that appear in the news---------------------\n",
      "Selected Rows from Table TERMS\n",
      "\n",
      "      _Term_ _Role_ _Attribute_  _Frequency_  _NumDocs_ _Keep_  _Termnum_  \\\n",
      "469  article   Noun       Alpha        277.0      257.0      Y      285.0   \n",
      "470  article   Noun       Alpha        274.0      255.0      Y      285.0   \n",
      "744     good    Adj       Alpha        175.0      112.0      Y      459.0   \n",
      "669       ca   Abbr       Alpha        185.0      101.0      Y      408.0   \n",
      "588     play   Verb       Alpha        136.0       67.0      Y      362.0   \n",
      "745     good    Adj       Alpha         79.0       55.0      Y      459.0   \n",
      "786     last    Adj       Alpha         76.0       50.0      Y      486.0   \n",
      "51      post   Verb       Alpha         58.0       48.0      Y       35.0   \n",
      "288     case   Noun       Alpha         54.0       41.0      Y      171.0   \n",
      "589     play   Verb       Alpha         61.0       40.0      Y      362.0   \n",
      "\n",
      "     _Parent_  _ParentId_ _IsPar_  _Weight_  \n",
      "469       NaN       285.0       +  0.137203  \n",
      "470     285.0       285.0       .  0.137203  \n",
      "744       NaN       459.0       +  0.298098  \n",
      "669       NaN       408.0          0.295679  \n",
      "588       NaN       362.0       +  0.389071  \n",
      "745     459.0       459.0       .  0.298098  \n",
      "786       NaN       486.0          0.408611  \n",
      "51        NaN        35.0       +  0.410462  \n",
      "288       NaN       171.0       +  0.435342  \n",
      "589     362.0       362.0       .  0.389071  \n",
      "-------------------Top 10 noun terms that appear in the news--------------------\n",
      "Selected Rows from Table TERMS\n",
      "\n",
      "      _Term_ _Role_ _Attribute_  _Frequency_  _NumDocs_ _Keep_  _Termnum_  \\\n",
      "469  article   Noun       Alpha        277.0      257.0      Y      285.0   \n",
      "470  article   Noun       Alpha        274.0      255.0      Y      285.0   \n",
      "744     good    Adj       Alpha        175.0      112.0      Y      459.0   \n",
      "669       ca   Abbr       Alpha        185.0      101.0      Y      408.0   \n",
      "588     play   Verb       Alpha        136.0       67.0      Y      362.0   \n",
      "745     good    Adj       Alpha         79.0       55.0      Y      459.0   \n",
      "786     last    Adj       Alpha         76.0       50.0      Y      486.0   \n",
      "51      post   Verb       Alpha         58.0       48.0      Y       35.0   \n",
      "288     case   Noun       Alpha         54.0       41.0      Y      171.0   \n",
      "589     play   Verb       Alpha         61.0       40.0      Y      362.0   \n",
      "\n",
      "     _Parent_  _ParentId_ _IsPar_  _Weight_  \n",
      "469       NaN       285.0       +  0.137203  \n",
      "470     285.0       285.0       .  0.137203  \n",
      "744       NaN       459.0       +  0.298098  \n",
      "669       NaN       408.0          0.295679  \n",
      "588       NaN       362.0       +  0.389071  \n",
      "745     459.0       459.0       .  0.298098  \n",
      "786       NaN       486.0          0.408611  \n",
      "51        NaN        35.0       +  0.410462  \n",
      "288       NaN       171.0       +  0.435342  \n",
      "589     362.0       362.0       .  0.389071  \n",
      "-----------------Stuctured representation of first 5 documents------------------\n",
      "CASResults([('Fetch',\n",
      "             Selected Rows from Table DOCPRO\n",
      "\n",
      "   key    _Col1_    _Col2_    _Col3_    _Col4_    _Col5_    _Col6_    _Col7_  \\\n",
      "0  1.0  0.096850  0.357367  0.086975  0.000000  0.114574  0.397710  0.272656   \n",
      "1  2.0  0.539289  0.389104  0.000000  0.233961  0.225581  0.237213  0.143625   \n",
      "2  3.0  0.049434  0.216755  0.265359  0.058252  0.560402  0.293775  0.598328   \n",
      "3  4.0  0.010795  0.712400  0.006395  0.000000  0.230252  0.405114  0.113679   \n",
      "4  5.0  0.114912  0.227020  0.047330  0.000000  0.334205  0.519938  0.233447   \n",
      "\n",
      "     _Col8_    _Col9_   _Col10_  \n",
      "0  0.078418  0.693112  0.350925  \n",
      "1  0.000000  0.390849  0.471678  \n",
      "2  0.098017  0.000000  0.329859  \n",
      "3  0.000000  0.143367  0.491648  \n",
      "4  0.049982  0.053838  0.700781  )])\n"
     ]
    }
   ],
   "source": [
    "allRows=20000  # Assuming max rows in terms table is <= 20,000\n",
    "terms_sorted=sess.CASTable(\"terms\").fetch(to=allRows)['Fetch'].sort_values(by=\"_NumDocs_\", ascending=False)\n",
    "\n",
    "print(\"10 Topics found by PROC TEXTMINE\".center(80, '-'))\n",
    "pprint(sess.CASTable(\"topics\").fetch(to=10))\n",
    "\n",
    "print(\"Top 10 entities that appear in the news\".center(80, '-'))\n",
    "terms_sorted.where=\"attribute='Entity'\";\n",
    "pprint(terms_sorted.head(n=10))\n",
    "\n",
    "print(\"Top 10 noun terms that appear in the news\".center(80, '-'))\n",
    "terms_sorted.where=\"role='Noun'\";\n",
    "pprint(terms_sorted.head(n=10))\n",
    "\n",
    "print(\"Stuctured representation of first 5 documents\".center(80, '-'))\n",
    "pprint(sess.CASTable(\"docpro\").fetch(to=5))"
   ]
  },
  {
   "cell_type": "markdown",
   "metadata": {},
   "source": [
    "### Score new text data  "
   ]
  },
  {
   "cell_type": "code",
   "execution_count": 8,
   "metadata": {
    "collapsed": false
   },
   "outputs": [
    {
     "data": {
      "text/html": [
       "<div class=\"cas-results-key\"><b>&#167; OutputCasTablesFull</b></div>\n",
       "<div class=\"cas-results-body\">\n",
       "<div>\n",
       "<table border=\"1\" class=\"dataframe\">\n",
       "  <thead>\n",
       "    <tr style=\"text-align: right;\">\n",
       "      <th title=\"\"></th>\n",
       "      <th title=\"CAS Library\">casLib</th>\n",
       "      <th title=\"Name\">Name</th>\n",
       "      <th title=\"Label\">Label</th>\n",
       "      <th title=\"Number of Rows\">Rows</th>\n",
       "      <th title=\"Number of Columns\">Columns</th>\n",
       "      <th title=\"Table\">casTable</th>\n",
       "    </tr>\n",
       "  </thead>\n",
       "  <tbody>\n",
       "    <tr>\n",
       "      <th>0</th>\n",
       "      <td>CASUSER(viyauser)</td>\n",
       "      <td>score_parent</td>\n",
       "      <td></td>\n",
       "      <td>31467</td>\n",
       "      <td>3</td>\n",
       "      <td>CASTable('score_parent', caslib='CASUSER(viyau...</td>\n",
       "    </tr>\n",
       "    <tr>\n",
       "      <th>1</th>\n",
       "      <td>CASUSER(viyauser)</td>\n",
       "      <td>score_docpro</td>\n",
       "      <td></td>\n",
       "      <td>598</td>\n",
       "      <td>11</td>\n",
       "      <td>CASTable('score_docpro', caslib='CASUSER(viyau...</td>\n",
       "    </tr>\n",
       "  </tbody>\n",
       "</table>\n",
       "</div>\n",
       "</div>\n",
       "<div class=\"cas-output-area\"></div>\n",
       "<p class=\"cas-results-performance\"><small><span class=\"cas-elapsed\">elapsed 3.82s</span> &#183; <span class=\"cas-user\">user 9.9s</span> &#183; <span class=\"cas-sys\">sys 0.49s</span> &#183; <span class=\"cas-memory\">mem 60.2MB</span></small></p>"
      ],
      "text/plain": [
       "[OutputCasTablesFull]\n",
       "\n",
       "               casLib          Name Label   Rows  Columns  \\\n",
       " 0  CASUSER(viyauser)  score_parent        31467        3   \n",
       " 1  CASUSER(viyauser)  score_docpro          598       11   \n",
       " \n",
       "                                             casTable  \n",
       " 0  CASTable('score_parent', caslib='CASUSER(viyau...  \n",
       " 1  CASTable('score_docpro', caslib='CASUSER(viyau...  \n",
       "\n",
       "+ Elapsed: 3.82s, user: 9.9s, sys: 0.49s, mem: 60.2mb"
      ]
     },
     "execution_count": 8,
     "metadata": {},
     "output_type": "execute_result"
    }
   ],
   "source": [
    "sess.textMining.tmScore(\n",
    "  documents={\"name\":\"news\"},\n",
    "  u={\"name\":\"svdu\"},\n",
    "  parseConfig={\"name\":\"config\"},\n",
    "  terms={\"name\":\"terms\"},\n",
    "  docPro={\"name\":\"score_docpro\", \"replace\":True},\n",
    "  parent={\"name\":\"score_parent\", \"replace\":True},\n",
    "  text=\"text\",\n",
    "  docId=\"key\"\n",
    ")"
   ]
  },
  {
   "cell_type": "markdown",
   "metadata": {},
   "source": [
    "### End CAS session"
   ]
  },
  {
   "cell_type": "code",
   "execution_count": 9,
   "metadata": {
    "collapsed": true
   },
   "outputs": [],
   "source": [
    "sess.close()"
   ]
  },
  {
   "cell_type": "code",
   "execution_count": null,
   "metadata": {
    "collapsed": true
   },
   "outputs": [],
   "source": []
  }
 ],
 "metadata": {
  "anaconda-cloud": {},
  "kernelspec": {
   "display_name": "Python 3",
   "language": "python",
   "name": "python3"
  },
  "language_info": {
   "codemirror_mode": {
    "name": "ipython",
    "version": 3
   },
   "file_extension": ".py",
   "mimetype": "text/x-python",
   "name": "python",
   "nbconvert_exporter": "python",
   "pygments_lexer": "ipython3",
   "version": "3.6.0"
  }
 },
 "nbformat": 4,
 "nbformat_minor": 0
}
