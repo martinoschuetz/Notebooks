{
 "cells": [
  {
   "cell_type": "markdown",
   "metadata": {},
   "source": [
    "\n",
    "This is the first in a series of examples provided to demonstrate the use of SAS Visual Data   \n",
    "Mining and Machine Learning actions to compose a program that follows a standard machine learning process of            \n",
    "- loading data,                                                          \n",
    "- preparing the data,                                                    \n",
    "- building models, and                                                   \n",
    "- assessing and comparing those models                                   \n",
    "                                                                          \n",
    "The programs are written to execute in the CAS in-memory distributed computing engine in the SAS Viya environment.                            \n",
    "                                                                          \n",
    "This first example showcases how to load local data into CAS             "
   ]
  },
  {
   "cell_type": "markdown",
   "metadata": {},
   "source": [
    "### Import packages"
   ]
  },
  {
   "cell_type": "code",
   "execution_count": 1,
   "metadata": {
    "collapsed": false
   },
   "outputs": [],
   "source": [
    "from swat import *"
   ]
  },
  {
   "cell_type": "markdown",
   "metadata": {},
   "source": [
    "### CAS Server connection details"
   ]
  },
  {
   "cell_type": "code",
   "execution_count": 4,
   "metadata": {
    "collapsed": true
   },
   "outputs": [],
   "source": [
    "cashost='localhost'\n",
    "casport=5570\n",
    "casauth='~/.authinfo'"
   ]
  },
  {
   "cell_type": "markdown",
   "metadata": {},
   "source": [
    "### Start CAS session"
   ]
  },
  {
   "cell_type": "code",
   "execution_count": 6,
   "metadata": {
    "collapsed": false
   },
   "outputs": [],
   "source": [
    "sess = CAS(cashost, casport, authinfo=casauth, caslib=\"casuser\")"
   ]
  },
  {
   "cell_type": "markdown",
   "metadata": {},
   "source": [
    "### Details for local data to be loaded into CAS"
   ]
  },
  {
   "cell_type": "code",
   "execution_count": 7,
   "metadata": {
    "collapsed": true
   },
   "outputs": [],
   "source": [
    "indata_dir=\"/opt/sasinside/DemoData\"\n",
    "indata=\"bank_raw\""
   ]
  },
  {
   "cell_type": "markdown",
   "metadata": {},
   "source": [
    "### Import table action set"
   ]
  },
  {
   "cell_type": "code",
   "execution_count": 8,
   "metadata": {
    "collapsed": false
   },
   "outputs": [
    {
     "name": "stdout",
     "output_type": "stream",
     "text": [
      "NOTE: Added action set 'table'.\n"
     ]
    },
    {
     "data": {
      "text/html": [
       "<div class=\"cas-results-key\"><b>&#167; actionset</b></div>\n",
       "<div class=\"cas-results-body\">\n",
       "<div>table</div>\n",
       "</div>\n",
       "<div class=\"cas-output-area\"></div>\n",
       "<p class=\"cas-results-performance\"><small><span class=\"cas-elapsed\">elapsed 0.00126s</span> &#183; <span class=\"cas-user\">user 0.001s</span> &#183; <span class=\"cas-memory\">mem 0.0577MB</span></small></p>"
      ],
      "text/plain": [
       "[actionset]\n",
       "\n",
       " 'table'\n",
       "\n",
       "+ Elapsed: 0.00126s, user: 0.001s, mem: 0.0577mb"
      ]
     },
     "execution_count": 8,
     "metadata": {},
     "output_type": "execute_result"
    }
   ],
   "source": [
    "sess.loadactionset(actionset=\"table\")"
   ]
  },
  {
   "cell_type": "markdown",
   "metadata": {},
   "source": [
    "### Load data into CAS"
   ]
  },
  {
   "cell_type": "markdown",
   "metadata": {},
   "source": [
    "The data set used for this workflow is anonymized bank data consisting of observations taken   \n",
    "on a large financial services firm's accounts. Accounts in the data represent consumers of   \n",
    "home equity lines of credit, automobile loans, and other types of short- to medium-term credit          \n",
    "instruments.  A campaign interval for the bank runs for half of a year, denoting all marketing   \n",
    "efforts that provide information about and motivate the purchase of the bank's financial services   \n",
    "products.         \n",
    "                                                                          \n",
    "- the bankraw data set is the original data in its raw form              \n",
    "- the bank data set is the resulting data set after applying appropriate data cleansing                                                         \n",
    "                                                                          \n",
    "The target variable \"b_tgt\" quantifies account responses over the current campaign season (1   \n",
    "for at least one purchase, 0 for no purchases) A description of all variables can be found in   \n",
    "the data dictionary for this data set available in \"BankData\" in your File Shortcuts.              \n",
    "                                                                          \n",
    "For execution in the CAS engine, data must be loaded from the local data set to a CAS table.   \n",
    "This code first checks to see if the specified CAS table exists and then loads data from local   \n",
    "data sets.      "
   ]
  },
  {
   "cell_type": "code",
   "execution_count": 9,
   "metadata": {
    "collapsed": false
   },
   "outputs": [
    {
     "name": "stdout",
     "output_type": "stream",
     "text": [
      "NOTE: Cloud Analytic Services made the uploaded file available as table BANK_RAW in caslib CASUSER(viyauser).\n",
      "NOTE: The table BANK_RAW has been created in caslib CASUSER(viyauser) from binary data uploaded to Cloud Analytic Services.\n"
     ]
    }
   ],
   "source": [
    "if not sess.table.tableExists(table=indata).exists:\n",
    "    tbl = sess.upload_file(indata_dir+\"/\"+indata+\".sas7bdat\", casout={\"name\":indata})"
   ]
  },
  {
   "cell_type": "code",
   "execution_count": 10,
   "metadata": {
    "collapsed": false
   },
   "outputs": [
    {
     "data": {
      "text/html": [
       "<div>\n",
       "<table border=\"1\" class=\"dataframe\"><caption>Selected Rows from Table BANK_RAW</caption>\n",
       "  <thead>\n",
       "    <tr style=\"text-align: right;\">\n",
       "      <th title=\"\"></th>\n",
       "      <th title=\"Binary New Product\">b_tgt</th>\n",
       "      <th title=\"Account Activity Level\">cat_input1</th>\n",
       "      <th title=\"Customer Value Level\">cat_input2</th>\n",
       "      <th title=\"Count Number New Products\">cnt_tgt</th>\n",
       "      <th title=\"Customer Age\">demog_age</th>\n",
       "      <th title=\"Homeowner Binary\">demog_ho</th>\n",
       "      <th title=\"Percentage Retired\">demog_pr</th>\n",
       "      <th title=\"Interval New Sales\">int_tgt</th>\n",
       "      <th title=\"Replaced Home Value\">r_demog_homeval</th>\n",
       "      <th title=\"Replaced Income\">r_demog_inc</th>\n",
       "      <th title=\"...\">...</th>\n",
       "      <th title=\"Count Purchased Lifetime\">rfm6</th>\n",
       "      <th title=\"Count Prchsd Past 3 Years Dir Promo Resp\">rfm7</th>\n",
       "      <th title=\"Count Prchsd Lifetime Dir Promo Resp\">rfm8</th>\n",
       "      <th title=\"Months Since Last Purchase\">rfm9</th>\n",
       "      <th title=\"Count Total Promos Past Year\">rfm10</th>\n",
       "      <th title=\"Count Direct Promos Past Year\">rfm11</th>\n",
       "      <th title=\"Customer Tenure\">rfm12</th>\n",
       "      <th title=\"Female Binary\">demog_genf</th>\n",
       "      <th title=\"Male Binary\">demog_genm</th>\n",
       "      <th title=\"Account ID\">account</th>\n",
       "    </tr>\n",
       "  </thead>\n",
       "  <tbody>\n",
       "    <tr>\n",
       "      <th>0</th>\n",
       "      <td>1.0</td>\n",
       "      <td>X</td>\n",
       "      <td>A</td>\n",
       "      <td>NaN</td>\n",
       "      <td>NaN</td>\n",
       "      <td>0.0</td>\n",
       "      <td>24.0</td>\n",
       "      <td>7000.0</td>\n",
       "      <td>57600.0</td>\n",
       "      <td>52106.0</td>\n",
       "      <td>...</td>\n",
       "      <td>22.0</td>\n",
       "      <td>4.0</td>\n",
       "      <td>6.0</td>\n",
       "      <td>5.0</td>\n",
       "      <td>20.0</td>\n",
       "      <td>9.0</td>\n",
       "      <td>92.0</td>\n",
       "      <td>0.0</td>\n",
       "      <td>1.0</td>\n",
       "      <td>100000001</td>\n",
       "    </tr>\n",
       "    <tr>\n",
       "      <th>1</th>\n",
       "      <td>1.0</td>\n",
       "      <td>X</td>\n",
       "      <td>A</td>\n",
       "      <td>2.0</td>\n",
       "      <td>NaN</td>\n",
       "      <td>0.0</td>\n",
       "      <td>24.0</td>\n",
       "      <td>7000.0</td>\n",
       "      <td>57587.0</td>\n",
       "      <td>52106.0</td>\n",
       "      <td>...</td>\n",
       "      <td>22.0</td>\n",
       "      <td>4.0</td>\n",
       "      <td>6.0</td>\n",
       "      <td>5.0</td>\n",
       "      <td>20.0</td>\n",
       "      <td>9.0</td>\n",
       "      <td>92.0</td>\n",
       "      <td>0.0</td>\n",
       "      <td>1.0</td>\n",
       "      <td>100000002</td>\n",
       "    </tr>\n",
       "    <tr>\n",
       "      <th>2</th>\n",
       "      <td>1.0</td>\n",
       "      <td>X</td>\n",
       "      <td>A</td>\n",
       "      <td>2.0</td>\n",
       "      <td>NaN</td>\n",
       "      <td>0.0</td>\n",
       "      <td>0.0</td>\n",
       "      <td>15000.0</td>\n",
       "      <td>44167.0</td>\n",
       "      <td>42422.0</td>\n",
       "      <td>...</td>\n",
       "      <td>16.0</td>\n",
       "      <td>3.0</td>\n",
       "      <td>8.0</td>\n",
       "      <td>16.0</td>\n",
       "      <td>27.0</td>\n",
       "      <td>11.0</td>\n",
       "      <td>91.0</td>\n",
       "      <td>0.0</td>\n",
       "      <td>1.0</td>\n",
       "      <td>100000003</td>\n",
       "    </tr>\n",
       "    <tr>\n",
       "      <th>3</th>\n",
       "      <td>0.0</td>\n",
       "      <td>X</td>\n",
       "      <td>A</td>\n",
       "      <td>0.0</td>\n",
       "      <td>68.0</td>\n",
       "      <td>0.0</td>\n",
       "      <td>32.0</td>\n",
       "      <td>NaN</td>\n",
       "      <td>90587.0</td>\n",
       "      <td>59785.0</td>\n",
       "      <td>...</td>\n",
       "      <td>21.0</td>\n",
       "      <td>2.0</td>\n",
       "      <td>7.0</td>\n",
       "      <td>15.0</td>\n",
       "      <td>19.0</td>\n",
       "      <td>9.0</td>\n",
       "      <td>123.0</td>\n",
       "      <td>1.0</td>\n",
       "      <td>0.0</td>\n",
       "      <td>100000004</td>\n",
       "    </tr>\n",
       "    <tr>\n",
       "      <th>4</th>\n",
       "      <td>0.0</td>\n",
       "      <td>X</td>\n",
       "      <td>A</td>\n",
       "      <td>0.0</td>\n",
       "      <td>NaN</td>\n",
       "      <td>0.0</td>\n",
       "      <td>0.0</td>\n",
       "      <td>NaN</td>\n",
       "      <td>100313.0</td>\n",
       "      <td>NaN</td>\n",
       "      <td>...</td>\n",
       "      <td>38.0</td>\n",
       "      <td>5.0</td>\n",
       "      <td>19.0</td>\n",
       "      <td>24.0</td>\n",
       "      <td>13.0</td>\n",
       "      <td>6.0</td>\n",
       "      <td>128.0</td>\n",
       "      <td>1.0</td>\n",
       "      <td>0.0</td>\n",
       "      <td>100000005</td>\n",
       "    </tr>\n",
       "  </tbody>\n",
       "</table>\n",
       "<p>5 rows × 25 columns</p>\n",
       "</div>"
      ],
      "text/plain": [
       "Selected Rows from Table BANK_RAW\n",
       "\n",
       "   b_tgt cat_input1 cat_input2  cnt_tgt  demog_age  demog_ho  demog_pr  \\\n",
       "0    1.0          X          A      NaN        NaN       0.0      24.0   \n",
       "1    1.0          X          A      2.0        NaN       0.0      24.0   \n",
       "2    1.0          X          A      2.0        NaN       0.0       0.0   \n",
       "3    0.0          X          A      0.0       68.0       0.0      32.0   \n",
       "4    0.0          X          A      0.0        NaN       0.0       0.0   \n",
       "\n",
       "   int_tgt  r_demog_homeval  r_demog_inc    ...      rfm6  rfm7  rfm8  rfm9  \\\n",
       "0   7000.0          57600.0      52106.0    ...      22.0   4.0   6.0   5.0   \n",
       "1   7000.0          57587.0      52106.0    ...      22.0   4.0   6.0   5.0   \n",
       "2  15000.0          44167.0      42422.0    ...      16.0   3.0   8.0  16.0   \n",
       "3      NaN          90587.0      59785.0    ...      21.0   2.0   7.0  15.0   \n",
       "4      NaN         100313.0          NaN    ...      38.0   5.0  19.0  24.0   \n",
       "\n",
       "   rfm10  rfm11  rfm12  demog_genf  demog_genm    account  \n",
       "0   20.0    9.0   92.0         0.0         1.0  100000001  \n",
       "1   20.0    9.0   92.0         0.0         1.0  100000002  \n",
       "2   27.0   11.0   91.0         0.0         1.0  100000003  \n",
       "3   19.0    9.0  123.0         1.0         0.0  100000004  \n",
       "4   13.0    6.0  128.0         1.0         0.0  100000005  \n",
       "\n",
       "[5 rows x 25 columns]"
      ]
     },
     "execution_count": 10,
     "metadata": {},
     "output_type": "execute_result"
    }
   ],
   "source": [
    "tbl.head()"
   ]
  },
  {
   "cell_type": "markdown",
   "metadata": {},
   "source": [
    "### End CAS session"
   ]
  },
  {
   "cell_type": "code",
   "execution_count": 8,
   "metadata": {
    "collapsed": true
   },
   "outputs": [],
   "source": [
    "sess.close()"
   ]
  },
  {
   "cell_type": "code",
   "execution_count": null,
   "metadata": {
    "collapsed": true
   },
   "outputs": [],
   "source": []
  }
 ],
 "metadata": {
  "anaconda-cloud": {},
  "kernelspec": {
   "display_name": "Python 3",
   "language": "python",
   "name": "python3"
  },
  "language_info": {
   "codemirror_mode": {
    "name": "ipython",
    "version": 3
   },
   "file_extension": ".py",
   "mimetype": "text/x-python",
   "name": "python",
   "nbconvert_exporter": "python",
   "pygments_lexer": "ipython3",
   "version": "3.6.0"
  }
 },
 "nbformat": 4,
 "nbformat_minor": 0
}
