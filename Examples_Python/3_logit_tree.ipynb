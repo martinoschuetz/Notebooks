{
 "cells": [
  {
   "cell_type": "markdown",
   "metadata": {},
   "source": [
    "This example illustrates fitting and comparing two Machine Learning algorithms for classifying     \n",
    "the binary target in the BANK data set. The steps include:                                    \n",
    "                                                                      \n",
    "1. PREPARE AND EXPLORE  \n",
    "  a) Load data set into CAS                                        \n",
    "<br>                                                   \n",
    "2. PERFORM SUPERVISED LEARNING  \n",
    "  a) Fit model using Logistic Regression  \n",
    "  b) Fit a model using a Decision Tree                             \n",
    "<br>                                                                     \n",
    "3.  EVALUATE AND IMPLEMENT  \n",
    "  a) Score the data  \n",
    "  b) Assess model performance  \n",
    "  c) Generate ROC and Lift charts "
   ]
  },
  {
   "cell_type": "markdown",
   "metadata": {},
   "source": [
    "### Import packages"
   ]
  },
  {
   "cell_type": "code",
   "execution_count": 1,
   "metadata": {
    "collapsed": true
   },
   "outputs": [],
   "source": [
    "from swat import *\n",
    "import pandas as pd\n",
    "import matplotlib.pyplot as plt\n",
    "from swat.render import render_html\n",
    "%matplotlib inline"
   ]
  },
  {
   "cell_type": "markdown",
   "metadata": {},
   "source": [
    "### CAS Server connection details"
   ]
  },
  {
   "cell_type": "code",
   "execution_count": 2,
   "metadata": {
    "collapsed": true
   },
   "outputs": [],
   "source": [
    "cashost='localhost'\n",
    "casport=5570\n",
    "casauth='~/.authinfo'"
   ]
  },
  {
   "cell_type": "markdown",
   "metadata": {},
   "source": [
    "### Start CAS session"
   ]
  },
  {
   "cell_type": "code",
   "execution_count": 3,
   "metadata": {
    "collapsed": true
   },
   "outputs": [],
   "source": [
    "sess = CAS(cashost, casport, authinfo=casauth, caslib=\"casuser\")"
   ]
  },
  {
   "cell_type": "markdown",
   "metadata": {},
   "source": [
    "### Details for local data to be loaded into CAS"
   ]
  },
  {
   "cell_type": "code",
   "execution_count": 4,
   "metadata": {
    "collapsed": true
   },
   "outputs": [],
   "source": [
    "indata_dir=\"/opt/sasinside/DemoData\"\n",
    "indata=\"bank\"\n",
    "im_class_inputs    = \"cat_input1, cat_input2\"\n",
    "im_interval_inputs = \"logi_rfm1-logi_rfm12\"; \n",
    "target             = \"b_tgt\""
   ]
  },
  {
   "cell_type": "markdown",
   "metadata": {},
   "source": [
    "### Import table action set"
   ]
  },
  {
   "cell_type": "code",
   "execution_count": 5,
   "metadata": {
    "collapsed": false
   },
   "outputs": [
    {
     "name": "stdout",
     "output_type": "stream",
     "text": [
      "NOTE: Added action set 'table'.\n",
      "NOTE: Added action set 'sampling'.\n",
      "NOTE: Added action set 'regression'.\n",
      "NOTE: Added action set 'percentile'.\n",
      "NOTE: Added action set 'dataStep'.\n",
      "NOTE: Added action set 'decisionTree'.\n"
     ]
    },
    {
     "data": {
      "text/html": [
       "<div class=\"cas-results-key\"><b>&#167; actionset</b></div>\n",
       "<div class=\"cas-results-body\">\n",
       "<div>decisionTree</div>\n",
       "</div>\n",
       "<div class=\"cas-output-area\"></div>\n",
       "<p class=\"cas-results-performance\"><small><span class=\"cas-elapsed\">elapsed 0.000835s</span> &#183; <span class=\"cas-sys\">sys 0.001s</span> &#183; <span class=\"cas-memory\">mem 0.0295MB</span></small></p>"
      ],
      "text/plain": [
       "[actionset]\n",
       "\n",
       " 'decisionTree'\n",
       "\n",
       "+ Elapsed: 0.000835s, sys: 0.001s, mem: 0.0295mb"
      ]
     },
     "execution_count": 5,
     "metadata": {},
     "output_type": "execute_result"
    }
   ],
   "source": [
    "sess.loadactionset(actionset=\"table\")\n",
    "sess.loadactionset(actionset=\"sampling\")\n",
    "sess.loadactionset(actionset=\"regression\")\n",
    "sess.loadactionset(actionset=\"percentile\")\n",
    "sess.loadactionset(actionset=\"dataStep\")\n",
    "sess.loadactionset(actionset=\"decisionTree\")"
   ]
  },
  {
   "cell_type": "markdown",
   "metadata": {},
   "source": [
    "### Load data into CAS"
   ]
  },
  {
   "cell_type": "code",
   "execution_count": 6,
   "metadata": {
    "collapsed": false
   },
   "outputs": [
    {
     "name": "stdout",
     "output_type": "stream",
     "text": [
      "NOTE: Cloud Analytic Services made the uploaded file available as table BANK in caslib CASUSER(viyauser).\n",
      "NOTE: The table BANK has been created in caslib CASUSER(viyauser) from binary data uploaded to Cloud Analytic Services.\n"
     ]
    }
   ],
   "source": [
    "if not sess.table.tableExists(table=indata).exists:\n",
    "    tbl = sess.upload_file(indata_dir+\"/\"+indata+\".sas7bdat\", casout={\"name\":indata})"
   ]
  },
  {
   "cell_type": "markdown",
   "metadata": {},
   "source": [
    "### Partition the data into training and validation"
   ]
  },
  {
   "cell_type": "code",
   "execution_count": 7,
   "metadata": {
    "collapsed": false
   },
   "outputs": [
    {
     "name": "stdout",
     "output_type": "stream",
     "text": [
      "NOTE: Using SEED=1187789481 for sampling.\n"
     ]
    },
    {
     "data": {
      "text/html": [
       "<div class=\"cas-results-key\"><b>&#167; outputSize</b></div>\n",
       "<div class=\"cas-results-body\">\n",
       "<div>{'outputNVars': 55, 'outputNObs': 1060038.0}</div>\n",
       "</div>\n",
       "<div class=\"cas-results-key\"><hr/><b>&#167; STRAFreq</b></div>\n",
       "<div class=\"cas-results-body\">\n",
       "<div>\n",
       "<table border=\"1\" class=\"dataframe\"><caption>Frequencies</caption>\n",
       "  <thead>\n",
       "    <tr style=\"text-align: right;\">\n",
       "      <th title=\"\"></th>\n",
       "      <th title=\"Index\">ByGrpID</th>\n",
       "      <th title=\"Binary New Product\">b_tgt</th>\n",
       "      <th title=\"Number of Obs\">NObs</th>\n",
       "      <th title=\"Number of Samples\">NSamp</th>\n",
       "    </tr>\n",
       "  </thead>\n",
       "  <tbody>\n",
       "    <tr>\n",
       "      <th>0</th>\n",
       "      <td>0</td>\n",
       "      <td>0</td>\n",
       "      <td>848529</td>\n",
       "      <td>593970</td>\n",
       "    </tr>\n",
       "    <tr>\n",
       "      <th>1</th>\n",
       "      <td>1</td>\n",
       "      <td>1</td>\n",
       "      <td>211509</td>\n",
       "      <td>148056</td>\n",
       "    </tr>\n",
       "  </tbody>\n",
       "</table>\n",
       "</div>\n",
       "</div>\n",
       "<div class=\"cas-results-key\"><hr/><b>&#167; OutputCasTables</b></div>\n",
       "<div class=\"cas-results-body\">\n",
       "<div>\n",
       "<table border=\"1\" class=\"dataframe\">\n",
       "  <thead>\n",
       "    <tr style=\"text-align: right;\">\n",
       "      <th title=\"\"></th>\n",
       "      <th title=\"CAS Library\">casLib</th>\n",
       "      <th title=\"Name\">Name</th>\n",
       "      <th title=\"Label\">Label</th>\n",
       "      <th title=\"Number of Rows\">Rows</th>\n",
       "      <th title=\"Number of Columns\">Columns</th>\n",
       "      <th title=\"Table\">casTable</th>\n",
       "    </tr>\n",
       "  </thead>\n",
       "  <tbody>\n",
       "    <tr>\n",
       "      <th>0</th>\n",
       "      <td>CASUSER(viyauser)</td>\n",
       "      <td>bank_part</td>\n",
       "      <td></td>\n",
       "      <td>1060038</td>\n",
       "      <td>55</td>\n",
       "      <td>CASTable('bank_part', caslib='CASUSER(viyauser)')</td>\n",
       "    </tr>\n",
       "  </tbody>\n",
       "</table>\n",
       "</div>\n",
       "</div>\n",
       "<div class=\"cas-output-area\"></div>\n",
       "<p class=\"cas-results-performance\"><small><span class=\"cas-elapsed\">elapsed 0.663s</span> &#183; <span class=\"cas-user\">user 2.61s</span> &#183; <span class=\"cas-sys\">sys 0.688s</span> &#183; <span class=\"cas-memory\">mem 47.4MB</span></small></p>"
      ],
      "text/plain": [
       "[outputSize]\n",
       "\n",
       " {'outputNObs': 1060038.0, 'outputNVars': 55}\n",
       "\n",
       "[STRAFreq]\n",
       "\n",
       " Frequencies\n",
       " \n",
       "    ByGrpID         b_tgt    NObs   NSamp\n",
       " 0        0             0  848529  593970\n",
       " 1        1             1  211509  148056\n",
       "\n",
       "[OutputCasTables]\n",
       "\n",
       "               casLib       Name Label     Rows  Columns  \\\n",
       " 0  CASUSER(viyauser)  bank_part        1060038       55   \n",
       " \n",
       "                                             casTable  \n",
       " 0  CASTable('bank_part', caslib='CASUSER(viyauser)')  \n",
       "\n",
       "+ Elapsed: 0.663s, user: 2.61s, sys: 0.688s, mem: 47.4mb"
      ]
     },
     "execution_count": 7,
     "metadata": {},
     "output_type": "execute_result"
    }
   ],
   "source": [
    "sess.sampling.stratified(\n",
    "  table={\"name\":\"bank\", \"groupBy\":target},\n",
    "  output={\"casOut\":{\"name\":\"bank_part\", \"replace\":True}, \"copyVars\":\"ALL\"},\n",
    "  samppct=70,\n",
    "  partind=True\n",
    ")"
   ]
  },
  {
   "cell_type": "markdown",
   "metadata": {},
   "source": [
    "### LOGISTIC REGRESSION predictive model "
   ]
  },
  {
   "cell_type": "code",
   "execution_count": 8,
   "metadata": {
    "collapsed": false
   },
   "outputs": [
    {
     "name": "stdout",
     "output_type": "stream",
     "text": [
      "NOTE: Convergence criterion (GCONV=1E-8) satisfied.\n"
     ]
    },
    {
     "data": {
      "text/html": [
       "\n",
       "    <style type=\"text/css\">\n",
       "    div.cas-results {\n",
       "        overflow-x: auto;\n",
       "    }\n",
       "    div.cas-results > * {\n",
       "        margin-left: auto !important;\n",
       "        margin-right: auto !important;\n",
       "    }\n",
       "    div.cas-results .sas-dataframe th[colspan],\n",
       "    div.cas-results .byline {\n",
       "        text-align: center;\n",
       "        font-size: 110%;\n",
       "    }\n",
       "    div.cas-results .sas-dataframe > tbody > tr:nth-child(even) {\n",
       "        background-color: #f8f8f8;\n",
       "    }\n",
       "    div.cas-results .sas-dataframe td,\n",
       "    div.cas-results .sas-dataframe th {\n",
       "        border: 1px solid #aaaaaa;\n",
       "        padding: 5px 10px;\n",
       "    }\n",
       "    div.cas-results .sas-dataframe th {\n",
       "        background-color: #f0f0f0;\n",
       "    }\n",
       "    div.cas-results .sas-dataframe .double,\n",
       "    div.cas-results .sas-dataframe .int32,\n",
       "    div.cas-results .sas-dataframe .int64,\n",
       "    div.cas-results .sas-dataframe .decsext,\n",
       "    div.cas-results .sas-dataframe .decquad {\n",
       "        text-align: right;\n",
       "    }\n",
       "    </style>\n",
       "<div class=\"cas-results\"><table class=\"sas-dataframe\">\n",
       "<colgroup><col class=\"char\" /><col class=\"char\" /><col class=\"char\" /></colgroup>\n",
       "<thead>\n",
       "<tr><th colspan=\"3\">Model Information</th></tr>\n",
       "<th class=\"char\">RowId</th>\n",
       "<th class=\"char\">Description</th>\n",
       "<th class=\"char\">Value</th>\n",
       "</thead>\n",
       "<tbody>\n",
       "<tr><td class=\"char\">DATA</td><td class=\"char\">Data Source</td><td class=\"char\">BANK_PART</td></tr>\n",
       "<tr><td class=\"char\">RESPONSEVAR</td><td class=\"char\">Response Variable</td><td class=\"char\">b_tgt</td></tr>\n",
       "<tr><td class=\"char\">DIST</td><td class=\"char\">Distribution</td><td class=\"char\">Binary</td></tr>\n",
       "<tr><td class=\"char\">LINK</td><td class=\"char\">Link Function</td><td class=\"char\">Logit</td></tr>\n",
       "<tr><td class=\"char\">TECH</td><td class=\"char\">Optimization Technique</td><td class=\"char\">Newton-Raphson with Ridging</td></tr>\n",
       "</tbody>\n",
       "</table><table class=\"sas-dataframe\">\n",
       "<colgroup><col class=\"char\" /><col class=\"char\" /><col class=\"double\" /><col class=\"double\" /><col class=\"double\" /></colgroup>\n",
       "<thead>\n",
       "<tr><th colspan=\"5\">Number of Observations</th></tr>\n",
       "<th class=\"char\">RowId</th>\n",
       "<th class=\"char\">Description</th>\n",
       "<th class=\"double\">Total</th>\n",
       "<th class=\"double\">Training</th>\n",
       "<th class=\"double\">Validation</th>\n",
       "</thead>\n",
       "<tbody>\n",
       "<tr><td class=\"char\">NREAD</td><td class=\"char\">Number of Observations Read</td><td class=\"double\">1060038</td><td class=\"double\">742026</td><td class=\"double\">318012</td></tr>\n",
       "<tr><td class=\"char\">NUSED</td><td class=\"char\">Number of Observations Used</td><td class=\"double\">1060038</td><td class=\"double\">742026</td><td class=\"double\">318012</td></tr>\n",
       "</tbody>\n",
       "</table><table class=\"sas-dataframe\">\n",
       "<colgroup><col class=\"int32\" /><col class=\"char\" /><col class=\"double\" /><col class=\"double\" /><col class=\"double\" /><col class=\"double\" /><col class=\"char\" /></colgroup>\n",
       "<thead>\n",
       "<tr><th colspan=\"7\">Response Profile</th></tr>\n",
       "<th class=\"int32\">Ordered Value</th>\n",
       "<th class=\"char\">b_tgt</th>\n",
       "<th class=\"double\">Binary New Product</th>\n",
       "<th class=\"double\">Total Frequency</th>\n",
       "<th class=\"double\">Training</th>\n",
       "<th class=\"double\">Validation</th>\n",
       "<th class=\"char\">Probability Modeled</th>\n",
       "</thead>\n",
       "<tbody>\n",
       "<tr><td class=\"int32\">1</td><td class=\"char\">0</td><td class=\"double\">0</td><td class=\"double\">848529</td><td class=\"double\">593970</td><td class=\"double\">254559</td><td class=\"char\"></td></tr>\n",
       "<tr><td class=\"int32\">2</td><td class=\"char\">1</td><td class=\"double\">1</td><td class=\"double\">211509</td><td class=\"double\">148056</td><td class=\"double\">63453</td><td class=\"char\">*</td></tr>\n",
       "</tbody>\n",
       "</table><table class=\"sas-dataframe\">\n",
       "<colgroup><col class=\"char\" /><col class=\"double\" /><col class=\"char\" /></colgroup>\n",
       "<thead>\n",
       "<tr><th colspan=\"3\">Class Level Information</th></tr>\n",
       "<th class=\"char\">Class</th>\n",
       "<th class=\"double\">Levels</th>\n",
       "<th class=\"char\">Values</th>\n",
       "</thead>\n",
       "<tbody>\n",
       "<tr><td class=\"char\">cat_input2</td><td class=\"double\">5</td><td class=\"char\">A B C D E</td></tr>\n",
       "<tr><td class=\"char\">cat_input1</td><td class=\"double\">3</td><td class=\"char\">X Y Z</td></tr>\n",
       "</tbody>\n",
       "</table><table class=\"sas-dataframe\">\n",
       "<colgroup><col class=\"char\" /><col class=\"char\" /><col class=\"double\" /></colgroup>\n",
       "<thead>\n",
       "<tr><th colspan=\"3\">Selection Information</th></tr>\n",
       "<th class=\"char\">Description</th>\n",
       "<th class=\"char\">Value</th>\n",
       "<th class=\"double\">Numeric Value</th>\n",
       "</thead>\n",
       "<tbody>\n",
       "<tr><td class=\"char\">Selection Method</td><td class=\"char\">Backward</td><td class=\"double\">nan</td></tr>\n",
       "<tr><td class=\"char\">Select Criterion</td><td class=\"char\">SBC</td><td class=\"double\">nan</td></tr>\n",
       "<tr><td class=\"char\">Stop Criterion</td><td class=\"char\">SBC</td><td class=\"double\">nan</td></tr>\n",
       "<tr><td class=\"char\">Effect Hierarchy Enforced</td><td class=\"char\">Single</td><td class=\"double\">nan</td></tr>\n",
       "<tr><td class=\"char\">Stop Horizon</td><td class=\"char\">3</td><td class=\"double\">3</td></tr>\n",
       "</tbody>\n",
       "</table><table class=\"sas-dataframe\">\n",
       "<colgroup><col class=\"char\" /><col class=\"int32\" /><col class=\"double\" /></colgroup>\n",
       "<thead>\n",
       "<tr><th colspan=\"3\">Convergence Status</th></tr>\n",
       "<th class=\"char\">Reason</th>\n",
       "<th class=\"int32\">Status</th>\n",
       "<th class=\"double\">Max Gradient</th>\n",
       "</thead>\n",
       "<tbody>\n",
       "<tr><td class=\"char\">Convergence criterion (GCONV=1E-8) satisfied.</td><td class=\"int32\">0</td><td class=\"double\">9.578494E-11</td></tr>\n",
       "</tbody>\n",
       "</table><table class=\"sas-dataframe\">\n",
       "<colgroup><col class=\"char\" /><col class=\"int32\" /><col class=\"char\" /><col class=\"int32\" /><col class=\"double\" /><col class=\"int32\" /></colgroup>\n",
       "<thead>\n",
       "<tr><th colspan=\"6\">Selection Summary</th></tr>\n",
       "<th class=\"char\">Control</th>\n",
       "<th class=\"int32\">Step</th>\n",
       "<th class=\"char\">Effect Removed</th>\n",
       "<th class=\"int32\">Number Of Effects</th>\n",
       "<th class=\"double\">SBC</th>\n",
       "<th class=\"int32\">Optimal SBC</th>\n",
       "</thead>\n",
       "<tbody>\n",
       "<tr><td class=\"char\"></td><td class=\"int32\">0</td><td class=\"char\"></td><td class=\"int32\">15</td><td class=\"double\">545746.46493</td><td class=\"int32\">0</td></tr>\n",
       "<tr><td class=\"char\">-</td><td class=\"int32\">1</td><td class=\"char\">logi_rfm4</td><td class=\"int32\">14</td><td class=\"double\">545733.67358</td><td class=\"int32\">0</td></tr>\n",
       "<tr><td class=\"char\"></td><td class=\"int32\">2</td><td class=\"char\">logi_rfm1</td><td class=\"int32\">13</td><td class=\"double\">545725.39081</td><td class=\"int32\">0</td></tr>\n",
       "<tr><td class=\"char\"></td><td class=\"int32\">3</td><td class=\"char\">logi_rfm11</td><td class=\"int32\">12</td><td class=\"double\">545716.33587</td><td class=\"int32\">1</td></tr>\n",
       "<tr><td class=\"char\"></td><td class=\"int32\">4</td><td class=\"char\">logi_rfm8</td><td class=\"int32\">11</td><td class=\"double\">545728.53544</td><td class=\"int32\">0</td></tr>\n",
       "<tr><td class=\"char\"></td><td class=\"int32\">5</td><td class=\"char\">logi_rfm7</td><td class=\"int32\">10</td><td class=\"double\">545761.6212</td><td class=\"int32\">0</td></tr>\n",
       "<tr><td class=\"char\"></td><td class=\"int32\">6</td><td class=\"char\">logi_rfm6</td><td class=\"int32\">9</td><td class=\"double\">545861.40501</td><td class=\"int32\">0</td></tr>\n",
       "</tbody>\n",
       "</table><table class=\"sas-dataframe\">\n",
       "<colgroup><col class=\"char\" /><col class=\"int32\" /></colgroup>\n",
       "<thead>\n",
       "<tr><th colspan=\"2\">Stop Reason</th></tr>\n",
       "<th class=\"char\">Reason</th>\n",
       "<th class=\"int32\">Code</th>\n",
       "</thead>\n",
       "<tbody>\n",
       "<tr><td class=\"char\">Selection stopped at a local minimum of the STOP criterion.</td><td class=\"int32\">6</td></tr>\n",
       "</tbody>\n",
       "</table><table class=\"sas-dataframe\">\n",
       "<colgroup><col class=\"char\" /></colgroup>\n",
       "<thead>\n",
       "<tr><th colspan=\"1\">Selection Reason</th></tr>\n",
       "<th class=\"char\">Reason</th>\n",
       "</thead>\n",
       "<tbody>\n",
       "<tr><td class=\"char\">The model at step 3 is selected.</td></tr>\n",
       "</tbody>\n",
       "</table><table class=\"sas-dataframe\">\n",
       "<colgroup><col class=\"char\" /><col class=\"char\" /></colgroup>\n",
       "<thead>\n",
       "<tr><th colspan=\"2\">Selected Effects</th></tr>\n",
       "<th class=\"char\">Label</th>\n",
       "<th class=\"char\">Effects</th>\n",
       "</thead>\n",
       "<tbody>\n",
       "<tr><td class=\"char\">Selected Effects:</td><td class=\"char\">Intercept logi_rfm8 logi_rfm5 logi_rfm9 logi_rfm10 logi_rfm7 logi_rfm3 cat_input2 logi_rfm6 logi_rfm2 logi_rfm12 cat_input1</td></tr>\n",
       "</tbody>\n",
       "</table><table class=\"sas-dataframe\">\n",
       "<colgroup><col class=\"char\" /><col class=\"char\" /><col class=\"int32\" /></colgroup>\n",
       "<thead>\n",
       "<tr><th colspan=\"3\">Dimensions</th></tr>\n",
       "<th class=\"char\">RowId</th>\n",
       "<th class=\"char\">Description</th>\n",
       "<th class=\"int32\">Value</th>\n",
       "</thead>\n",
       "<tbody>\n",
       "<tr><td class=\"char\">NDESIGNCOLS</td><td class=\"char\">Columns in Design</td><td class=\"int32\">18</td></tr>\n",
       "<tr><td class=\"char\">NEFFECTS</td><td class=\"char\">Number of Effects</td><td class=\"int32\">12</td></tr>\n",
       "<tr><td class=\"char\">MAXEFCOLS</td><td class=\"char\">Max Effect Columns</td><td class=\"int32\">5</td></tr>\n",
       "<tr><td class=\"char\">DESIGNRANK</td><td class=\"char\">Rank of Design</td><td class=\"int32\">16</td></tr>\n",
       "<tr><td class=\"char\">OPTPARM</td><td class=\"char\">Parameters in Optimization</td><td class=\"int32\">16</td></tr>\n",
       "</tbody>\n",
       "</table><table class=\"sas-dataframe\">\n",
       "<colgroup><col class=\"char\" /><col class=\"int32\" /><col class=\"double\" /><col class=\"double\" /></colgroup>\n",
       "<thead>\n",
       "<tr><th colspan=\"4\">Likelihood Ratio Test</th></tr>\n",
       "<th class=\"char\">Test</th>\n",
       "<th class=\"int32\">DF</th>\n",
       "<th class=\"double\">Chi-Square</th>\n",
       "<th class=\"double\">Pr > ChiSq</th>\n",
       "</thead>\n",
       "<tbody>\n",
       "<tr><td class=\"char\">Likelihood Ratio</td><td class=\"int32\">15</td><td class=\"double\">196153.9466</td><td class=\"double\">0</td></tr>\n",
       "</tbody>\n",
       "</table><table class=\"sas-dataframe\">\n",
       "<colgroup><col class=\"char\" /><col class=\"char\" /><col class=\"double\" /><col class=\"double\" /></colgroup>\n",
       "<thead>\n",
       "<tr><th colspan=\"4\">Fit Statistics</th></tr>\n",
       "<th class=\"char\">RowId</th>\n",
       "<th class=\"char\">Description</th>\n",
       "<th class=\"double\">Training</th>\n",
       "<th class=\"double\">Validation</th>\n",
       "</thead>\n",
       "<tbody>\n",
       "<tr><td class=\"char\">M2LL</td><td class=\"char\">-2 Log Likelihood</td><td class=\"double\">545500.05518</td><td class=\"double\">233523.23945</td></tr>\n",
       "<tr><td class=\"char\">AIC</td><td class=\"char\">AIC (smaller is better)</td><td class=\"double\">545532.05518</td><td class=\"double\">233555.23945</td></tr>\n",
       "<tr><td class=\"char\">AICC</td><td class=\"char\">AICC (smaller is better)</td><td class=\"double\">545532.05592</td><td class=\"double\">233555.24116</td></tr>\n",
       "<tr><td class=\"char\">SBC</td><td class=\"char\">SBC (smaller is better)</td><td class=\"double\">545716.32942</td><td class=\"double\">233725.95696</td></tr>\n",
       "<tr><td class=\"char\">ASE</td><td class=\"char\">Average Square Error</td><td class=\"double\">0.1147475696</td><td class=\"double\">0.1144903548</td></tr>\n",
       "<tr><td class=\"char\">M2LLNULL</td><td class=\"char\">-2 Log L (Intercept-only)</td><td class=\"double\">741654.00178</td><td class=\"double\">317853.28735</td></tr>\n",
       "<tr><td class=\"char\">RSQUARE</td><td class=\"char\">R-Square</td><td class=\"double\">0.2322945559</td><td class=\"double\">0.2329312319</td></tr>\n",
       "<tr><td class=\"char\">ADJRSQ</td><td class=\"char\">Max-rescaled R-Square</td><td class=\"double\">0.3675918524</td><td class=\"double\">0.36859887</td></tr>\n",
       "<tr><td class=\"char\">MCFADDEN</td><td class=\"char\">McFadden's R-Square</td><td class=\"double\">0.2644817477</td><td class=\"double\">0.265311234</td></tr>\n",
       "<tr><td class=\"char\">MISCLASS</td><td class=\"char\">Misclassification Rate</td><td class=\"double\">0.1618258659</td><td class=\"double\">0.1612580657</td></tr>\n",
       "<tr><td class=\"char\">DIFFMEAN</td><td class=\"char\">Difference of Means</td><td class=\"double\">0.2804890629</td><td class=\"double\">0.2808040487</td></tr>\n",
       "</tbody>\n",
       "</table><table class=\"sas-dataframe\">\n",
       "<colgroup><col class=\"char\" /><col class=\"char\" /><col class=\"char\" /><col class=\"char\" /><col class=\"char\" /><col class=\"int32\" /><col class=\"double\" /><col class=\"double\" /><col class=\"double\" /><col class=\"double\" /></colgroup>\n",
       "<thead>\n",
       "<tr><th colspan=\"10\">Parameter Estimates</th></tr>\n",
       "<th class=\"char\">Effect</th>\n",
       "<th class=\"char\">cat_input2</th>\n",
       "<th class=\"char\">cat_input1</th>\n",
       "<th class=\"char\">Parameter</th>\n",
       "<th class=\"char\">Parameter</th>\n",
       "<th class=\"int32\">DF</th>\n",
       "<th class=\"double\">Estimate</th>\n",
       "<th class=\"double\">Standard Error</th>\n",
       "<th class=\"double\">Chi-Square</th>\n",
       "<th class=\"double\">Pr > ChiSq</th>\n",
       "</thead>\n",
       "<tbody>\n",
       "<tr><td class=\"char\">Intercept</td><td class=\"char\"></td><td class=\"char\"></td><td class=\"char\">Intercept</td><td class=\"char\">Intercept</td><td class=\"int32\">1</td><td class=\"double\">6.8363601536</td><td class=\"double\">0.0809484308</td><td class=\"double\">7132.3558003</td><td class=\"double\">0</td></tr>\n",
       "<tr><td class=\"char\">logi_rfm8</td><td class=\"char\"></td><td class=\"char\"></td><td class=\"char\">logi_rfm8</td><td class=\"char\">logi_rfm8</td><td class=\"int32\">1</td><td class=\"double\">0.0807632289</td><td class=\"double\">0.0159239734</td><td class=\"double\">25.723168445</td><td class=\"double\">3.9406773E-7</td></tr>\n",
       "<tr><td class=\"char\">logi_rfm5</td><td class=\"char\"></td><td class=\"char\"></td><td class=\"char\">logi_rfm5</td><td class=\"char\">logi_rfm5</td><td class=\"int32\">1</td><td class=\"double\">1.7312823337</td><td class=\"double\">0.0156654583</td><td class=\"double\">12213.765664</td><td class=\"double\">0</td></tr>\n",
       "<tr><td class=\"char\">logi_rfm9</td><td class=\"char\"></td><td class=\"char\"></td><td class=\"char\">logi_rfm9</td><td class=\"char\">logi_rfm9</td><td class=\"int32\">1</td><td class=\"double\">-2.288158133</td><td class=\"double\">0.0148259282</td><td class=\"double\">23819.261174</td><td class=\"double\">0</td></tr>\n",
       "<tr><td class=\"char\">logi_rfm10</td><td class=\"char\"></td><td class=\"char\"></td><td class=\"char\">logi_rfm10</td><td class=\"char\">logi_rfm10</td><td class=\"int32\">1</td><td class=\"double\">-0.269347565</td><td class=\"double\">0.015482936</td><td class=\"double\">302.63522218</td><td class=\"double\">8.783213E-68</td></tr>\n",
       "<tr><td class=\"char\">logi_rfm7</td><td class=\"char\"></td><td class=\"char\"></td><td class=\"char\">logi_rfm7</td><td class=\"char\">logi_rfm7</td><td class=\"int32\">1</td><td class=\"double\">-0.111785306</td><td class=\"double\">0.0131842001</td><td class=\"double\">71.888905041</td><td class=\"double\">2.276604E-17</td></tr>\n",
       "<tr><td class=\"char\">logi_rfm3</td><td class=\"char\"></td><td class=\"char\"></td><td class=\"char\">logi_rfm3</td><td class=\"char\">logi_rfm3</td><td class=\"int32\">1</td><td class=\"double\">-0.267150622</td><td class=\"double\">0.0142524425</td><td class=\"double\">351.34500476</td><td class=\"double\">2.158974E-78</td></tr>\n",
       "<tr><td class=\"char\">cat_input2</td><td class=\"char\">A</td><td class=\"char\"></td><td class=\"char\">cat_input2 A</td><td class=\"char\">cat_input2_A</td><td class=\"int32\">1</td><td class=\"double\">1.3864852861</td><td class=\"double\">0.0098839028</td><td class=\"double\">19677.666748</td><td class=\"double\">0</td></tr>\n",
       "<tr><td class=\"char\">cat_input2</td><td class=\"char\">B</td><td class=\"char\"></td><td class=\"char\">cat_input2 B</td><td class=\"char\">cat_input2_B</td><td class=\"int32\">1</td><td class=\"double\">0.8400725441</td><td class=\"double\">0.0099645676</td><td class=\"double\">7107.4967145</td><td class=\"double\">0</td></tr>\n",
       "<tr><td class=\"char\">cat_input2</td><td class=\"char\">C</td><td class=\"char\"></td><td class=\"char\">cat_input2 C</td><td class=\"char\">cat_input2_C</td><td class=\"int32\">1</td><td class=\"double\">0.4643827943</td><td class=\"double\">0.0105308271</td><td class=\"double\">1944.5865609</td><td class=\"double\">0</td></tr>\n",
       "<tr><td class=\"char\">cat_input2</td><td class=\"char\">D</td><td class=\"char\"></td><td class=\"char\">cat_input2 D</td><td class=\"char\">cat_input2_D</td><td class=\"int32\">1</td><td class=\"double\">0.3662296888</td><td class=\"double\">0.0121228861</td><td class=\"double\">912.63064222</td><td class=\"double\">1.76235E-200</td></tr>\n",
       "<tr><td class=\"char\">cat_input2</td><td class=\"char\">E</td><td class=\"char\"></td><td class=\"char\">cat_input2 E</td><td class=\"char\">cat_input2_E</td><td class=\"int32\">0</td><td class=\"double\">0</td><td class=\"double\">nan</td><td class=\"double\">nan</td><td class=\"double\">nan</td></tr>\n",
       "<tr><td class=\"char\">logi_rfm6</td><td class=\"char\"></td><td class=\"char\"></td><td class=\"char\">logi_rfm6</td><td class=\"char\">logi_rfm6</td><td class=\"int32\">1</td><td class=\"double\">-0.176835919</td><td class=\"double\">0.0165867625</td><td class=\"double\">113.66263318</td><td class=\"double\">1.54477E-26</td></tr>\n",
       "<tr><td class=\"char\">logi_rfm2</td><td class=\"char\"></td><td class=\"char\"></td><td class=\"char\">logi_rfm2</td><td class=\"char\">logi_rfm2</td><td class=\"int32\">1</td><td class=\"double\">-1.426265516</td><td class=\"double\">0.01602028</td><td class=\"double\">7926.1185147</td><td class=\"double\">0</td></tr>\n",
       "<tr><td class=\"char\">logi_rfm12</td><td class=\"char\"></td><td class=\"char\"></td><td class=\"char\">logi_rfm12</td><td class=\"char\">logi_rfm12</td><td class=\"int32\">1</td><td class=\"double\">0.1195687461</td><td class=\"double\">0.0148789573</td><td class=\"double\">64.578857374</td><td class=\"double\">9.274522E-16</td></tr>\n",
       "<tr><td class=\"char\">cat_input1</td><td class=\"char\"></td><td class=\"char\">X</td><td class=\"char\">cat_input1 X</td><td class=\"char\">cat_input1_X</td><td class=\"int32\">1</td><td class=\"double\">0.158236518</td><td class=\"double\">0.0171038784</td><td class=\"double\">85.590237969</td><td class=\"double\">2.213656E-20</td></tr>\n",
       "<tr><td class=\"char\">cat_input1</td><td class=\"char\"></td><td class=\"char\">Y</td><td class=\"char\">cat_input1 Y</td><td class=\"char\">cat_input1_Y</td><td class=\"int32\">1</td><td class=\"double\">0.2655498772</td><td class=\"double\">0.0206157303</td><td class=\"double\">165.91847977</td><td class=\"double\">5.763329E-38</td></tr>\n",
       "<tr><td class=\"char\">cat_input1</td><td class=\"char\"></td><td class=\"char\">Z</td><td class=\"char\">cat_input1 Z</td><td class=\"char\">cat_input1_Z</td><td class=\"int32\">0</td><td class=\"double\">0</td><td class=\"double\">nan</td><td class=\"double\">nan</td><td class=\"double\">nan</td></tr>\n",
       "</tbody>\n",
       "</table><table class=\"sas-dataframe\">\n",
       "<colgroup><col class=\"char\" /><col class=\"char\" /><col class=\"double\" /><col class=\"double\" /></colgroup>\n",
       "<thead>\n",
       "<tr><th colspan=\"4\">Task Timing</th></tr>\n",
       "<th class=\"char\">RowId</th>\n",
       "<th class=\"char\">Task</th>\n",
       "<th class=\"double\">Time</th>\n",
       "<th class=\"double\">Relative Time</th>\n",
       "</thead>\n",
       "<tbody>\n",
       "<tr><td class=\"char\">SETUP</td><td class=\"char\">Setup and Parsing</td><td class=\"double\">0.0031399727</td><td class=\"double\">0.0005336629</td></tr>\n",
       "<tr><td class=\"char\">LEVELIZATION</td><td class=\"char\">Levelization</td><td class=\"double\">0.3512101173</td><td class=\"double\">0.059690905</td></tr>\n",
       "<tr><td class=\"char\">INITIALIZATION</td><td class=\"char\">Model Initialization</td><td class=\"double\">0.0004010201</td><td class=\"double\">0.0000681565</td></tr>\n",
       "<tr><td class=\"char\">SSCP</td><td class=\"char\">SSCP Computation</td><td class=\"double\">0.2983038425</td><td class=\"double\">0.05069907</td></tr>\n",
       "<tr><td class=\"char\">FITTING</td><td class=\"char\">Model Selection</td><td class=\"double\">4.4121031761</td><td class=\"double\">0.7498714265</td></tr>\n",
       "<tr><td class=\"char\">OUTPUT</td><td class=\"char\">Creating Output Data</td><td class=\"double\">0.813062191</td><td class=\"double\">0.1381862755</td></tr>\n",
       "<tr><td class=\"char\">CLEANUP</td><td class=\"char\">Cleanup</td><td class=\"double\">0.0012729168</td><td class=\"double\">0.0002163422</td></tr>\n",
       "<tr><td class=\"char\">TOTAL</td><td class=\"char\">Total</td><td class=\"double\">5.8838129044</td><td class=\"double\">1</td></tr>\n",
       "</tbody>\n",
       "</table><table class=\"sas-dataframe\">\n",
       "<colgroup><col class=\"varchar\" /><col class=\"varchar\" /><col class=\"varchar\" /><col class=\"int64\" /><col class=\"int64\" /><col class=\"object\" /></colgroup>\n",
       "<thead>\n",
       "<tr><th colspan=\"6\">Output CAS Tables</th></tr>\n",
       "<th class=\"varchar\">CAS Library</th>\n",
       "<th class=\"varchar\">Name</th>\n",
       "<th class=\"varchar\">Label</th>\n",
       "<th class=\"int64\">Number of Rows</th>\n",
       "<th class=\"int64\">Number of Columns</th>\n",
       "<th class=\"object\">Table</th>\n",
       "</thead>\n",
       "<tbody>\n",
       "<tr><td class=\"varchar\">CASUSER(viyauser)</td><td class=\"varchar\">_scored_logistic</td><td class=\"varchar\"></td><td class=\"int64\">1060038</td><td class=\"int64\">56</td><td class=\"object\">CASTable('_scored_logistic', caslib='CASUSER(viyauser)')</td></tr>\n",
       "</tbody>\n",
       "</table></div>"
      ]
     },
     "metadata": {},
     "output_type": "display_data"
    },
    {
     "data": {
      "text/html": [
       "<div class=\"cas-results-key\"><b>&#167; InputCasTables</b></div>\n",
       "<div class=\"cas-results-body\">\n",
       "<div>\n",
       "<table border=\"1\" class=\"dataframe\">\n",
       "  <thead>\n",
       "    <tr style=\"text-align: right;\">\n",
       "      <th title=\"\"></th>\n",
       "      <th title=\"CAS Library\">casLib</th>\n",
       "      <th title=\"Name\">Name</th>\n",
       "      <th title=\"Number of Rows\">Rows</th>\n",
       "      <th title=\"Number of Columns\">Columns</th>\n",
       "      <th title=\"Table\">casTable</th>\n",
       "    </tr>\n",
       "  </thead>\n",
       "  <tbody>\n",
       "    <tr>\n",
       "      <th>0</th>\n",
       "      <td>CASUSER(viyauser)</td>\n",
       "      <td>_scored_logistic</td>\n",
       "      <td>1060038</td>\n",
       "      <td>56</td>\n",
       "      <td>CASTable('_scored_logistic', caslib='CASUSER(v...</td>\n",
       "    </tr>\n",
       "  </tbody>\n",
       "</table>\n",
       "</div>\n",
       "</div>\n",
       "<div class=\"cas-results-key\"><hr/><b>&#167; OutputCasTables</b></div>\n",
       "<div class=\"cas-results-body\">\n",
       "<div>\n",
       "<table border=\"1\" class=\"dataframe\">\n",
       "  <thead>\n",
       "    <tr style=\"text-align: right;\">\n",
       "      <th title=\"\"></th>\n",
       "      <th title=\"CAS Library\">casLib</th>\n",
       "      <th title=\"Name\">Name</th>\n",
       "      <th title=\"Number of Rows\">Rows</th>\n",
       "      <th title=\"Number of Columns\">Columns</th>\n",
       "      <th title=\"Table\">casTable</th>\n",
       "    </tr>\n",
       "  </thead>\n",
       "  <tbody>\n",
       "    <tr>\n",
       "      <th>0</th>\n",
       "      <td>CASUSER(viyauser)</td>\n",
       "      <td>_scored_logistic</td>\n",
       "      <td>1060038</td>\n",
       "      <td>57</td>\n",
       "      <td>CASTable('_scored_logistic', caslib='CASUSER(v...</td>\n",
       "    </tr>\n",
       "  </tbody>\n",
       "</table>\n",
       "</div>\n",
       "</div>\n",
       "<div class=\"cas-output-area\"></div>\n",
       "<p class=\"cas-results-performance\"><small><span class=\"cas-elapsed\">elapsed 0.945s</span> &#183; <span class=\"cas-user\">user 2.72s</span> &#183; <span class=\"cas-sys\">sys 0.972s</span> &#183; <span class=\"cas-memory\">mem 45.3MB</span></small></p>"
      ],
      "text/plain": [
       "[InputCasTables]\n",
       "\n",
       "               casLib              Name     Rows  Columns  \\\n",
       " 0  CASUSER(viyauser)  _scored_logistic  1060038       56   \n",
       " \n",
       "                                             casTable  \n",
       " 0  CASTable('_scored_logistic', caslib='CASUSER(v...  \n",
       "\n",
       "[OutputCasTables]\n",
       "\n",
       "               casLib              Name     Rows  Columns  \\\n",
       " 0  CASUSER(viyauser)  _scored_logistic  1060038       57   \n",
       " \n",
       "                                             casTable  \n",
       " 0  CASTable('_scored_logistic', caslib='CASUSER(v...  \n",
       "\n",
       "+ Elapsed: 0.945s, user: 2.72s, sys: 0.972s, mem: 45.3mb"
      ]
     },
     "execution_count": 8,
     "metadata": {},
     "output_type": "execute_result"
    }
   ],
   "source": [
    "# ALL data used for training model \n",
    "lr = sess.regression.logistic(\n",
    "  table={\"name\":\"bank_part\"},\n",
    "  classVars=[{\"vars\":{\"b_tgt\", \"cat_input1\", \"cat_input2\"}}],\n",
    "  model={\n",
    "    \"depVars\":[{\"name\":target, \"options\":{\"event\":\"1\"}}],\n",
    "    \"effects\":[{\"vars\":{\"cat_input1\", \"cat_input2\", \"logi_rfm1\", \"logi_rfm2\",\n",
    "                       \"logi_rfm3\", \"logi_rfm4\", \"logi_rfm5\", \"logi_rfm6\", \"logi_rfm7\",\n",
    "                       \"logi_rfm8\", \"logi_rfm9\", \"logi_rfm10\", \"logi_rfm11\", \"logi_rfm12\"}}]\n",
    "  },\n",
    "  partByVar={\"name\": \"_partind_\", \"train\": \"1\", \"valid\": \"0\"},\n",
    "  selection={\"method\":\"BACKWARD\"},\n",
    "  output={\"casOut\":{\"name\":\"_scored_logistic\", \"replace\":True}, \"copyVars\":\"ALL\"}\n",
    ")\n",
    "\n",
    "# Output model statistics\n",
    "render_html(lr)\n",
    "\n",
    "# Compute _pred0_ variable (1-_pred_)\n",
    "sess.dataStep.runCode(\n",
    "  code=\"data _scored_logistic; set _scored_logistic; _pred0_=1-_pred_; run;\"\n",
    ")"
   ]
  },
  {
   "cell_type": "markdown",
   "metadata": {},
   "source": [
    "### Assess model performance (LOGISTIC REGRESSION) "
   ]
  },
  {
   "cell_type": "code",
   "execution_count": 9,
   "metadata": {
    "collapsed": false
   },
   "outputs": [],
   "source": [
    "logitAssess=sess.percentile.assess(\n",
    "  table={\n",
    "    \"name\":\"_scored_logistic\", \n",
    "    \"where\": \"strip(put(_partind_, best.))='0'\"\n",
    "  },\n",
    "  inputs=[{\"name\":\"_pred_\"}],\n",
    "  response=\"b_tgt\",\n",
    "  event=\"1\",\n",
    "  pVar={\"_pred0_\"},\n",
    "  pEvent={\"0\"}\n",
    ")\n",
    "\n",
    "logic_fitstat =logitAssess.FitStat\n",
    "logit_rocinfo =logitAssess.ROCInfo\n",
    "logit_liftinfo=logitAssess.LIFTInfo"
   ]
  },
  {
   "cell_type": "markdown",
   "metadata": {},
   "source": [
    "### DECISION TREE predictive model"
   ]
  },
  {
   "cell_type": "code",
   "execution_count": 10,
   "metadata": {
    "collapsed": false,
    "scrolled": false
   },
   "outputs": [
    {
     "data": {
      "text/html": [
       "\n",
       "    <style type=\"text/css\">\n",
       "    div.cas-results {\n",
       "        overflow-x: auto;\n",
       "    }\n",
       "    div.cas-results > * {\n",
       "        margin-left: auto !important;\n",
       "        margin-right: auto !important;\n",
       "    }\n",
       "    div.cas-results .sas-dataframe th[colspan],\n",
       "    div.cas-results .byline {\n",
       "        text-align: center;\n",
       "        font-size: 110%;\n",
       "    }\n",
       "    div.cas-results .sas-dataframe > tbody > tr:nth-child(even) {\n",
       "        background-color: #f8f8f8;\n",
       "    }\n",
       "    div.cas-results .sas-dataframe td,\n",
       "    div.cas-results .sas-dataframe th {\n",
       "        border: 1px solid #aaaaaa;\n",
       "        padding: 5px 10px;\n",
       "    }\n",
       "    div.cas-results .sas-dataframe th {\n",
       "        background-color: #f0f0f0;\n",
       "    }\n",
       "    div.cas-results .sas-dataframe .double,\n",
       "    div.cas-results .sas-dataframe .int32,\n",
       "    div.cas-results .sas-dataframe .int64,\n",
       "    div.cas-results .sas-dataframe .decsext,\n",
       "    div.cas-results .sas-dataframe .decquad {\n",
       "        text-align: right;\n",
       "    }\n",
       "    </style>\n",
       "<div class=\"cas-results\"><table class=\"sas-dataframe\">\n",
       "<colgroup><col class=\"char\" /><col class=\"double\" /></colgroup>\n",
       "<thead>\n",
       "<tr><th colspan=\"2\">Decision Tree for BANK_PART</th></tr>\n",
       "<th class=\"char\">Descr</th>\n",
       "<th class=\"double\">Value</th>\n",
       "</thead>\n",
       "<tbody>\n",
       "<tr><td class=\"char\">Number of Tree Nodes</td><td class=\"double\">517</td></tr>\n",
       "<tr><td class=\"char\">Max Number of Branches</td><td class=\"double\">2</td></tr>\n",
       "<tr><td class=\"char\">Number of Levels</td><td class=\"double\">10</td></tr>\n",
       "<tr><td class=\"char\">Number of Leaves</td><td class=\"double\">259</td></tr>\n",
       "<tr><td class=\"char\">Number of Bins</td><td class=\"double\">20</td></tr>\n",
       "<tr><td class=\"char\">Minimum Size of Leaves</td><td class=\"double\">5</td></tr>\n",
       "<tr><td class=\"char\">Maximum Size of Leaves</td><td class=\"double\">83432</td></tr>\n",
       "<tr><td class=\"char\">Number of Variables</td><td class=\"double\">14</td></tr>\n",
       "<tr><td class=\"char\">Confidence Level for Pruning</td><td class=\"double\">0.25</td></tr>\n",
       "<tr><td class=\"char\">Number of Observations Used</td><td class=\"double\">742026</td></tr>\n",
       "<tr><td class=\"char\">Misclassification Error (%)</td><td class=\"double\">15.383423222</td></tr>\n",
       "</tbody>\n",
       "</table><table class=\"sas-dataframe\">\n",
       "<colgroup><col class=\"varchar\" /><col class=\"varchar\" /><col class=\"int64\" /><col class=\"int64\" /><col class=\"object\" /></colgroup>\n",
       "<thead>\n",
       "<tr><th colspan=\"5\">Output CAS Tables</th></tr>\n",
       "<th class=\"varchar\">CAS Library</th>\n",
       "<th class=\"varchar\">Name</th>\n",
       "<th class=\"int64\">Number of Rows</th>\n",
       "<th class=\"int64\">Number of Columns</th>\n",
       "<th class=\"object\">Table</th>\n",
       "</thead>\n",
       "<tbody>\n",
       "<tr><td class=\"varchar\">CASUSER(viyauser)</td><td class=\"varchar\">tree_model</td><td class=\"int64\">517</td><td class=\"int64\">35</td><td class=\"object\">CASTable('tree_model', caslib='CASUSER(viyauser)')</td></tr>\n",
       "</tbody>\n",
       "</table></div>"
      ]
     },
     "metadata": {},
     "output_type": "display_data"
    },
    {
     "name": "stdout",
     "output_type": "stream",
     "text": [
      "NOTE: Character values have been converted to numeric values at the places given by: (Line):(Column).\n",
      "      0:39    0:114\n",
      "NOTE: Duplicate messages output by DATA step:\n",
      "NOTE: Character values have been converted to numeric values at the places given by: (Line):(Column).  (occurred 8 times)\n",
      "      0:39    0:114  (occurred 8 times)\n"
     ]
    },
    {
     "data": {
      "text/html": [
       "<div class=\"cas-results-key\"><b>&#167; InputCasTables</b></div>\n",
       "<div class=\"cas-results-body\">\n",
       "<div>\n",
       "<table border=\"1\" class=\"dataframe\">\n",
       "  <thead>\n",
       "    <tr style=\"text-align: right;\">\n",
       "      <th title=\"\"></th>\n",
       "      <th title=\"CAS Library\">casLib</th>\n",
       "      <th title=\"Name\">Name</th>\n",
       "      <th title=\"Number of Rows\">Rows</th>\n",
       "      <th title=\"Number of Columns\">Columns</th>\n",
       "      <th title=\"Table\">casTable</th>\n",
       "    </tr>\n",
       "  </thead>\n",
       "  <tbody>\n",
       "    <tr>\n",
       "      <th>0</th>\n",
       "      <td>CASUSER(viyauser)</td>\n",
       "      <td>_scored_tree</td>\n",
       "      <td>1060038</td>\n",
       "      <td>18</td>\n",
       "      <td>CASTable('_scored_tree', caslib='CASUSER(viyau...</td>\n",
       "    </tr>\n",
       "  </tbody>\n",
       "</table>\n",
       "</div>\n",
       "</div>\n",
       "<div class=\"cas-results-key\"><hr/><b>&#167; OutputCasTables</b></div>\n",
       "<div class=\"cas-results-body\">\n",
       "<div>\n",
       "<table border=\"1\" class=\"dataframe\">\n",
       "  <thead>\n",
       "    <tr style=\"text-align: right;\">\n",
       "      <th title=\"\"></th>\n",
       "      <th title=\"CAS Library\">casLib</th>\n",
       "      <th title=\"Name\">Name</th>\n",
       "      <th title=\"Number of Rows\">Rows</th>\n",
       "      <th title=\"Number of Columns\">Columns</th>\n",
       "      <th title=\"Table\">casTable</th>\n",
       "    </tr>\n",
       "  </thead>\n",
       "  <tbody>\n",
       "    <tr>\n",
       "      <th>0</th>\n",
       "      <td>CASUSER(viyauser)</td>\n",
       "      <td>_scored_tree</td>\n",
       "      <td>1060038</td>\n",
       "      <td>20</td>\n",
       "      <td>CASTable('_scored_tree', caslib='CASUSER(viyau...</td>\n",
       "    </tr>\n",
       "  </tbody>\n",
       "</table>\n",
       "</div>\n",
       "</div>\n",
       "<div class=\"cas-output-area\"></div>\n",
       "<p class=\"cas-results-performance\"><small><span class=\"cas-elapsed\">elapsed 0.39s</span> &#183; <span class=\"cas-user\">user 1.14s</span> &#183; <span class=\"cas-sys\">sys 0.287s</span> &#183; <span class=\"cas-memory\">mem 46.1MB</span></small></p>"
      ],
      "text/plain": [
       "[InputCasTables]\n",
       "\n",
       "               casLib          Name     Rows  Columns  \\\n",
       " 0  CASUSER(viyauser)  _scored_tree  1060038       18   \n",
       " \n",
       "                                             casTable  \n",
       " 0  CASTable('_scored_tree', caslib='CASUSER(viyau...  \n",
       "\n",
       "[OutputCasTables]\n",
       "\n",
       "               casLib          Name     Rows  Columns  \\\n",
       " 0  CASUSER(viyauser)  _scored_tree  1060038       20   \n",
       " \n",
       "                                             casTable  \n",
       " 0  CASTable('_scored_tree', caslib='CASUSER(viyau...  \n",
       "\n",
       "+ Elapsed: 0.39s, user: 1.14s, sys: 0.287s, mem: 46.1mb"
      ]
     },
     "execution_count": 10,
     "metadata": {},
     "output_type": "execute_result"
    }
   ],
   "source": [
    "dt = sess.decisionTree.dtreeTrain(\n",
    "  table={\"name\":\"bank_part\", \n",
    "         \"where\":\"strip(put(_partind_, best.))='1'\"},\n",
    "  inputs={\"cat_input1\", \"cat_input2\", \"logi_rfm1\", \"logi_rfm2\",\n",
    "          \"logi_rfm3\", \"logi_rfm4\", \"logi_rfm5\", \"logi_rfm6\", \"logi_rfm7\",\n",
    "          \"logi_rfm8\", \"logi_rfm9\", \"logi_rfm10\", \"logi_rfm11\", \"logi_rfm12\"},\n",
    "  target=\"b_tgt\",\n",
    "  nominals={\"b_tgt\", \"cat_input1\", \"cat_input2\"},\n",
    "  crit=\"GAIN\",\n",
    "  prune=True,\n",
    "  maxLevel=10,\n",
    "  casOut={\"name\":\"tree_model\", \"replace\":True}\n",
    ")\n",
    "\n",
    "# Output model statistics\n",
    "render_html(dt)\n",
    "\n",
    "# Score \n",
    "sess.decisionTree.dtreeScore(\n",
    "  table={\"name\":\"bank_part\"},\n",
    "  modelTable={\"name\":\"tree_model\"},\n",
    "  casOut={\"name\":\"_scored_tree\", \"replace\":True},\n",
    "  copyVars={\"b_tgt\", \"_partind_\"}\n",
    ")\n",
    "\n",
    "# Create p_b_tgt0 and p_b_tgt1 as _dt_predp_ is the probability of event in _dt_predname_\n",
    "sess.dataStep.runCode(\n",
    "  code=\"data _scored_tree; set _scored_tree; if _dt_predname_=1 then do; p_b_tgt1=_dt_predp_; p_b_tgt0=1-p_b_tgt1; end; if _dt_predname_=0 then do; p_b_tgt0=_dt_predp_; p_b_tgt1=1-p_b_tgt0; end; run;\"\n",
    ")"
   ]
  },
  {
   "cell_type": "markdown",
   "metadata": {},
   "source": [
    "### Assess model performance (DECISION TREE) "
   ]
  },
  {
   "cell_type": "code",
   "execution_count": 11,
   "metadata": {
    "collapsed": false
   },
   "outputs": [],
   "source": [
    "treeAssess=sess.percentile.assess(\n",
    "  table={\n",
    "    \"name\":\"_scored_tree\", \n",
    "    \"where\": \"strip(put(_partind_, best.))='0'\"               \n",
    "  },\n",
    "  inputs=[{\"name\":\"p_b_tgt1\"}],  \n",
    "  response=\"b_tgt\",\n",
    "  event=\"1\",\n",
    "  pVar={\"p_b_tgt0\"},\n",
    "  pEvent={\"0\"}\n",
    ")\n",
    "\n",
    "tree_fitstat = treeAssess.FitStat\n",
    "tree_rocinfo = treeAssess.ROCInfo\n",
    "tree_liftinfo= treeAssess.LIFTInfo"
   ]
  },
  {
   "cell_type": "markdown",
   "metadata": {},
   "source": [
    "### Create ROC and Lift plots (both models) using validation data"
   ]
  },
  {
   "cell_type": "code",
   "execution_count": 12,
   "metadata": {
    "collapsed": false
   },
   "outputs": [
    {
     "name": "stdout",
     "output_type": "stream",
     "text": [
      "--------------------------AUC (using validation data)---------------------------\n"
     ]
    },
    {
     "data": {
      "image/png": "[encoded data removed]",
      "text/plain": [
       "<matplotlib.figure.Figure at 0x7f5fb8336710>"
      ]
     },
     "metadata": {},
     "output_type": "display_data"
    },
    {
     "data": {
      "image/png": "[encoded data removed]",
      "text/plain": [
       "<matplotlib.figure.Figure at 0x7f5fb8225eb8>"
      ]
     },
     "metadata": {},
     "output_type": "display_data"
    }
   ],
   "source": [
    "# Add new variable to indicate type of model\n",
    "logit_liftinfo[\"model\"]=\"Logistic\"\n",
    "logit_rocinfo[\"model\"]=\"Logistic\"\n",
    "tree_liftinfo[\"model\"]=\"Tree\"\n",
    "tree_rocinfo[\"model\"]=\"Tree\"\n",
    "\n",
    "# Append data\n",
    "all_liftinfo=logit_liftinfo.append(tree_liftinfo, ignore_index=True)\n",
    "all_rocinfo=logit_rocinfo.append(tree_rocinfo, ignore_index=True)\n",
    "\n",
    "#/* Print AUC (Area Under the ROC Curve) */\n",
    "print(\"AUC (using validation data)\".center(80, '-'))\n",
    "all_rocinfo[[\"model\", \"C\"]].drop_duplicates(keep=\"first\").sort_values(by=\"C\", ascending=False)\n",
    "\n",
    "#/* Draw ROC charts */ \n",
    "plt.figure()\n",
    "for key, grp in all_rocinfo.groupby([\"model\"]):\n",
    "    plt.plot(grp[\"FPR\"], grp[\"Sensitivity\"], label=key)\n",
    "plt.plot([0,1], [0,1], \"k--\")\n",
    "plt.xlabel(\"False Positive Rate\")\n",
    "plt.ylabel(\"True Positive Rate\")\n",
    "plt.legend(loc=\"best\")\n",
    "plt.title(\"ROC Curve (using validation data)\")\n",
    "plt.show()\n",
    "\n",
    "#/* Draw lift charts */\n",
    "plt.figure()\n",
    "for key, grp in all_liftinfo.groupby([\"model\"]):\n",
    "    plt.plot(grp[\"Depth\"], grp[\"Lift\"], label=key)\n",
    "plt.xlabel(\"Depth\")\n",
    "plt.ylabel(\"Lift\")\n",
    "plt.legend(loc=\"best\")\n",
    "plt.title(\"Lift Chart (using validation data)\")\n",
    "plt.show();\n"
   ]
  },
  {
   "cell_type": "markdown",
   "metadata": {},
   "source": [
    "### End CAS session"
   ]
  },
  {
   "cell_type": "code",
   "execution_count": 13,
   "metadata": {
    "collapsed": true
   },
   "outputs": [],
   "source": [
    "sess.close()"
   ]
  },
  {
   "cell_type": "code",
   "execution_count": null,
   "metadata": {
    "collapsed": true
   },
   "outputs": [],
   "source": []
  }
 ],
 "metadata": {
  "anaconda-cloud": {},
  "kernelspec": {
   "display_name": "Python 3",
   "language": "python",
   "name": "python3"
  },
  "language_info": {
   "codemirror_mode": {
    "name": "ipython",
    "version": 3
   },
   "file_extension": ".py",
   "mimetype": "text/x-python",
   "name": "python",
   "nbconvert_exporter": "python",
   "pygments_lexer": "ipython3",
   "version": "3.6.0"
  }
 },
 "nbformat": 4,
 "nbformat_minor": 0
}
