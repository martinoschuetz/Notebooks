{
 "cells": [
  {
   "cell_type": "markdown",
   "metadata": {},
   "source": [
    "This example showcases fitting and assessing Generalized Linear Models using the GENMOD action.                                 \n",
    "The steps include:                                                   \n",
    "                                                                      \n",
    "1. PREPARE                                                          \n",
    "  a) Check data is loaded into CAS  \n",
    "<br>                                                                      \n",
    "2. Perform Modeling on the Binary Target  \n",
    "  a) Assuming binary distribution, using logit link  \n",
    "  b) Plot ROC curve                                                 "
   ]
  },
  {
   "cell_type": "markdown",
   "metadata": {},
   "source": [
    "### Import packages"
   ]
  },
  {
   "cell_type": "code",
   "execution_count": 1,
   "metadata": {
    "collapsed": true
   },
   "outputs": [],
   "source": [
    "from swat import *\n",
    "import pandas as pd\n",
    "import matplotlib.pyplot as plt\n",
    "from swat.render import render_html\n",
    "%matplotlib inline"
   ]
  },
  {
   "cell_type": "markdown",
   "metadata": {},
   "source": [
    "### CAS Server connection details"
   ]
  },
  {
   "cell_type": "code",
   "execution_count": 2,
   "metadata": {
    "collapsed": true
   },
   "outputs": [],
   "source": [
    "cashost='sasserver.demo.sas.com'\n",
    "casport=5570\n",
    "casauth='~/.authinfo'"
   ]
  },
  {
   "cell_type": "markdown",
   "metadata": {},
   "source": [
    "### Start CAS session"
   ]
  },
  {
   "cell_type": "code",
   "execution_count": 3,
   "metadata": {
    "collapsed": true
   },
   "outputs": [],
   "source": [
    "sess = CAS(cashost, casport, authinfo=casauth, caslib=\"casuser\")"
   ]
  },
  {
   "cell_type": "markdown",
   "metadata": {},
   "source": [
    "### Import action sets"
   ]
  },
  {
   "cell_type": "code",
   "execution_count": 4,
   "metadata": {
    "collapsed": false
   },
   "outputs": [
    {
     "name": "stdout",
     "output_type": "stream",
     "text": [
      "NOTE: Added action set 'sampling'.\n",
      "NOTE: Added action set 'regression'.\n",
      "NOTE: Added action set 'percentile'.\n"
     ]
    },
    {
     "data": {
      "text/html": [
       "<div class=\"cas-results-key\"><b>&#167; actionset</b></div>\n",
       "<div class=\"cas-results-body\">\n",
       "<div>percentile</div>\n",
       "</div>\n",
       "<div class=\"cas-output-area\"></div>\n",
       "<p class=\"cas-results-performance\"><small><span class=\"cas-elapsed\">elapsed 0.000174s</span> &#183; <span class=\"cas-sys\">sys 0.001s</span> &#183; <span class=\"cas-memory\">mem 0.0287MB</span></small></p>"
      ],
      "text/plain": [
       "[actionset]\n",
       "\n",
       " 'percentile'\n",
       "\n",
       "+ Elapsed: 0.000174s, sys: 0.001s, mem: 0.0287mb"
      ]
     },
     "execution_count": 4,
     "metadata": {},
     "output_type": "execute_result"
    }
   ],
   "source": [
    "sess.loadactionset(actionset=\"sampling\")\n",
    "sess.loadactionset(actionset=\"regression\")\n",
    "sess.loadactionset(actionset=\"percentile\")"
   ]
  },
  {
   "cell_type": "markdown",
   "metadata": {},
   "source": [
    "### Set variables for input data"
   ]
  },
  {
   "cell_type": "code",
   "execution_count": 5,
   "metadata": {
    "collapsed": false
   },
   "outputs": [],
   "source": [
    "indata_dir         = \"data\"\n",
    "indata             = \"hmeq\"\n",
    "im_class_inputs    = \"reason, job\"\n",
    "im_interval_inputs = \"im_clage, clno, im_debtinc, loan, mortdue, value, im_yoj, im_ninq, derog, im_delinq\"; \n",
    "target             = \"bad\""
   ]
  },
  {
   "cell_type": "markdown",
   "metadata": {},
   "source": [
    "### Load data into CAS if needed"
   ]
  },
  {
   "cell_type": "code",
   "execution_count": 6,
   "metadata": {
    "collapsed": false
   },
   "outputs": [
    {
     "name": "stdout",
     "output_type": "stream",
     "text": [
      "NOTE: Cloud Analytic Services made the file data/hmeq.sas7bdat available as table HMEQ in caslib CASUSER(viyauser).\n"
     ]
    }
   ],
   "source": [
    "if not sess.table.tableExists(table=indata).exists:\n",
    "    sess.loadTable(caslib=\"casuser\", path=indata_dir+\"/\"+indata+\".sas7bdat\", casout={\"name\":indata})"
   ]
  },
  {
   "cell_type": "markdown",
   "metadata": {},
   "source": [
    "### Impute missing values"
   ]
  },
  {
   "cell_type": "code",
   "execution_count": 7,
   "metadata": {
    "collapsed": false
   },
   "outputs": [
    {
     "data": {
      "text/html": [
       "<div class=\"cas-results-key\"><b>&#167; TransInfo</b></div>\n",
       "<div class=\"cas-results-body\">\n",
       "<div>\n",
       "<table border=\"1\" class=\"dataframe\"><caption>Transformation Requests for HMEQ</caption>\n",
       "  <thead>\n",
       "    <tr style=\"text-align: right;\">\n",
       "      <th title=\"\"></th>\n",
       "      <th title=\"Actual Name for Transformation\">ActualName</th>\n",
       "      <th title=\"Number of Transformation Variables\">NTransVars</th>\n",
       "      <th title=\"Imputation Method\">ImputeMethod</th>\n",
       "      <th title=\"Seed\">Seed</th>\n",
       "    </tr>\n",
       "  </thead>\n",
       "  <tbody>\n",
       "    <tr>\n",
       "      <th>0</th>\n",
       "      <td>_TR1</td>\n",
       "      <td>1</td>\n",
       "      <td>Mean</td>\n",
       "      <td>NaN</td>\n",
       "    </tr>\n",
       "    <tr>\n",
       "      <th>1</th>\n",
       "      <td>_TR2</td>\n",
       "      <td>1</td>\n",
       "      <td>Median</td>\n",
       "      <td>NaN</td>\n",
       "    </tr>\n",
       "    <tr>\n",
       "      <th>2</th>\n",
       "      <td>_TR3</td>\n",
       "      <td>1</td>\n",
       "      <td>Random</td>\n",
       "      <td>1.801404e+09</td>\n",
       "    </tr>\n",
       "    <tr>\n",
       "      <th>3</th>\n",
       "      <td>_TR4</td>\n",
       "      <td>2</td>\n",
       "      <td>Value</td>\n",
       "      <td>NaN</td>\n",
       "    </tr>\n",
       "  </tbody>\n",
       "</table>\n",
       "</div>\n",
       "</div>\n",
       "<div class=\"cas-results-key\"><hr/><b>&#167; VarTransInfo</b></div>\n",
       "<div class=\"cas-results-body\">\n",
       "<div>\n",
       "<table border=\"1\" class=\"dataframe\"><caption>Variable Transformation Information for HMEQ</caption>\n",
       "  <thead>\n",
       "    <tr style=\"text-align: right;\">\n",
       "      <th title=\"\"></th>\n",
       "      <th title=\"Variable\">Variable</th>\n",
       "      <th title=\"Transformation Name\">Transformation</th>\n",
       "      <th title=\"Result Variable\">ResultVar</th>\n",
       "      <th title=\"Number of Observations\">N</th>\n",
       "      <th title=\"Number of Missing\">NMiss</th>\n",
       "      <th title=\"Imputed Value\">ImputedValueContinuous</th>\n",
       "    </tr>\n",
       "  </thead>\n",
       "  <tbody>\n",
       "    <tr>\n",
       "      <th>0</th>\n",
       "      <td>CLAGE</td>\n",
       "      <td>IM</td>\n",
       "      <td>IM_CLAGE</td>\n",
       "      <td>5652</td>\n",
       "      <td>308</td>\n",
       "      <td>179.766275</td>\n",
       "    </tr>\n",
       "    <tr>\n",
       "      <th>1</th>\n",
       "      <td>DEBTINC</td>\n",
       "      <td>IM</td>\n",
       "      <td>IM_DEBTINC</td>\n",
       "      <td>4693</td>\n",
       "      <td>1267</td>\n",
       "      <td>100.000000</td>\n",
       "    </tr>\n",
       "    <tr>\n",
       "      <th>2</th>\n",
       "      <td>DELINQ</td>\n",
       "      <td>IM</td>\n",
       "      <td>IM_DELINQ</td>\n",
       "      <td>5380</td>\n",
       "      <td>580</td>\n",
       "      <td>0.000000</td>\n",
       "    </tr>\n",
       "    <tr>\n",
       "      <th>3</th>\n",
       "      <td>NINQ</td>\n",
       "      <td>IM</td>\n",
       "      <td>IM_NINQ</td>\n",
       "      <td>5450</td>\n",
       "      <td>510</td>\n",
       "      <td>NaN</td>\n",
       "    </tr>\n",
       "    <tr>\n",
       "      <th>4</th>\n",
       "      <td>YOJ</td>\n",
       "      <td>IM</td>\n",
       "      <td>IM_YOJ</td>\n",
       "      <td>5445</td>\n",
       "      <td>515</td>\n",
       "      <td>50.000000</td>\n",
       "    </tr>\n",
       "  </tbody>\n",
       "</table>\n",
       "</div>\n",
       "</div>\n",
       "<div class=\"cas-results-key\"><hr/><b>&#167; OutputCasTables</b></div>\n",
       "<div class=\"cas-results-body\">\n",
       "<div>\n",
       "<table border=\"1\" class=\"dataframe\">\n",
       "  <thead>\n",
       "    <tr style=\"text-align: right;\">\n",
       "      <th title=\"\"></th>\n",
       "      <th title=\"CAS Library\">casLib</th>\n",
       "      <th title=\"Name\">Name</th>\n",
       "      <th title=\"Number of Rows\">Rows</th>\n",
       "      <th title=\"Number of Columns\">Columns</th>\n",
       "      <th title=\"Table\">casTable</th>\n",
       "    </tr>\n",
       "  </thead>\n",
       "  <tbody>\n",
       "    <tr>\n",
       "      <th>0</th>\n",
       "      <td>CASUSER(viyauser)</td>\n",
       "      <td>hmeq_prepped</td>\n",
       "      <td>5960</td>\n",
       "      <td>18</td>\n",
       "      <td>CASTable('hmeq_prepped', caslib='CASUSER(viyau...</td>\n",
       "    </tr>\n",
       "  </tbody>\n",
       "</table>\n",
       "</div>\n",
       "</div>\n",
       "<div class=\"cas-output-area\"></div>\n",
       "<p class=\"cas-results-performance\"><small><span class=\"cas-elapsed\">elapsed 0.0205s</span> &#183; <span class=\"cas-user\">user 0.018s</span> &#183; <span class=\"cas-sys\">sys 0.005s</span> &#183; <span class=\"cas-memory\">mem 9.53MB</span></small></p>"
      ],
      "text/plain": [
       "[TransInfo]\n",
       "\n",
       " Transformation Requests for HMEQ\n",
       " \n",
       "   ActualName  NTransVars ImputeMethod          Seed\n",
       " 0       _TR1           1         Mean           NaN\n",
       " 1       _TR2           1       Median           NaN\n",
       " 2       _TR3           1       Random  1.801404e+09\n",
       " 3       _TR4           2        Value           NaN\n",
       "\n",
       "[VarTransInfo]\n",
       "\n",
       " Variable Transformation Information for HMEQ\n",
       " \n",
       "   Variable Transformation   ResultVar     N  NMiss  ImputedValueContinuous\n",
       " 0    CLAGE             IM    IM_CLAGE  5652    308              179.766275\n",
       " 1  DEBTINC             IM  IM_DEBTINC  4693   1267              100.000000\n",
       " 2   DELINQ             IM   IM_DELINQ  5380    580                0.000000\n",
       " 3     NINQ             IM     IM_NINQ  5450    510                     NaN\n",
       " 4      YOJ             IM      IM_YOJ  5445    515               50.000000\n",
       "\n",
       "[OutputCasTables]\n",
       "\n",
       "               casLib          Name  Rows  Columns  \\\n",
       " 0  CASUSER(viyauser)  hmeq_prepped  5960       18   \n",
       " \n",
       "                                             casTable  \n",
       " 0  CASTable('hmeq_prepped', caslib='CASUSER(viyau...  \n",
       "\n",
       "+ Elapsed: 0.0205s, user: 0.018s, sys: 0.005s, mem: 9.53mb"
      ]
     },
     "execution_count": 7,
     "metadata": {},
     "output_type": "execute_result"
    }
   ],
   "source": [
    "# Pipelined imputation using transform action\n",
    "sess.dataPreprocess.transform(\n",
    "  table={\"name\":indata},\n",
    "  casOut={\"name\":\"hmeq_prepped\", \"replace\":True},\n",
    "  copyAllVars=True,\n",
    "  outVarsNameGlobalPrefix=\"IM\",\n",
    "  requestPackages=[\n",
    "    {\"impute\":{\"method\":\"MEAN\"}, \"inputs\":{\"clage\"}},\n",
    "    {\"impute\":{\"method\":\"MEDIAN\"}, \"inputs\":{\"delinq\"}},\n",
    "    {\"impute\":{\"method\":\"RANDOM\"}, \"inputs\":{\"ninq\"}},\n",
    "    {\"impute\":{\"method\":\"VALUE\", \"valuesContinuous\":{50, 100}}, \"inputs\":{\"debtinc\", \"yoj\"}}\n",
    "  ]\n",
    ")"
   ]
  },
  {
   "cell_type": "markdown",
   "metadata": {},
   "source": [
    "### Partition the data into training and validation "
   ]
  },
  {
   "cell_type": "code",
   "execution_count": 8,
   "metadata": {
    "collapsed": false
   },
   "outputs": [
    {
     "name": "stdout",
     "output_type": "stream",
     "text": [
      "NOTE: Using SEED=706547095 for sampling.\n"
     ]
    },
    {
     "data": {
      "text/html": [
       "<div class=\"cas-results-key\"><b>&#167; outputSize</b></div>\n",
       "<div class=\"cas-results-body\">\n",
       "<div>{'outputNVars': 19, 'outputNObs': 5960.0}</div>\n",
       "</div>\n",
       "<div class=\"cas-results-key\"><hr/><b>&#167; STRAFreq</b></div>\n",
       "<div class=\"cas-results-body\">\n",
       "<div>\n",
       "<table border=\"1\" class=\"dataframe\"><caption>Frequencies</caption>\n",
       "  <thead>\n",
       "    <tr style=\"text-align: right;\">\n",
       "      <th title=\"\"></th>\n",
       "      <th title=\"Index\">ByGrpID</th>\n",
       "      <th title=\"BAD\">BAD</th>\n",
       "      <th title=\"Number of Obs\">NObs</th>\n",
       "      <th title=\"Number of Samples\">NSamp</th>\n",
       "    </tr>\n",
       "  </thead>\n",
       "  <tbody>\n",
       "    <tr>\n",
       "      <th>0</th>\n",
       "      <td>0</td>\n",
       "      <td>0</td>\n",
       "      <td>4771</td>\n",
       "      <td>3340</td>\n",
       "    </tr>\n",
       "    <tr>\n",
       "      <th>1</th>\n",
       "      <td>1</td>\n",
       "      <td>1</td>\n",
       "      <td>1189</td>\n",
       "      <td>832</td>\n",
       "    </tr>\n",
       "  </tbody>\n",
       "</table>\n",
       "</div>\n",
       "</div>\n",
       "<div class=\"cas-results-key\"><hr/><b>&#167; OutputCasTables</b></div>\n",
       "<div class=\"cas-results-body\">\n",
       "<div>\n",
       "<table border=\"1\" class=\"dataframe\">\n",
       "  <thead>\n",
       "    <tr style=\"text-align: right;\">\n",
       "      <th title=\"\"></th>\n",
       "      <th title=\"CAS Library\">casLib</th>\n",
       "      <th title=\"Name\">Name</th>\n",
       "      <th title=\"Label\">Label</th>\n",
       "      <th title=\"Number of Rows\">Rows</th>\n",
       "      <th title=\"Number of Columns\">Columns</th>\n",
       "      <th title=\"Table\">casTable</th>\n",
       "    </tr>\n",
       "  </thead>\n",
       "  <tbody>\n",
       "    <tr>\n",
       "      <th>0</th>\n",
       "      <td>CASUSER(viyauser)</td>\n",
       "      <td>hmeq_part</td>\n",
       "      <td></td>\n",
       "      <td>5960</td>\n",
       "      <td>19</td>\n",
       "      <td>CASTable('hmeq_part', caslib='CASUSER(viyauser)')</td>\n",
       "    </tr>\n",
       "  </tbody>\n",
       "</table>\n",
       "</div>\n",
       "</div>\n",
       "<div class=\"cas-output-area\"></div>\n",
       "<p class=\"cas-results-performance\"><small><span class=\"cas-elapsed\">elapsed 0.0166s</span> &#183; <span class=\"cas-user\">user 0.01s</span> &#183; <span class=\"cas-sys\">sys 0.007s</span> &#183; <span class=\"cas-memory\">mem 9.74MB</span></small></p>"
      ],
      "text/plain": [
       "[outputSize]\n",
       "\n",
       " {'outputNObs': 5960.0, 'outputNVars': 19}\n",
       "\n",
       "[STRAFreq]\n",
       "\n",
       " Frequencies\n",
       " \n",
       "    ByGrpID           BAD  NObs  NSamp\n",
       " 0        0             0  4771   3340\n",
       " 1        1             1  1189    832\n",
       "\n",
       "[OutputCasTables]\n",
       "\n",
       "               casLib       Name Label  Rows  Columns  \\\n",
       " 0  CASUSER(viyauser)  hmeq_part        5960       19   \n",
       " \n",
       "                                             casTable  \n",
       " 0  CASTable('hmeq_part', caslib='CASUSER(viyauser)')  \n",
       "\n",
       "+ Elapsed: 0.0166s, user: 0.01s, sys: 0.007s, mem: 9.74mb"
      ]
     },
     "execution_count": 8,
     "metadata": {},
     "output_type": "execute_result"
    }
   ],
   "source": [
    "sess.sampling.stratified(\n",
    "  table={\"name\":\"hmeq_prepped\", \"groupBy\":target},\n",
    "  output={\"casOut\":{\"name\":\"hmeq_part\", \"replace\":True}, \"copyVars\":\"ALL\"},\n",
    "  samppct=70,\n",
    "  partind=True\n",
    ")"
   ]
  },
  {
   "cell_type": "markdown",
   "metadata": {},
   "source": [
    "### The binary target model using LOGIT link "
   ]
  },
  {
   "cell_type": "code",
   "execution_count": 9,
   "metadata": {
    "collapsed": false
   },
   "outputs": [
    {
     "name": "stdout",
     "output_type": "stream",
     "text": [
      "NOTE: Convergence criterion (GCONV=1E-8) satisfied.\n"
     ]
    },
    {
     "data": {
      "text/html": [
       "\n",
       "    <style type=\"text/css\">\n",
       "    div.cas-results {\n",
       "        overflow-x: auto;\n",
       "    }\n",
       "    div.cas-results > * {\n",
       "        margin-left: auto !important;\n",
       "        margin-right: auto !important;\n",
       "    }\n",
       "    div.cas-results .sas-dataframe th[colspan],\n",
       "    div.cas-results .byline {\n",
       "        text-align: center;\n",
       "        font-size: 110%;\n",
       "    }\n",
       "    div.cas-results .sas-dataframe > tbody > tr:nth-child(even) {\n",
       "        background-color: #f8f8f8;\n",
       "    }\n",
       "    div.cas-results .sas-dataframe td,\n",
       "    div.cas-results .sas-dataframe th {\n",
       "        border: 1px solid #aaaaaa;\n",
       "        padding: 5px 10px;\n",
       "    }\n",
       "    div.cas-results .sas-dataframe th {\n",
       "        background-color: #f0f0f0;\n",
       "    }\n",
       "    div.cas-results .sas-dataframe .double,\n",
       "    div.cas-results .sas-dataframe .int32,\n",
       "    div.cas-results .sas-dataframe .int64,\n",
       "    div.cas-results .sas-dataframe .decsext,\n",
       "    div.cas-results .sas-dataframe .decquad {\n",
       "        text-align: right;\n",
       "    }\n",
       "    </style>\n",
       "<div class=\"cas-results\"><table class=\"sas-dataframe\">\n",
       "<colgroup><col class=\"char\" /><col class=\"char\" /><col class=\"char\" /></colgroup>\n",
       "<thead>\n",
       "<tr><th colspan=\"3\">Model Information</th></tr>\n",
       "<th class=\"char\">RowId</th>\n",
       "<th class=\"char\">Description</th>\n",
       "<th class=\"char\">Value</th>\n",
       "</thead>\n",
       "<tbody>\n",
       "<tr><td class=\"char\">DATA</td><td class=\"char\">Data Source</td><td class=\"char\">HMEQ_PART</td></tr>\n",
       "<tr><td class=\"char\">RESPONSEVAR</td><td class=\"char\">Response Variable</td><td class=\"char\">BAD</td></tr>\n",
       "<tr><td class=\"char\">DIST</td><td class=\"char\">Distribution</td><td class=\"char\">Binary</td></tr>\n",
       "<tr><td class=\"char\">LINK</td><td class=\"char\">Link Function</td><td class=\"char\">Logit</td></tr>\n",
       "<tr><td class=\"char\">TECH</td><td class=\"char\">Optimization Technique</td><td class=\"char\">Newton-Raphson with Ridging</td></tr>\n",
       "</tbody>\n",
       "</table><table class=\"sas-dataframe\">\n",
       "<colgroup><col class=\"char\" /><col class=\"char\" /><col class=\"double\" /><col class=\"double\" /><col class=\"double\" /></colgroup>\n",
       "<thead>\n",
       "<tr><th colspan=\"5\">Number of Observations</th></tr>\n",
       "<th class=\"char\">RowId</th>\n",
       "<th class=\"char\">Description</th>\n",
       "<th class=\"double\">Total</th>\n",
       "<th class=\"double\">Training</th>\n",
       "<th class=\"double\">Validation</th>\n",
       "</thead>\n",
       "<tbody>\n",
       "<tr><td class=\"char\">NREAD</td><td class=\"char\">Number of Observations Read</td><td class=\"double\">5960</td><td class=\"double\">4172</td><td class=\"double\">1788</td></tr>\n",
       "<tr><td class=\"char\">NUSED</td><td class=\"char\">Number of Observations Used</td><td class=\"double\">4609</td><td class=\"double\">3232</td><td class=\"double\">1377</td></tr>\n",
       "</tbody>\n",
       "</table><table class=\"sas-dataframe\">\n",
       "<colgroup><col class=\"int32\" /><col class=\"char\" /><col class=\"double\" /><col class=\"double\" /><col class=\"double\" /><col class=\"double\" /><col class=\"char\" /></colgroup>\n",
       "<thead>\n",
       "<tr><th colspan=\"7\">Response Profile</th></tr>\n",
       "<th class=\"int32\">Ordered Value</th>\n",
       "<th class=\"char\">BAD</th>\n",
       "<th class=\"double\">BAD</th>\n",
       "<th class=\"double\">Total Frequency</th>\n",
       "<th class=\"double\">Training</th>\n",
       "<th class=\"double\">Validation</th>\n",
       "<th class=\"char\">Probability Modeled</th>\n",
       "</thead>\n",
       "<tbody>\n",
       "<tr><td class=\"int32\">1</td><td class=\"char\">0</td><td class=\"double\">0</td><td class=\"double\">3693</td><td class=\"double\">2578</td><td class=\"double\">1115</td><td class=\"char\"></td></tr>\n",
       "<tr><td class=\"int32\">2</td><td class=\"char\">1</td><td class=\"double\">1</td><td class=\"double\">916</td><td class=\"double\">654</td><td class=\"double\">262</td><td class=\"char\">*</td></tr>\n",
       "</tbody>\n",
       "</table><table class=\"sas-dataframe\">\n",
       "<colgroup><col class=\"char\" /><col class=\"double\" /><col class=\"char\" /></colgroup>\n",
       "<thead>\n",
       "<tr><th colspan=\"3\">Class Level Information</th></tr>\n",
       "<th class=\"char\">Class</th>\n",
       "<th class=\"double\">Levels</th>\n",
       "<th class=\"char\">Values</th>\n",
       "</thead>\n",
       "<tbody>\n",
       "<tr><td class=\"char\">REASON</td><td class=\"double\">2</td><td class=\"char\">DebtCon HomeImp</td></tr>\n",
       "<tr><td class=\"char\">JOB</td><td class=\"double\">6</td><td class=\"char\">Mgr Office Other ProfExe Sales Self</td></tr>\n",
       "</tbody>\n",
       "</table><table class=\"sas-dataframe\">\n",
       "<colgroup><col class=\"char\" /><col class=\"char\" /><col class=\"double\" /></colgroup>\n",
       "<thead>\n",
       "<tr><th colspan=\"3\">Selection Information</th></tr>\n",
       "<th class=\"char\">Description</th>\n",
       "<th class=\"char\">Value</th>\n",
       "<th class=\"double\">Numeric Value</th>\n",
       "</thead>\n",
       "<tbody>\n",
       "<tr><td class=\"char\">Selection Method</td><td class=\"char\">Forward</td><td class=\"double\">nan</td></tr>\n",
       "<tr><td class=\"char\">Select Criterion</td><td class=\"char\">SBC</td><td class=\"double\">nan</td></tr>\n",
       "<tr><td class=\"char\">Choose Criterion</td><td class=\"char\">Validation ASE</td><td class=\"double\">nan</td></tr>\n",
       "<tr><td class=\"char\">Stop Criterion</td><td class=\"char\">SBC</td><td class=\"double\">nan</td></tr>\n",
       "<tr><td class=\"char\">Effect Hierarchy Enforced</td><td class=\"char\">None</td><td class=\"double\">nan</td></tr>\n",
       "<tr><td class=\"char\">Stop Horizon</td><td class=\"char\">3</td><td class=\"double\">3</td></tr>\n",
       "</tbody>\n",
       "</table><table class=\"sas-dataframe\">\n",
       "<colgroup><col class=\"char\" /><col class=\"int32\" /><col class=\"double\" /></colgroup>\n",
       "<thead>\n",
       "<tr><th colspan=\"3\">Convergence Status</th></tr>\n",
       "<th class=\"char\">Reason</th>\n",
       "<th class=\"int32\">Status</th>\n",
       "<th class=\"double\">Max Gradient</th>\n",
       "</thead>\n",
       "<tbody>\n",
       "<tr><td class=\"char\">Convergence criterion (GCONV=1E-8) satisfied.</td><td class=\"int32\">0</td><td class=\"double\">8.2887522E-9</td></tr>\n",
       "</tbody>\n",
       "</table><table class=\"sas-dataframe\">\n",
       "<colgroup><col class=\"char\" /><col class=\"int32\" /><col class=\"char\" /><col class=\"int32\" /><col class=\"double\" /><col class=\"int32\" /><col class=\"double\" /><col class=\"int32\" /></colgroup>\n",
       "<thead>\n",
       "<tr><th colspan=\"8\">Selection Summary</th></tr>\n",
       "<th class=\"char\">Control</th>\n",
       "<th class=\"int32\">Step</th>\n",
       "<th class=\"char\">Effect Entered</th>\n",
       "<th class=\"int32\">Number Of Effects</th>\n",
       "<th class=\"double\">SBC</th>\n",
       "<th class=\"int32\">Optimal SBC</th>\n",
       "<th class=\"double\">Validation ASE</th>\n",
       "<th class=\"int32\">Optimal ValidationASE</th>\n",
       "</thead>\n",
       "<tbody>\n",
       "<tr><td class=\"char\"></td><td class=\"int32\">0</td><td class=\"char\">Intercept</td><td class=\"int32\">1</td><td class=\"double\">3263.6424272</td><td class=\"int32\">0</td><td class=\"double\">0.1542125156</td><td class=\"int32\">0</td></tr>\n",
       "<tr><td class=\"char\">-</td><td class=\"int32\">1</td><td class=\"char\">IM_DEBTINC</td><td class=\"int32\">2</td><td class=\"double\">2319.7281033</td><td class=\"int32\">0</td><td class=\"double\">0.105074988</td><td class=\"int32\">0</td></tr>\n",
       "<tr><td class=\"char\"></td><td class=\"int32\">2</td><td class=\"char\">IM_DELINQ</td><td class=\"int32\">3</td><td class=\"double\">2262.1479268</td><td class=\"int32\">0</td><td class=\"double\">0.0989813694</td><td class=\"int32\">0</td></tr>\n",
       "<tr><td class=\"char\"></td><td class=\"int32\">3</td><td class=\"char\">IM_CLAGE</td><td class=\"int32\">4</td><td class=\"double\">2165.1205216</td><td class=\"int32\">0</td><td class=\"double\">0.0952765891</td><td class=\"int32\">0</td></tr>\n",
       "<tr><td class=\"char\"></td><td class=\"int32\">4</td><td class=\"char\">DEROG</td><td class=\"int32\">5</td><td class=\"double\">2096.2412249</td><td class=\"int32\">0</td><td class=\"double\">0.0903739398</td><td class=\"int32\">0</td></tr>\n",
       "<tr><td class=\"char\"></td><td class=\"int32\">5</td><td class=\"char\">IM_NINQ</td><td class=\"int32\">6</td><td class=\"double\">2083.6475786</td><td class=\"int32\">0</td><td class=\"double\">0.0905025379</td><td class=\"int32\">0</td></tr>\n",
       "<tr><td class=\"char\"></td><td class=\"int32\">6</td><td class=\"char\">IM_YOJ</td><td class=\"int32\">7</td><td class=\"double\">2081.7986929</td><td class=\"int32\">0</td><td class=\"double\">0.0908619866</td><td class=\"int32\">0</td></tr>\n",
       "<tr><td class=\"char\"></td><td class=\"int32\">7</td><td class=\"char\">CLNO</td><td class=\"int32\">8</td><td class=\"double\">2079.1560373</td><td class=\"int32\">0</td><td class=\"double\">0.0909543778</td><td class=\"int32\">0</td></tr>\n",
       "<tr><td class=\"char\"></td><td class=\"int32\">8</td><td class=\"char\">JOB</td><td class=\"int32\">9</td><td class=\"double\">2078.9755633</td><td class=\"int32\">1</td><td class=\"double\">0.0902994338</td><td class=\"int32\">1</td></tr>\n",
       "<tr><td class=\"char\"></td><td class=\"int32\">9</td><td class=\"char\">REASON</td><td class=\"int32\">10</td><td class=\"double\">2085.2079052</td><td class=\"int32\">0</td><td class=\"double\">0.0909489784</td><td class=\"int32\">0</td></tr>\n",
       "<tr><td class=\"char\"></td><td class=\"int32\">10</td><td class=\"char\">VALUE</td><td class=\"int32\">11</td><td class=\"double\">2092.6727614</td><td class=\"int32\">0</td><td class=\"double\">0.0910586201</td><td class=\"int32\">0</td></tr>\n",
       "<tr><td class=\"char\"></td><td class=\"int32\">11</td><td class=\"char\">LOAN</td><td class=\"int32\">12</td><td class=\"double\">2100.7031904</td><td class=\"int32\">0</td><td class=\"double\">0.0910161284</td><td class=\"int32\">0</td></tr>\n",
       "</tbody>\n",
       "</table><table class=\"sas-dataframe\">\n",
       "<colgroup><col class=\"char\" /><col class=\"int32\" /></colgroup>\n",
       "<thead>\n",
       "<tr><th colspan=\"2\">Stop Reason</th></tr>\n",
       "<th class=\"char\">Reason</th>\n",
       "<th class=\"int32\">Code</th>\n",
       "</thead>\n",
       "<tbody>\n",
       "<tr><td class=\"char\">Selection stopped at a local minimum of the SBC criterion.</td><td class=\"int32\">6</td></tr>\n",
       "</tbody>\n",
       "</table><table class=\"sas-dataframe\">\n",
       "<colgroup><col class=\"char\" /></colgroup>\n",
       "<thead>\n",
       "<tr><th colspan=\"1\">Selection Reason</th></tr>\n",
       "<th class=\"char\">Reason</th>\n",
       "</thead>\n",
       "<tbody>\n",
       "<tr><td class=\"char\"> The model at step 8 is selected where Validation ASE is 0.090299.</td></tr>\n",
       "</tbody>\n",
       "</table><table class=\"sas-dataframe\">\n",
       "<colgroup><col class=\"char\" /><col class=\"char\" /></colgroup>\n",
       "<thead>\n",
       "<tr><th colspan=\"2\">Selected Effects</th></tr>\n",
       "<th class=\"char\">Label</th>\n",
       "<th class=\"char\">Effects</th>\n",
       "</thead>\n",
       "<tbody>\n",
       "<tr><td class=\"char\">Selected Effects:</td><td class=\"char\">Intercept IM_DELINQ IM_CLAGE DEROG IM_YOJ CLNO IM_DEBTINC JOB IM_NINQ</td></tr>\n",
       "</tbody>\n",
       "</table><table class=\"sas-dataframe\">\n",
       "<colgroup><col class=\"char\" /><col class=\"char\" /><col class=\"int32\" /></colgroup>\n",
       "<thead>\n",
       "<tr><th colspan=\"3\">Dimensions</th></tr>\n",
       "<th class=\"char\">RowId</th>\n",
       "<th class=\"char\">Description</th>\n",
       "<th class=\"int32\">Value</th>\n",
       "</thead>\n",
       "<tbody>\n",
       "<tr><td class=\"char\">NDESIGNCOLS</td><td class=\"char\">Columns in Design</td><td class=\"int32\">14</td></tr>\n",
       "<tr><td class=\"char\">NEFFECTS</td><td class=\"char\">Number of Effects</td><td class=\"int32\">9</td></tr>\n",
       "<tr><td class=\"char\">MAXEFCOLS</td><td class=\"char\">Max Effect Columns</td><td class=\"int32\">6</td></tr>\n",
       "<tr><td class=\"char\">DESIGNRANK</td><td class=\"char\">Rank of Design</td><td class=\"int32\">13</td></tr>\n",
       "<tr><td class=\"char\">OPTPARM</td><td class=\"char\">Parameters in Optimization</td><td class=\"int32\">13</td></tr>\n",
       "</tbody>\n",
       "</table><table class=\"sas-dataframe\">\n",
       "<colgroup><col class=\"char\" /><col class=\"char\" /><col class=\"double\" /><col class=\"double\" /></colgroup>\n",
       "<thead>\n",
       "<tr><th colspan=\"4\">Fit Statistics</th></tr>\n",
       "<th class=\"char\">RowId</th>\n",
       "<th class=\"char\">Description</th>\n",
       "<th class=\"double\">Training</th>\n",
       "<th class=\"double\">Validation</th>\n",
       "</thead>\n",
       "<tbody>\n",
       "<tr><td class=\"char\">M2LL</td><td class=\"char\">-2 Log Likelihood</td><td class=\"double\">1976.3441806</td><td class=\"double\">843.27844847</td></tr>\n",
       "<tr><td class=\"char\">AIC</td><td class=\"char\">AIC (smaller is better)</td><td class=\"double\">2002.3441806</td><td class=\"double\">869.27844847</td></tr>\n",
       "<tr><td class=\"char\">AICC</td><td class=\"char\">AICC (smaller is better)</td><td class=\"double\">2002.4572944</td><td class=\"double\">869.54550643</td></tr>\n",
       "<tr><td class=\"char\">SBC</td><td class=\"char\">SBC (smaller is better)</td><td class=\"double\">2081.3953141</td><td class=\"double\">937.23806096</td></tr>\n",
       "<tr><td class=\"char\">ASE</td><td class=\"char\">Average Square Error</td><td class=\"double\">0.0914359463</td><td class=\"double\">0.0902994338</td></tr>\n",
       "</tbody>\n",
       "</table><table class=\"sas-dataframe\">\n",
       "<colgroup><col class=\"char\" /><col class=\"char\" /><col class=\"char\" /><col class=\"char\" /><col class=\"int32\" /><col class=\"double\" /><col class=\"double\" /><col class=\"double\" /><col class=\"double\" /></colgroup>\n",
       "<thead>\n",
       "<tr><th colspan=\"9\">Parameter Estimates</th></tr>\n",
       "<th class=\"char\">Effect</th>\n",
       "<th class=\"char\">JOB</th>\n",
       "<th class=\"char\">Parameter</th>\n",
       "<th class=\"char\">Parameter</th>\n",
       "<th class=\"int32\">DF</th>\n",
       "<th class=\"double\">Estimate</th>\n",
       "<th class=\"double\">Standard Error</th>\n",
       "<th class=\"double\">Chi-Square</th>\n",
       "<th class=\"double\">Pr > ChiSq</th>\n",
       "</thead>\n",
       "<tbody>\n",
       "<tr><td class=\"char\">Intercept</td><td class=\"char\"></td><td class=\"char\">Intercept</td><td class=\"char\">Intercept</td><td class=\"int32\">1</td><td class=\"double\">-2.696945645</td><td class=\"double\">0.3667450971</td><td class=\"double\">54.077393938</td><td class=\"double\">1.927461E-13</td></tr>\n",
       "<tr><td class=\"char\">IM_DELINQ</td><td class=\"char\"></td><td class=\"char\">IM_DELINQ</td><td class=\"char\">IM_DELINQ</td><td class=\"int32\">1</td><td class=\"double\">0.7762212377</td><td class=\"double\">0.0640141589</td><td class=\"double\">147.03440034</td><td class=\"double\">7.712784E-34</td></tr>\n",
       "<tr><td class=\"char\">IM_CLAGE</td><td class=\"char\"></td><td class=\"char\">IM_CLAGE</td><td class=\"char\">IM_CLAGE</td><td class=\"int32\">1</td><td class=\"double\">-0.005428893</td><td class=\"double\">0.0008619395</td><td class=\"double\">39.670628005</td><td class=\"double\">3.006127E-10</td></tr>\n",
       "<tr><td class=\"char\">DEROG</td><td class=\"char\"></td><td class=\"char\">DEROG</td><td class=\"char\">DEROG</td><td class=\"int32\">1</td><td class=\"double\">0.5122282658</td><td class=\"double\">0.0783986309</td><td class=\"double\">42.688424175</td><td class=\"double\">6.419104E-11</td></tr>\n",
       "<tr><td class=\"char\">IM_YOJ</td><td class=\"char\"></td><td class=\"char\">IM_YOJ</td><td class=\"char\">IM_YOJ</td><td class=\"int32\">1</td><td class=\"double\">-0.021905174</td><td class=\"double\">0.0056695188</td><td class=\"double\">14.927979661</td><td class=\"double\">0.0001116941</td></tr>\n",
       "<tr><td class=\"char\">CLNO</td><td class=\"char\"></td><td class=\"char\">CLNO</td><td class=\"char\">CLNO</td><td class=\"int32\">1</td><td class=\"double\">-0.019724952</td><td class=\"double\">0.0062962221</td><td class=\"double\">9.814582267</td><td class=\"double\">0.001731336</td></tr>\n",
       "<tr><td class=\"char\">IM_DEBTINC</td><td class=\"char\"></td><td class=\"char\">IM_DEBTINC</td><td class=\"char\">IM_DEBTINC</td><td class=\"int32\">1</td><td class=\"double\">0.0416509803</td><td class=\"double\">0.0018343925</td><td class=\"double\">515.5442449</td><td class=\"double\">3.94419E-114</td></tr>\n",
       "<tr><td class=\"char\">JOB</td><td class=\"char\">Mgr</td><td class=\"char\">JOB Mgr</td><td class=\"char\">JOB_Mgr</td><td class=\"int32\">1</td><td class=\"double\">0.0140445314</td><td class=\"double\">0.3372063893</td><td class=\"double\">0.0017346942</td><td class=\"double\">0.9667779848</td></tr>\n",
       "<tr><td class=\"char\">JOB</td><td class=\"char\">Office</td><td class=\"char\">JOB Office</td><td class=\"char\">JOB_Office</td><td class=\"int32\">1</td><td class=\"double\">-0.768324372</td><td class=\"double\">0.3481214775</td><td class=\"double\">4.8711060342</td><td class=\"double\">0.0273099914</td></tr>\n",
       "<tr><td class=\"char\">JOB</td><td class=\"char\">Other</td><td class=\"char\">JOB Other</td><td class=\"char\">JOB_Other</td><td class=\"int32\">1</td><td class=\"double\">-0.098486</td><td class=\"double\">0.3146454156</td><td class=\"double\">0.0979729494</td><td class=\"double\">0.754275869</td></tr>\n",
       "<tr><td class=\"char\">JOB</td><td class=\"char\">ProfExe</td><td class=\"char\">JOB ProfExe</td><td class=\"char\">JOB_ProfExe</td><td class=\"int32\">1</td><td class=\"double\">-0.409675283</td><td class=\"double\">0.3325303586</td><td class=\"double\">1.5178082975</td><td class=\"double\">0.2179514647</td></tr>\n",
       "<tr><td class=\"char\">JOB</td><td class=\"char\">Sales</td><td class=\"char\">JOB Sales</td><td class=\"char\">JOB_Sales</td><td class=\"int32\">1</td><td class=\"double\">1.3553482678</td><td class=\"double\">0.455565408</td><td class=\"double\">8.8511628334</td><td class=\"double\">0.0029290223</td></tr>\n",
       "<tr><td class=\"char\">JOB</td><td class=\"char\">Self</td><td class=\"char\">JOB Self</td><td class=\"char\">JOB_Self</td><td class=\"int32\">0</td><td class=\"double\">0</td><td class=\"double\">nan</td><td class=\"double\">nan</td><td class=\"double\">nan</td></tr>\n",
       "<tr><td class=\"char\">IM_NINQ</td><td class=\"char\"></td><td class=\"char\">IM_NINQ</td><td class=\"char\">IM_NINQ</td><td class=\"int32\">1</td><td class=\"double\">0.1128498376</td><td class=\"double\">0.0269300698</td><td class=\"double\">17.560097295</td><td class=\"double\">0.0000278369</td></tr>\n",
       "</tbody>\n",
       "</table><table class=\"sas-dataframe\">\n",
       "<colgroup><col class=\"char\" /><col class=\"char\" /><col class=\"double\" /><col class=\"double\" /></colgroup>\n",
       "<thead>\n",
       "<tr><th colspan=\"4\">Task Timing</th></tr>\n",
       "<th class=\"char\">RowId</th>\n",
       "<th class=\"char\">Task</th>\n",
       "<th class=\"double\">Time</th>\n",
       "<th class=\"double\">Relative Time</th>\n",
       "</thead>\n",
       "<tbody>\n",
       "<tr><td class=\"char\">SETUP</td><td class=\"char\">Setup and Parsing</td><td class=\"double\">0.0027859211</td><td class=\"double\">0.0125772963</td></tr>\n",
       "<tr><td class=\"char\">LEVELIZATION</td><td class=\"char\">Levelization</td><td class=\"double\">0.0101130009</td><td class=\"double\">0.0456560699</td></tr>\n",
       "<tr><td class=\"char\">INITIALIZATION</td><td class=\"char\">Model Initialization</td><td class=\"double\">0.0002510548</td><td class=\"double\">0.0011334098</td></tr>\n",
       "<tr><td class=\"char\">SSCP</td><td class=\"char\">SSCP Computation</td><td class=\"double\">0.0076959133</td><td class=\"double\">0.0347439064</td></tr>\n",
       "<tr><td class=\"char\">FITTING</td><td class=\"char\">Model Selection</td><td class=\"double\">0.1828160286</td><td class=\"double\">0.8253397269</td></tr>\n",
       "<tr><td class=\"char\">OUTPUT</td><td class=\"char\">Creating Output Data</td><td class=\"double\">0.0167028904</td><td class=\"double\">0.0754067305</td></tr>\n",
       "<tr><td class=\"char\">CLEANUP</td><td class=\"char\">Cleanup</td><td class=\"double\">0.0009889603</td><td class=\"double\">0.0044647518</td></tr>\n",
       "<tr><td class=\"char\">TOTAL</td><td class=\"char\">Total</td><td class=\"double\">0.221503973</td><td class=\"double\">1</td></tr>\n",
       "</tbody>\n",
       "</table><table class=\"sas-dataframe\">\n",
       "<colgroup><col class=\"varchar\" /><col class=\"varchar\" /><col class=\"varchar\" /><col class=\"int64\" /><col class=\"int64\" /><col class=\"object\" /></colgroup>\n",
       "<thead>\n",
       "<tr><th colspan=\"6\">Output CAS Tables</th></tr>\n",
       "<th class=\"varchar\">CAS Library</th>\n",
       "<th class=\"varchar\">Name</th>\n",
       "<th class=\"varchar\">Label</th>\n",
       "<th class=\"int64\">Number of Rows</th>\n",
       "<th class=\"int64\">Number of Columns</th>\n",
       "<th class=\"object\">Table</th>\n",
       "</thead>\n",
       "<tbody>\n",
       "<tr><td class=\"varchar\">CASUSER(viyauser)</td><td class=\"varchar\">_scored_glm</td><td class=\"varchar\"></td><td class=\"int64\">5960</td><td class=\"int64\">20</td><td class=\"object\">CASTable('_scored_glm', caslib='CASUSER(viyauser)')</td></tr>\n",
       "</tbody>\n",
       "</table></div>"
      ]
     },
     "metadata": {},
     "output_type": "display_data"
    },
    {
     "name": "stdout",
     "output_type": "stream",
     "text": [
      "NOTE: Missing values were generated as a result of performing an operation on missing values.\n",
      "      Each place is given by: (Number of times) at (Line):(Column).\n",
      "      843 at 0:43\n"
     ]
    },
    {
     "data": {
      "text/html": [
       "<div class=\"cas-results-key\"><b>&#167; InputCasTables</b></div>\n",
       "<div class=\"cas-results-body\">\n",
       "<div>\n",
       "<table border=\"1\" class=\"dataframe\">\n",
       "  <thead>\n",
       "    <tr style=\"text-align: right;\">\n",
       "      <th title=\"\"></th>\n",
       "      <th title=\"CAS Library\">casLib</th>\n",
       "      <th title=\"Name\">Name</th>\n",
       "      <th title=\"Number of Rows\">Rows</th>\n",
       "      <th title=\"Number of Columns\">Columns</th>\n",
       "      <th title=\"Table\">casTable</th>\n",
       "    </tr>\n",
       "  </thead>\n",
       "  <tbody>\n",
       "    <tr>\n",
       "      <th>0</th>\n",
       "      <td>CASUSER(viyauser)</td>\n",
       "      <td>_scored_glm</td>\n",
       "      <td>5960</td>\n",
       "      <td>20</td>\n",
       "      <td>CASTable('_scored_glm', caslib='CASUSER(viyaus...</td>\n",
       "    </tr>\n",
       "  </tbody>\n",
       "</table>\n",
       "</div>\n",
       "</div>\n",
       "<div class=\"cas-results-key\"><hr/><b>&#167; OutputCasTables</b></div>\n",
       "<div class=\"cas-results-body\">\n",
       "<div>\n",
       "<table border=\"1\" class=\"dataframe\">\n",
       "  <thead>\n",
       "    <tr style=\"text-align: right;\">\n",
       "      <th title=\"\"></th>\n",
       "      <th title=\"CAS Library\">casLib</th>\n",
       "      <th title=\"Name\">Name</th>\n",
       "      <th title=\"Number of Rows\">Rows</th>\n",
       "      <th title=\"Number of Columns\">Columns</th>\n",
       "      <th title=\"Table\">casTable</th>\n",
       "    </tr>\n",
       "  </thead>\n",
       "  <tbody>\n",
       "    <tr>\n",
       "      <th>0</th>\n",
       "      <td>CASUSER(viyauser)</td>\n",
       "      <td>_scored_glm</td>\n",
       "      <td>5960</td>\n",
       "      <td>21</td>\n",
       "      <td>CASTable('_scored_glm', caslib='CASUSER(viyaus...</td>\n",
       "    </tr>\n",
       "  </tbody>\n",
       "</table>\n",
       "</div>\n",
       "</div>\n",
       "<div class=\"cas-output-area\"></div>\n",
       "<p class=\"cas-results-performance\"><small><span class=\"cas-elapsed\">elapsed 0.0142s</span> &#183; <span class=\"cas-user\">user 0.016s</span> &#183; <span class=\"cas-sys\">sys 0.011s</span> &#183; <span class=\"cas-memory\">mem 15.2MB</span></small></p>"
      ],
      "text/plain": [
       "[InputCasTables]\n",
       "\n",
       "               casLib         Name  Rows  Columns  \\\n",
       " 0  CASUSER(viyauser)  _scored_glm  5960       20   \n",
       " \n",
       "                                             casTable  \n",
       " 0  CASTable('_scored_glm', caslib='CASUSER(viyaus...  \n",
       "\n",
       "[OutputCasTables]\n",
       "\n",
       "               casLib         Name  Rows  Columns  \\\n",
       " 0  CASUSER(viyauser)  _scored_glm  5960       21   \n",
       " \n",
       "                                             casTable  \n",
       " 0  CASTable('_scored_glm', caslib='CASUSER(viyaus...  \n",
       "\n",
       "+ Elapsed: 0.0142s, user: 0.016s, sys: 0.011s, mem: 15.2mb"
      ]
     },
     "execution_count": 9,
     "metadata": {},
     "output_type": "execute_result"
    }
   ],
   "source": [
    "# Assuming binary distribution, using logit link, fit a GLM using the Genselect procedure\n",
    "gm = sess.regression.genmod(\n",
    "  table={\"name\":\"hmeq_part\"},\n",
    "  classVars=[{\"vars\":{\"reason\", \"job\"}}],\n",
    "  model={\n",
    "    \"depvars\":[{\"name\":target, \"options\":{\"event\":\"1\"}}],\n",
    "    \"effects\":[{\"vars\":{\"reason\", \"job\", \"im_clage\", \"clno\", \n",
    "                                  \"im_debtinc\", \"loan\", \"mortdue\", \"value\",\n",
    "                                  \"im_yoj\", \"im_ninq\", \"derog\", \"im_delinq\"}}],\n",
    "    \"dist\":\"BINARY\",\n",
    "    \"link\":\"LOGIT\"\n",
    "  },\n",
    "  selection={\"method\":\"FORWARD\", \"choose\":\"VALIDATE\", \"select\":\"SBC\", \"stop\":\"SBC\"},\n",
    "  partByVar={\"name\":\"_partind_\", \"train\":\"1\", \"validate\":\"0\"},\n",
    "  output={\n",
    "    \"casOut\":{\"name\":\"_scored_glm\", \"replace\":True}, \n",
    "    \"copyVars\":\"ALL\",\n",
    "    \"pred\":\"p_bad1\"\n",
    "  }\n",
    ")\n",
    "\n",
    "# Output model statistics\n",
    "render_html(gm)\n",
    "\n",
    "# Compute p_bad0 variable (1-pbad1)\n",
    "sess.dataStep.runCode(\n",
    "  code=\"data _scored_glm; set _scored_glm; p_bad0=1-p_bad1; run;\"\n",
    ")\n"
   ]
  },
  {
   "cell_type": "markdown",
   "metadata": {},
   "source": [
    "### Assess model performance (GLM)  "
   ]
  },
  {
   "cell_type": "code",
   "execution_count": 10,
   "metadata": {
    "collapsed": true
   },
   "outputs": [],
   "source": [
    "glmAssess=sess.percentile.assess(\n",
    "  table={\n",
    "    \"name\":\"_scored_glm\", \n",
    "    \"where\": \"strip(put(_partind_, best.))='0'\"\n",
    "  },\n",
    "  inputs=[{\"name\":\"p_bad1\"}],\n",
    "  response=\"bad\",\n",
    "  event=\"1\",\n",
    "  pVar={\"p_bad0\"},\n",
    "  pEvent={\"0\"}\n",
    ")\n",
    "\n",
    "glm_fitstat =glmAssess.FitStat\n",
    "glm_rocinfo =glmAssess.ROCInfo\n",
    "glm_liftinfo=glmAssess.LIFTInfo"
   ]
  },
  {
   "cell_type": "markdown",
   "metadata": {},
   "source": [
    "### Create ROC and Lift plots using validation data "
   ]
  },
  {
   "cell_type": "code",
   "execution_count": 11,
   "metadata": {
    "collapsed": false
   },
   "outputs": [
    {
     "name": "stdout",
     "output_type": "stream",
     "text": [
      "--------------------------AUC (using validation data)---------------------------\n"
     ]
    },
    {
     "data": {
      "image/png": "[encoded data removed]",
      "text/plain": [
       "<matplotlib.figure.Figure at 0x7f5fc7cbb5f8>"
      ]
     },
     "metadata": {},
     "output_type": "display_data"
    },
    {
     "data": {
      "image/png": "[encoded data removed]",
      "text/plain": [
       "<matplotlib.figure.Figure at 0x7f5fc7c3a1d0>"
      ]
     },
     "metadata": {},
     "output_type": "display_data"
    }
   ],
   "source": [
    "# Print AUC (Area Under the ROC Curve) \n",
    "print(\"AUC (using validation data)\".center(80, '-'))\n",
    "glm_rocinfo[[\"C\"]].drop_duplicates(keep=\"first\")\n",
    "\n",
    "#/* Draw ROC charts */ \n",
    "plt.figure()\n",
    "plt.plot(glm_rocinfo[\"FPR\"], glm_rocinfo[\"Sensitivity\"])\n",
    "plt.plot([0,1], [0,1], \"k--\")\n",
    "plt.xlabel(\"False Positive Rate\")\n",
    "plt.ylabel(\"True Positive Rate\")\n",
    "plt.title(\"ROC Curve (using validation data)\")\n",
    "plt.show()\n",
    "\n",
    "#/* Draw lift charts */\n",
    "plt.figure()\n",
    "plt.plot(glm_liftinfo[\"Depth\"], glm_liftinfo[\"Lift\"])\n",
    "plt.xlabel(\"Depth\")\n",
    "plt.ylabel(\"Lift\")\n",
    "plt.title(\"Lift Chart (using validation data)\")\n",
    "plt.show()\n"
   ]
  },
  {
   "cell_type": "markdown",
   "metadata": {},
   "source": [
    "### End CAS session"
   ]
  },
  {
   "cell_type": "code",
   "execution_count": 12,
   "metadata": {
    "collapsed": true
   },
   "outputs": [],
   "source": [
    "sess.close()"
   ]
  },
  {
   "cell_type": "code",
   "execution_count": null,
   "metadata": {
    "collapsed": true
   },
   "outputs": [],
   "source": []
  }
 ],
 "metadata": {
  "anaconda-cloud": {},
  "kernelspec": {
   "display_name": "Python [default]",
   "language": "python",
   "name": "python3"
  },
  "language_info": {
   "codemirror_mode": {
    "name": "ipython",
    "version": 3
   },
   "file_extension": ".py",
   "mimetype": "text/x-python",
   "name": "python",
   "nbconvert_exporter": "python",
   "pygments_lexer": "ipython3",
   "version": "3.5.2"
  }
 },
 "nbformat": 4,
 "nbformat_minor": 0
}
