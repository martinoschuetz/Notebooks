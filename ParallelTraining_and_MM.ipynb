{
 "cells": [
  {
   "cell_type": "markdown",
   "metadata": {},
   "source": [
    "# Accelerate Modeling at Scale with SAS Viya"
   ]
  },
  {
   "cell_type": "markdown",
   "metadata": {},
   "source": [
    "Instead of building models sequentially and tuning each one to perfection, the following code allows a data scientist to build hundreds of models simultaneously, testing different algorithms for each micro segment leveraging the power of SAS Viya. \n",
    "\n",
    "The code automatically generates and assesses all models per micro segment, selects micro segment champion model and top challenger models, and then publishes all models into a model repository for governance, monitoring, and publishing as needed."
   ]
  },
  {
   "cell_type": "markdown",
   "metadata": {},
   "source": [
    "### Import SWAT and Additional Packages"
   ]
  },
  {
   "cell_type": "code",
   "execution_count": 14,
   "metadata": {},
   "outputs": [],
   "source": [
    "import swat\n",
    "from swat import *\n",
    "import requests, json\n",
    "import pandas as pd\n",
    "import numpy as np\n",
    "from IPython.display import display\n",
    "import params_box\n",
    "from params_box import impute_params, partition_params, get_model_segments, set_model_params\n",
    "from matplotlib import pyplot as plt\n",
    "import base64\n",
    "import os\n",
    "import pprint\n",
    "%matplotlib inline"
   ]
  },
  {
   "cell_type": "markdown",
   "metadata": {},
   "source": [
    "### SAS Viya CAS Server connection details"
   ]
  },
  {
   "cell_type": "code",
   "execution_count": 15,
   "metadata": {},
   "outputs": [],
   "source": [
    "cashost='localhost'\n",
    "casport=5570\n",
    "casauth='~/.authinfo'"
   ]
  },
  {
   "cell_type": "markdown",
   "metadata": {},
   "source": [
    "### Start CAS Session"
   ]
  },
  {
   "cell_type": "code",
   "execution_count": 16,
   "metadata": {},
   "outputs": [],
   "source": [
    "s = CAS(cashost, casport, authinfo=casauth)"
   ]
  },
  {
   "cell_type": "markdown",
   "metadata": {},
   "source": [
    "### Load CAS Actionsets"
   ]
  },
  {
   "cell_type": "code",
   "execution_count": 17,
   "metadata": {},
   "outputs": [
    {
     "name": "stdout",
     "output_type": "stream",
     "text": [
      "NOTE: Added action set 'cardinality'.\n",
      "NOTE: Added action set 'sampling'.\n",
      "NOTE: Added action set 'fedSQL'.\n",
      "NOTE: Added action set 'decisionTree'.\n",
      "NOTE: Added action set 'neuralNet'.\n",
      "NOTE: Added action set 'regression'.\n",
      "NOTE: Added action set 'svm'.\n",
      "NOTE: Added action set 'astore'.\n"
     ]
    }
   ],
   "source": [
    "actionsets = ['cardinality', 'sampling', 'fedSQL', 'decisionTree', 'neuralNet', 'regression', 'svm', 'astore']\n",
    "for a in actionsets:\n",
    "    s.loadactionset(a)"
   ]
  },
  {
   "cell_type": "markdown",
   "metadata": {},
   "source": [
    "### Load Data into CAS"
   ]
  },
  {
   "cell_type": "code",
   "execution_count": 18,
   "metadata": {},
   "outputs": [
    {
     "name": "stdout",
     "output_type": "stream",
     "text": [
      "NOTE: Added action set 'table'.\n",
      "NOTE: Cloud Analytic Services made the uploaded file available as table ASSET_FAILUR_PREDICTION in caslib CASUSER(sasdemo).\n",
      "NOTE: The table ASSET_FAILUR_PREDICTION has been created in caslib CASUSER(sasdemo) from binary data uploaded to Cloud Analytic Services.\n"
     ]
    }
   ],
   "source": [
    "indata_dir=\"/opt/sas/viya/config/data/cas/default/public\"\n",
    "indata=\"asset_failure_prediction\"\n",
    "s.loadactionset(actionset=\"table\")\n",
    "if not s.table.tableExists(table=indata).exists:\n",
    "    tbl = s.upload_file(indata_dir+\"/\"+indata+\".sas7bdat\", casout={\"name\":indata})"
   ]
  },
  {
   "cell_type": "markdown",
   "metadata": {},
   "source": [
    "### Define Data, Models, and Parameters"
   ]
  },
  {
   "cell_type": "code",
   "execution_count": 11,
   "metadata": {},
   "outputs": [
    {
     "data": {
      "application/vnd.jupyter.widget-view+json": {
       "model_id": "e77c0f8cc9694e53baebe98e28aa9ae1",
       "version_major": 2,
       "version_minor": 0
      },
      "text/plain": [
       "Tab(children=(VBox(children=(Text(value='', description='Caslib ', placeholder='Specify caslib'), Text(value='…"
      ]
     },
     "metadata": {},
     "output_type": "display_data"
    }
   ],
   "source": [
    "tab = params_box.tab()\n",
    "display(tab)"
   ]
  },
  {
   "cell_type": "markdown",
   "metadata": {},
   "source": [
    "#### Use the head method to display first few rows of table"
   ]
  },
  {
   "cell_type": "code",
   "execution_count": null,
   "metadata": {},
   "outputs": [],
   "source": [
    "# get caslib and table from input\n",
    "caslib = params_box.caslib(tab)\n",
    "table = params_box.table(tab)\n",
    "\n",
    "# create reference to telco_detractor_table in memory\n",
    "tbl = s.CASTable(name=table, caslib=caslib)\n",
    "tbl.head(5)"
   ]
  },
  {
   "cell_type": "markdown",
   "metadata": {},
   "source": [
    "#### Print summary statistics using cardinality action set"
   ]
  },
  {
   "cell_type": "code",
   "execution_count": null,
   "metadata": {},
   "outputs": [],
   "source": [
    "# cardinality action set\n",
    "tbl.cardinality.summarize(cardinality = dict(name = 'data_card', replace = True))\n",
    "df_data_card = s.CASTable('data_card').to_frame() # bring the data locally\n",
    "\n",
    "# get list of nominal and numerical variables\n",
    "type_c = list(df_data_card.query('_TYPE_ == \"C\"')['_VARNAME_'])\n",
    "type_n = list(df_data_card.query('_TYPE_ == \"N\"')['_VARNAME_'])\n",
    "\n",
    "# print summary statistics\n",
    "df_data_card['_PCTMISS_'] = (df_data_card['_NMISS_']/df_data_card['_NOBS_'])*100\n",
    "print('\\n', 'Summary Statistics'.center(90, ' '))\n",
    "df_data_card[['_VARNAME_','_TYPE_','_PCTMISS_','_MIN_','_MAX_','_MEAN_','_STDDEV_','_SKEWNESS_','_KURTOSIS_']].round(2)"
   ]
  },
  {
   "cell_type": "markdown",
   "metadata": {},
   "source": [
    "#### Plot distributions of variables"
   ]
  },
  {
   "cell_type": "code",
   "execution_count": null,
   "metadata": {},
   "outputs": [],
   "source": [
    "# Use the built in hist() method to plot the distribution of every variable\n",
    "tbl.hist(figsize = (15,75), layout = (28, 5));"
   ]
  },
  {
   "cell_type": "markdown",
   "metadata": {},
   "source": [
    "### Define up to 2 segment variables, and specify variables to reject"
   ]
  },
  {
   "cell_type": "code",
   "execution_count": null,
   "metadata": {
    "collapsed": true
   },
   "outputs": [],
   "source": [
    "display(params_box.segments(tab))"
   ]
  },
  {
   "cell_type": "code",
   "execution_count": null,
   "metadata": {},
   "outputs": [],
   "source": [
    "# obtain inputs from box\n",
    "params_map = params_box.get(tab)\n",
    "\n",
    "# extract target, segment1, segment2, and rejected values\n",
    "target = params_map['setup']['target']\n",
    "segment1 = params_map['setup']['seg1']\n",
    "segment2 = params_map['setup']['seg2']\n",
    "rejected = params_map['setup']['rejected']\n",
    "\n",
    "# display rejected variables\n",
    "pd.DataFrame(rejected, columns = ['Rejected Variables'])"
   ]
  },
  {
   "cell_type": "markdown",
   "metadata": {},
   "source": [
    "#### Display unique values of target, segment 1 and segment 2 variables"
   ]
  },
  {
   "cell_type": "code",
   "execution_count": null,
   "metadata": {},
   "outputs": [],
   "source": [
    "# display distinct values of Target variable\n",
    "target_distinct = tbl[target].unique()\n",
    "\n",
    "# display distinct values of Segment 1 variable\n",
    "segment1_distinct = tbl[segment1].unique()\n",
    "\n",
    "# display distinct value of Segment 2 variable\n",
    "segment2_distinct = tbl[segment2].unique()\n",
    "\n",
    "df1 = pd.DataFrame(target_distinct, columns = ['Unique target Values'])\n",
    "df2 = pd.DataFrame(segment1_distinct, columns = ['Unique ' + segment1])\n",
    "df3 = pd.DataFrame(segment2_distinct, columns = ['Unique ' + segment2])\n",
    "\n",
    "display(df1, df2, df3)"
   ]
  },
  {
   "cell_type": "markdown",
   "metadata": {},
   "source": [
    "#### Remove rejected variables from input variables, and show which variables remain"
   ]
  },
  {
   "cell_type": "code",
   "execution_count": null,
   "metadata": {},
   "outputs": [],
   "source": [
    "# get a list of all inputs\n",
    "varnames = list(df_data_card['_VARNAME_'])\n",
    "varnames.remove(target)\n",
    "\n",
    "# create list of non-rejected variables\n",
    "inputs = [item for item in varnames if item not in rejected]\n",
    "\n",
    "# get nominal and numerical variables in inputs\n",
    "inputs_c = [item for item in inputs if item in type_c]\n",
    "inputs_n = [item for item in inputs if item in type_n]\n",
    "\n",
    "# display input variables and their type\n",
    "inputs_df = pd.DataFrame(inputs, columns=['Variables'])\n",
    "inputs_df['Type'] = inputs_df['Variables'].apply(lambda x: 'C' if x in inputs_c else 'N')\n",
    "display(inputs_df)"
   ]
  },
  {
   "cell_type": "markdown",
   "metadata": {},
   "source": [
    "### Generate Modeling Segments Based on Chosen Variables¶"
   ]
  },
  {
   "cell_type": "code",
   "execution_count": null,
   "metadata": {},
   "outputs": [],
   "source": [
    "# create segments\n",
    "class1 = tbl[segment1].unique().tolist()\n",
    "class2 = tbl[segment2].unique().tolist()\n",
    "\n",
    "# creates the main segments according to the two inputs\n",
    "if not segment2:\n",
    "    segments_main = [{segment1: i} for i in class1]\n",
    "else:\n",
    "    segments_main = [{segment1: i, segment2: j} for i in class1 for j in class2]\n",
    "\n",
    "# create an id for each segment\n",
    "for idx,val in enumerate(segments_main):\n",
    "    val['segment_id'] = idx\n",
    "\n",
    "# display the segments\n",
    "segments_pd = pd.DataFrame(segments_main, columns=['segment_id', segment1, segment2])\n",
    "segments_pd.set_index('segment_id')"
   ]
  },
  {
   "cell_type": "markdown",
   "metadata": {},
   "source": [
    "#### Define function to: \n",
    "#### 1) create a new session for each segment\n",
    "#### 2) subset the main table to get the segment table "
   ]
  },
  {
   "cell_type": "code",
   "execution_count": null,
   "metadata": {
    "collapsed": true
   },
   "outputs": [],
   "source": [
    "def create_session(conn, segment, table, segment_var1, segment_var2=None, caslib='Public'):\n",
    "    # create a new session\n",
    "    new_sess = conn.copy()\n",
    "    segment['session'] = new_sess\n",
    "    \n",
    "    # load actionsets for new session\n",
    "    actionsets = ['cardinality', 'sampling', 'fedSQL', 'decisionTree', 'neuralNet', 'svm', 'regression', 'astore']\n",
    "    for a in actionsets:\n",
    "        new_sess.invoke('loadactionset', actionset=a)\n",
    "    \n",
    "    # subset main table according to segments, using a where clause\n",
    "    tbl = new_sess.CASTable(name=table, caslib=caslib)\n",
    "    query1 = \"{seg1} = {seg1_value}\" \n",
    "    query2 = \"{seg2} = {seg2_value}\"\n",
    "    query1_str = query1.format(seg1 = segment_var1, seg1_value = '\"{}\"'.format(segment[segment_var1]) \n",
    "                 if isinstance(segment[segment_var1], str) else segment[segment_var1])\n",
    "    query2_str = query2.format(seg2 = segment_var2, seg2_value = '\"{}\"'.format(segment[segment_var2]) \n",
    "                 if isinstance(segment[segment_var2], str) else segment[segment_var2])\n",
    "    if segment_var2:\n",
    "        segment_tbl = tbl.query(query1_str + ' and ' + query2_str)\n",
    "    else:\n",
    "        segment_tbl = tbl.query(query1_str)\n",
    "    \n",
    "    # impute segment\n",
    "    new_sess.invoke('impute', **impute_params(segment_tbl, out=table+'_im'))\n",
    "    \n",
    "    # partition segment\n",
    "    new_sess.invoke('srs', **partition_params(table+'_im', out=table+'_im', replace=True))\n",
    "    \n",
    "    # map the table to the segment\n",
    "    segment['segment_tbl'] = new_sess.CASTable(table+'_im')\n",
    "    segment['non_partind'] = segment_tbl\n",
    "    \n",
    "    return segment"
   ]
  },
  {
   "cell_type": "markdown",
   "metadata": {},
   "source": [
    "### Create Segments, Calculate Number of Observations and Target Event Rate for Each Segment"
   ]
  },
  {
   "cell_type": "code",
   "execution_count": null,
   "metadata": {},
   "outputs": [],
   "source": [
    "# create one session per segment\n",
    "for segment in segments_main:\n",
    "    create_session(s, segment, table, segment1, segment2)\n",
    "\n",
    "# calculate target event rate for each segment\n",
    "for segment in segments_main:\n",
    "    # getting count of non-missing values for each segment\n",
    "    segment['count'] = segment['segment_tbl'].count()[target]\n",
    "    # getting count of event for each segment\n",
    "    segment['event_count'] = segment['segment_tbl'].query(\"%s = %s\" % (target, 1)).count()[target]\n",
    "    # calculating target event rate percentage for each segment\n",
    "    if segment['count'] == 0:\n",
    "        segment['tgt_event_rate'] = 0\n",
    "    else:\n",
    "        segment['tgt_event_rate'] = segment['event_count'] / segment['count']\n",
    "\n",
    "# terminate sessions\n",
    "for segment in segments_main:\n",
    "    segment['session'].close()\n",
    "    segment['session'] = None\n",
    "\n",
    "# display the segments\n",
    "segments_pd = pd.DataFrame(segments_main, columns=['segment_id', segment1, segment2, 'count', 'tgt_event_rate'])\n",
    "segments_pd.set_index('segment_id')"
   ]
  },
  {
   "cell_type": "markdown",
   "metadata": {},
   "source": [
    "#### Set to reject segments not meeting target event rate range, or minimum number of observations"
   ]
  },
  {
   "cell_type": "code",
   "execution_count": null,
   "metadata": {},
   "outputs": [],
   "source": [
    "# get parameters from input box\n",
    "min_obs = params_box.get(tab)['setup']['min_obs']\n",
    "event_rate = params_box.get(tab)['setup']['tgt_event_rate']\n",
    "\n",
    "# set to use or reject segment\n",
    "for segment in segments_main:\n",
    "    if segment['count'] < min_obs:\n",
    "        segment['use'] = False\n",
    "    elif segment['tgt_event_rate'] < event_rate[0] or segment['tgt_event_rate'] > event_rate[1]:\n",
    "        segment['use'] = False\n",
    "    else:\n",
    "        segment['use'] = True\n",
    "\n",
    "# display information about individual segments including count and target event rates\n",
    "segments_r_pd = pd.DataFrame(segments_main, columns=['segment_id', segment1, segment2, 'count', 'tgt_event_rate', 'use'])\n",
    "segments_r_pd.set_index('segment_id')\n",
    "\n",
    "# display number of segments to be included and excluded\n",
    "use_count = segments_r_pd.loc[segments_r_pd['use'] == True].count()['use']\n",
    "exclude_count = segments_r_pd.loc[segments_r_pd['use'] == False].count()['use']\n",
    "print (\"Count of segments to be included : \" , use_count)\n",
    "print(\"Count of segments to be excluded : \", exclude_count)\n",
    "display(segments_r_pd)"
   ]
  },
  {
   "cell_type": "markdown",
   "metadata": {},
   "source": [
    "### Train Models in Parallel - Generate One Session Per Model"
   ]
  },
  {
   "cell_type": "markdown",
   "metadata": {},
   "source": [
    "#### Functions to Train, Score, and Assess"
   ]
  },
  {
   "cell_type": "code",
   "execution_count": null,
   "metadata": {
    "collapsed": true
   },
   "outputs": [],
   "source": [
    "def train_segment(segment):\n",
    "    sess = segment['session']\n",
    "    if segment['train_params']:\n",
    "        sess.invoke(**segment['train_params'])\n",
    "    return sess\n",
    "\n",
    "def score_segment(segment):\n",
    "    sess = segment['session']\n",
    "    if segment['score_params']:\n",
    "        sess.invoke(**segment['score_params'])\n",
    "    return sess\n",
    "    \n",
    "def assess_segment(segment):\n",
    "    sess = segment['session']\n",
    "    if segment['assess_params']:\n",
    "        sess.invoke(**segment['assess_params'])\n",
    "    return sess"
   ]
  },
  {
   "cell_type": "markdown",
   "metadata": {},
   "source": [
    "#### Create one CAS session per model per segment\n",
    "#### Set the training, scoring and assess parameters"
   ]
  },
  {
   "cell_type": "code",
   "execution_count": null,
   "metadata": {},
   "outputs": [],
   "source": [
    "# generate all the model-segments\n",
    "model_segments = get_model_segments(tab, segments_main)\n",
    "\n",
    "# create the sessions using create_session\n",
    "for segment in model_segments:\n",
    "    create_session(s, segment, table, segment1, segment2)\n",
    "\n",
    "# set the training, scoring, and assessment parameters\n",
    "for segment in model_segments:\n",
    "    set_model_params(tab, segment, inputs_c, inputs_n, tgt_type='C')\n",
    "    \n",
    "# display the result\n",
    "segments_pd = pd.DataFrame(model_segments, columns=['segment_id', segment1, segment2, 'count', 'tgt_event_rate', 'model'])\n",
    "segments_pd.set_index('segment_id')"
   ]
  },
  {
   "cell_type": "markdown",
   "metadata": {},
   "source": [
    "### Run Training on All Segments"
   ]
  },
  {
   "cell_type": "code",
   "execution_count": null,
   "metadata": {},
   "outputs": [],
   "source": [
    "# invoke training for all segments\n",
    "for segment in model_segments:\n",
    "    train_segment(segment)\n",
    "\n",
    "# iterate through all sessions and get responses\n",
    "train_sess = [segment['session'] for segment in model_segments if segment['train_params'] is not None]\n",
    "train_resp = [(sess, k, v) for resp,sess in getnext(*train_sess) for k,v in resp]\n",
    "\n",
    "# extract and save training output\n",
    "for segment in model_segments:\n",
    "    for sess,k,v in train_resp:\n",
    "        if sess == segment['session']:\n",
    "            segment['train_key']=k\n",
    "            segment['train_value']=v"
   ]
  },
  {
   "cell_type": "markdown",
   "metadata": {},
   "source": [
    "### Run Scoring on All Segments"
   ]
  },
  {
   "cell_type": "code",
   "execution_count": null,
   "metadata": {
    "collapsed": true
   },
   "outputs": [],
   "source": [
    "for segment in model_segments:\n",
    "    score_segment(segment)\n",
    "\n",
    "score_sess = [segment['session'] for segment in model_segments if segment['score_params'] is not None]\n",
    "score_resp = [(sess, k, v) for resp,sess in getnext(*score_sess) for k,v in resp]\n",
    "\n",
    "for segment in model_segments:\n",
    "    for sess,k,v in score_resp:\n",
    "        if sess == segment['session']:\n",
    "            segment['score_key']=k\n",
    "            segment['score_value']=v   "
   ]
  },
  {
   "cell_type": "markdown",
   "metadata": {},
   "source": [
    "### Run Assessment on All Segments"
   ]
  },
  {
   "cell_type": "code",
   "execution_count": null,
   "metadata": {},
   "outputs": [],
   "source": [
    "for segment in model_segments:\n",
    "    assess_segment(segment)\n",
    "\n",
    "assess_sess = [segment['session'] for segment in model_segments if segment['assess_params'] is not None]\n",
    "assess_resp = [(sess, k, v) for resp,sess in getnext(*assess_sess) for k,v in resp]\n",
    "\n",
    "for segment in model_segments:\n",
    "    for sess,k,v in assess_resp:\n",
    "        if sess == segment['session']:\n",
    "            if k == 'LIFTInfo':\n",
    "                segment['LIFTInfo']=v\n",
    "            elif k == 'ROCInfo':\n",
    "                segment['ROCInfo']=v\n",
    "                v['misclass'] = 1-v['ACC']\n",
    "                segment['misclassification']=v[round(v['CutOff'], 2) == 0.5][['misclass']].iloc[0]['misclass']\n",
    "                segment['ks']=v[round(v['CutOff'], 2) == 0.5][['KS']]"
   ]
  },
  {
   "cell_type": "markdown",
   "metadata": {},
   "source": [
    "### Draw Assessment Plots"
   ]
  },
  {
   "cell_type": "markdown",
   "metadata": {},
   "source": [
    "#### Create ROC Curves per segment"
   ]
  },
  {
   "cell_type": "code",
   "execution_count": null,
   "metadata": {
    "collapsed": true
   },
   "outputs": [],
   "source": [
    "for m in segments_main:\n",
    "    if not m['use']:\n",
    "        continue\n",
    "    plt.rcParams.update({'figure.max_open_warning': 0})\n",
    "    plt.figure(figsize=(16,5))\n",
    "    for s in model_segments:\n",
    "        if s['segment_id'] == m['segment_id']:\n",
    "            rocinfo = s.get('ROCInfo')\n",
    "            if rocinfo is not None:\n",
    "                plt.title('Segment 1: ' + str(m[segment1]) + ' Segment 2: ' + str(m[segment2]))\n",
    "                plt.xlabel(\"False Positive Rate\")\n",
    "                plt.ylabel(\"True Positive Rate\")\n",
    "                plt.grid(True)\n",
    "                plt.plot(rocinfo[\"FPR\"], rocinfo[\"Sensitivity\"], label=s['model'])\n",
    "                plt.legend(loc=\"best\")"
   ]
  },
  {
   "cell_type": "markdown",
   "metadata": {},
   "source": [
    "#### Create Lift Charts per segment"
   ]
  },
  {
   "cell_type": "code",
   "execution_count": null,
   "metadata": {
    "collapsed": true
   },
   "outputs": [],
   "source": [
    "for m in segments_main:\n",
    "    if not m['use']:\n",
    "        continue\n",
    "    plt.rcParams.update({'figure.max_open_warning': 0})\n",
    "    plt.figure(figsize=(16,5))\n",
    "    for s in model_segments:\n",
    "        if s['segment_id'] == m['segment_id']:\n",
    "            rocinfo = s.get('LIFTInfo')\n",
    "            if rocinfo is not None:\n",
    "                plt.title('Segment 1: ' + str(m[segment1]) + ' Segment 2: ' + str(m[segment2]))\n",
    "                plt.xlabel(\"Depth\")\n",
    "                plt.ylabel(\"Lift\")\n",
    "                plt.grid(True)\n",
    "                plt.plot(rocinfo[\"Depth\"], rocinfo[\"Lift\"], label=s['model'])\n",
    "                plt.legend(loc=\"best\")"
   ]
  },
  {
   "cell_type": "markdown",
   "metadata": {},
   "source": [
    "#### Summary of Results for All Segments"
   ]
  },
  {
   "cell_type": "code",
   "execution_count": null,
   "metadata": {
    "collapsed": true
   },
   "outputs": [],
   "source": [
    "assess_res = [{'Segment ID': segment['segment_id'], segment1: segment[segment1], segment2: segment[segment2], 'Model': segment['model'], 'Misclassification': segment['misclassification'], 'Target Event Rate': segment['tgt_event_rate']} for segment in model_segments]\n",
    "\n",
    "assess_pd = pd.DataFrame(assess_res, columns=['Segment ID', segment1, segment2, 'Model', 'Misclassification', 'Target Event Rate'])\n",
    "assess_pd.set_index('Segment ID')"
   ]
  },
  {
   "cell_type": "markdown",
   "metadata": {},
   "source": [
    "### Find and Display the Champion Model by Misclassification for Each Segment"
   ]
  },
  {
   "cell_type": "code",
   "execution_count": null,
   "metadata": {
    "collapsed": true
   },
   "outputs": [],
   "source": [
    "def find_champion(models):\n",
    "    misclass = [model['misclassification'] for model in models]\n",
    "    lowest = min(misclass)\n",
    "    idx = misclass.index(lowest)\n",
    "    return models[idx]\n",
    "\n",
    "champion_list = []\n",
    "\n",
    "for segment in segments_main:\n",
    "    if not segment['use']:\n",
    "        continue\n",
    "    all_models = [seg for seg in model_segments if segment[segment1] == seg[segment1] and segment[segment2] == seg[segment2]]\n",
    "    champ = find_champion(all_models)\n",
    "    champion_list.append({segment1 : champ[segment1], segment2: champ[segment2], 'Champion Model': champ['model'], 'Misclassification': champ['misclassification'], 'Target Event Rate': champ['tgt_event_rate']})\n",
    "\n",
    "champion_pd = pd.DataFrame(champion_list, columns=[segment1, segment2, 'Champion Model', 'Misclassification', 'Target Event Rate'])\n",
    "champion_pd"
   ]
  },
  {
   "cell_type": "markdown",
   "metadata": {},
   "source": [
    "### Find and Display Top Challenger Model by Misclassification for Each Segment"
   ]
  },
  {
   "cell_type": "code",
   "execution_count": null,
   "metadata": {
    "collapsed": true
   },
   "outputs": [],
   "source": [
    "def find_challenger(models):\n",
    "    misclass = [model['misclassification'] for model in models]\n",
    "    lowest = min(misclass)\n",
    "    misclass.remove(lowest)\n",
    "    second_lowest = min(misclass)\n",
    "    idx = misclass.index(second_lowest)\n",
    "    return models[idx]\n",
    "\n",
    "challenger_list = []\n",
    "\n",
    "for segment in segments_main:\n",
    "    if not segment['use']:\n",
    "        continue\n",
    "    all_models = [seg for seg in model_segments if segment[segment1] == seg[segment1] and segment[segment2] == seg[segment2]]\n",
    "    challenge = find_challenger(all_models)\n",
    "    challenger_list.append({segment1 : challenge[segment1], segment2: challenge[segment2], 'Challenger Model': challenge['model'], 'Misclassification': challenge['misclassification'], 'Target Event Rate': challenge['tgt_event_rate']})\n",
    "\n",
    "challenger_pd = pd.DataFrame(challenger_list, columns=[segment1, segment2, 'Challenger Model', 'Misclassification', 'Target Event Rate'])\n",
    "challenger_pd"
   ]
  },
  {
   "cell_type": "markdown",
   "metadata": {},
   "source": [
    "### Register all models in SAS Model Manager"
   ]
  },
  {
   "cell_type": "markdown",
   "metadata": {},
   "source": [
    "#### Functions to create SAS Model Manager repository, project folder and project"
   ]
  },
  {
   "cell_type": "code",
   "execution_count": null,
   "metadata": {
    "collapsed": true
   },
   "outputs": [],
   "source": [
    "def createRepository(repoName):\n",
    "    contentType = \"application/vnd.sas.models.repository+json\"\n",
    "    repository = {\"name\" : repoName}\n",
    "    myRepo = requests.post(viyahost + '/modelRepository/repositories', data=json.dumps(repository), headers=getHeaders(contentType))\n",
    "    return myRepo.json()\n",
    "\n",
    "def createProjectFolder(repoName, repositoryFolderId):\n",
    "    contentType = \"application/json\"\n",
    "    parentURI = '/folders/folders/' + repositoryFolderId\n",
    "    newFolder = {\"name\": repoName + \"_project\"}\n",
    "    myFolder = requests.post(viyahost + '/folders/folders?parentFolderUri='+parentURI, data=json.dumps(newFolder), headers=getHeaders(contentType));\n",
    "    folderID = json.loads(myFolder.content.decode('utf-8'))['id']\n",
    "    return folderID\n",
    "\n",
    "def createProject(segmentName, repositoryID, folderId):\n",
    "    contentType = 'application/vnd.sas.models.project+json'\n",
    "    newProj = {'name': segmentName, 'repositoryId': repositoryID, 'folderId': folderId}\n",
    "    myProj = requests.post(viyahost + '/modelRepository/projects', data=json.dumps(newProj), headers=getHeaders(contentType))\n",
    "    projectID = myProj.json()['id']\n",
    "    return projectID"
   ]
  },
  {
   "cell_type": "markdown",
   "metadata": {},
   "source": [
    "#### Functions to register and set champion model flag in SAS Model Manager"
   ]
  },
  {
   "cell_type": "code",
   "execution_count": null,
   "metadata": {
    "collapsed": true
   },
   "outputs": [],
   "source": [
    "def registerModel(modelName, projectID, folderId):\n",
    "    contentType = 'application/vnd.sas.models.model+json'\n",
    "    newModel= {'name': modelName,'projectId': projectID,'folderId': folderId}\n",
    "    myModel = requests.post(viyahost + '/modelRepository/models', data=json.dumps(newModel), headers = getHeaders(contentType))\n",
    "    return myModel.json()\n",
    "\n",
    "def setChampionModel(projectID, modelID):\n",
    "    contentType = 'application/json'\n",
    "    resp = requests.post(viyahost + '/modelRepository/projects/'+projectID+'/champion?modelId='+modelID, headers = getHeaders(contentType))\n",
    "    return resp.json()\n",
    "\n",
    "def clearChampionModel(projectID):\n",
    "    contentType = 'application/json'\n",
    "    resp = requests.delete(viyahost + '/modelRepository/projects/'+projectID+'/champion', headers = getHeaders(contentType))\n",
    "    if resp.status_code == 204:\n",
    "        return {'response': resp, 'result': 'Successfully cleared Champion'}\n",
    "    return resp.json()"
   ]
  },
  {
   "cell_type": "markdown",
   "metadata": {},
   "source": [
    "#### Define Model Repository Variables"
   ]
  },
  {
   "cell_type": "code",
   "execution_count": null,
   "metadata": {
    "collapsed": true
   },
   "outputs": [],
   "source": [
    "project_name=params_box.get(tab)['setup']['proj_name']\n",
    "mm_segments = [str(segment[segment1]) + '_' + str(segment[segment2]) for segment in segments_main if segment['use']]\n",
    "mm_models = params_box.get_models(tab)"
   ]
  },
  {
   "cell_type": "markdown",
   "metadata": {},
   "source": [
    "#### Get OAuth Token"
   ]
  },
  {
   "cell_type": "code",
   "execution_count": null,
   "metadata": {
    "collapsed": true
   },
   "outputs": [],
   "source": [
    "# Helper functions to authenticate through OAuth\n",
    "def getHeaders(contentType=\"application/json\"):\n",
    "    headers = {\"Content-Type\": contentType, \"Authorization\": \"Bearer \" + auth_token}\n",
    "    return headers\n",
    "\n",
    "def getAuthToken(url, user, password, auth):\n",
    "    headers = {'Accept': 'application/json',\n",
    "               'Content-Type': 'application/x-www-form-urlencoded',\n",
    "               'Authorization': 'Basic ' + auth}\n",
    "    payload = 'grant_type=password&username='+user+'&password='+password\n",
    "    authReturn = requests.post(url+'/SASLogon/oauth/token', data=payload, headers=headers, verify = False)\n",
    "    return authReturn.json()['access_token']\n",
    "\n",
    "# get OAuth Token\n",
    "auth_token = getAuthToken('http://localhost', 'sasdemo', 'Orion123', base64.b64encode(b'pipeline_script:sastronauts').decode())"
   ]
  },
  {
   "cell_type": "markdown",
   "metadata": {},
   "source": [
    "### Terminate All CAS Sessions"
   ]
  },
  {
   "cell_type": "code",
   "execution_count": null,
   "metadata": {},
   "outputs": [],
   "source": [
    "for segment in model_segments:\n",
    "    segment['session'].terminate()"
   ]
  }
 ],
 "metadata": {
  "kernelspec": {
   "display_name": "Python 3",
   "language": "python",
   "name": "python3"
  },
  "language_info": {
   "codemirror_mode": {
    "name": "ipython",
    "version": 3
   },
   "file_extension": ".py",
   "mimetype": "text/x-python",
   "name": "python",
   "nbconvert_exporter": "python",
   "pygments_lexer": "ipython3",
   "version": "3.6.9"
  },
  "widgets": {
   "state": {
    "4c8c0b5963994f56898e05da48caa1f3": {
     "views": [
      {
       "cell_index": 13
      }
     ]
    },
    "a700aa3bf8c84fefb1efaef8878138a4": {
     "views": [
      {
       "cell_index": 21
      }
     ]
    }
   },
   "version": "1.2.0"
  }
 },
 "nbformat": 4,
 "nbformat_minor": 2
}
