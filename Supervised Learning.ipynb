{
 "cells": [
  {
   "cell_type": "markdown",
   "metadata": {},
   "source": [
    "This snippet showcases a sample Machine Learning pipeline for        \n",
    "supervised learning using the HMEQ data set. The steps include:  \n",
    "                                                                      \n",
    "1.  PREPARE AND EXPLORE  \n",
    "  a) Load data set into CAS  \n",
    "  b) Explore  \n",
    "  c) Partition  \n",
    "  d) Impute  \n",
    "  e) Identify variables that explain variance  \n",
    "<br>\n",
    "2. PERFORM SUPERVISED LEARNING  \n",
    "  a) Fit model using random forest  \n",
    "<br>\n",
    "3. EVALUATE AND IMPLEMENT  \n",
    "  a) Score the data  \n",
    "  b) Assess model performance  \n",
    "  c) Generate ROC and Lift charts     "
   ]
  },
  {
   "cell_type": "markdown",
   "metadata": {},
   "source": [
    "### Import packages"
   ]
  },
  {
   "cell_type": "code",
   "execution_count": 1,
   "metadata": {
    "collapsed": true
   },
   "outputs": [],
   "source": [
    "from swat import *\n",
    "from pprint import pprint\n",
    "from matplotlib import pyplot as plt\n",
    "import pandas as pd\n",
    "from swat.render import render_html\n",
    "%matplotlib inline"
   ]
  },
  {
   "cell_type": "markdown",
   "metadata": {},
   "source": [
    "### CAS Server connection details"
   ]
  },
  {
   "cell_type": "code",
   "execution_count": 2,
   "metadata": {
    "collapsed": true
   },
   "outputs": [],
   "source": [
    "cashost='sasserver.demo.sas.com'\n",
    "casport=5570\n",
    "casauth='~/.authinfo'\n",
    "indata_dir=\"data\"\n",
    "indata=\"hmeq\""
   ]
  },
  {
   "cell_type": "markdown",
   "metadata": {},
   "source": [
    "### Start CAS session"
   ]
  },
  {
   "cell_type": "code",
   "execution_count": 3,
   "metadata": {
    "collapsed": true
   },
   "outputs": [],
   "source": [
    "sess = CAS(cashost, casport, authinfo=\"~/.authinfo\", caslib=\"casuser\")"
   ]
  },
  {
   "cell_type": "markdown",
   "metadata": {},
   "source": [
    "### Import action sets"
   ]
  },
  {
   "cell_type": "code",
   "execution_count": 4,
   "metadata": {
    "collapsed": false
   },
   "outputs": [
    {
     "name": "stdout",
     "output_type": "stream",
     "text": [
      "NOTE: Added action set 'dataStep'.\n",
      "NOTE: Added action set 'dataPreprocess'.\n",
      "NOTE: Added action set 'cardinality'.\n",
      "NOTE: Added action set 'sampling'.\n",
      "NOTE: Added action set 'regression'.\n",
      "NOTE: Added action set 'decisionTree'.\n",
      "NOTE: Added action set 'neuralNet'.\n",
      "NOTE: Added action set 'svm'.\n",
      "NOTE: Added action set 'astore'.\n",
      "NOTE: Added action set 'percentile'.\n",
      "NOTE: Added action set 'varReduce'.\n"
     ]
    },
    {
     "data": {
      "text/html": [
       "<div class=\"cas-results-key\"><b>&#167; actionset</b></div>\n",
       "<div class=\"cas-results-body\">\n",
       "<div>varReduce</div>\n",
       "</div>\n",
       "<div class=\"cas-output-area\"></div>\n",
       "<p class=\"cas-results-performance\"><small><span class=\"cas-elapsed\">elapsed 0.000595s</span> &#183; <span class=\"cas-memory\">mem 0.0291MB</span></small></p>"
      ],
      "text/plain": [
       "[actionset]\n",
       "\n",
       " 'varReduce'\n",
       "\n",
       "+ Elapsed: 0.000595s, mem: 0.0291mb"
      ]
     },
     "execution_count": 4,
     "metadata": {},
     "output_type": "execute_result"
    }
   ],
   "source": [
    "sess.loadactionset(actionset=\"dataStep\")\n",
    "sess.loadactionset(actionset=\"dataPreprocess\")\n",
    "sess.loadactionset(actionset=\"cardinality\")\n",
    "sess.loadactionset(actionset=\"sampling\")\n",
    "sess.loadactionset(actionset=\"regression\")\n",
    "sess.loadactionset(actionset=\"decisionTree\")\n",
    "sess.loadactionset(actionset=\"neuralNet\")\n",
    "sess.loadactionset(actionset=\"svm\")\n",
    "sess.loadactionset(actionset=\"astore\")\n",
    "sess.loadactionset(actionset=\"percentile\")\n",
    "sess.loadactionset(actionset=\"varReduce\")"
   ]
  },
  {
   "cell_type": "markdown",
   "metadata": {},
   "source": [
    "### Set variables for input data"
   ]
  },
  {
   "cell_type": "code",
   "execution_count": 5,
   "metadata": {
    "collapsed": true
   },
   "outputs": [],
   "source": [
    "target          = \"bad\"\n",
    "class_inputs    = [\"reason\", \"job\"]\n",
    "class_vars      = [target] + class_inputs\n",
    "interval_inputs = [\"im_clage\", \"clno\", \"im_debtinc\", \"loan\", \"mortdue\", \"value\", \"im_yoj\", \"im_ninq\", \"derog\", \"im_delinq\"]\n",
    "all_inputs      = interval_inputs + class_inputs"
   ]
  },
  {
   "cell_type": "markdown",
   "metadata": {},
   "source": [
    "### Load data into CAS if needed"
   ]
  },
  {
   "cell_type": "code",
   "execution_count": 6,
   "metadata": {
    "collapsed": false
   },
   "outputs": [
    {
     "name": "stdout",
     "output_type": "stream",
     "text": [
      "NOTE: Cloud Analytic Services made the file data/hmeq.sas7bdat available as table HMEQ in caslib CASUSER(viyauser).\n"
     ]
    }
   ],
   "source": [
    "if not sess.table.tableExists(table=indata).exists:\n",
    "    sess.loadTable(caslib=\"casuser\", path=indata_dir+\"/\"+indata+\".sas7bdat\", casout={\"name\":indata})"
   ]
  },
  {
   "cell_type": "markdown",
   "metadata": {},
   "source": [
    "### Explore and Impute missing values"
   ]
  },
  {
   "cell_type": "markdown",
   "metadata": {},
   "source": [
    "#### Explore data and plot missing values"
   ]
  },
  {
   "cell_type": "code",
   "execution_count": 7,
   "metadata": {
    "collapsed": false
   },
   "outputs": [
    {
     "name": "stdout",
     "output_type": "stream",
     "text": [
      "NOTE: Writing cardinality.\n",
      "NOTE: status = 0.\n",
      "NOTE: The Cloud Analytic Services server processed the request in 0.503529 seconds.\n",
      "----------------------------------Data Summary----------------------------------\n"
     ]
    },
    {
     "data": {
      "text/plain": [
       "<matplotlib.text.Text at 0x7fa93dcff390>"
      ]
     },
     "execution_count": 7,
     "metadata": {},
     "output_type": "execute_result"
    },
    {
     "data": {
      "image/png": "[encoded data removed]",
      "text/plain": [
       "<matplotlib.figure.Figure at 0x7fa93dcec630>"
      ]
     },
     "metadata": {},
     "output_type": "display_data"
    }
   ],
   "source": [
    "sess.cardinality.summarize(\n",
    "  table={\"name\":indata}, \n",
    "  cardinality={\"name\":\"data_card\", \"replace\":True}\n",
    ")\n",
    "\n",
    "tbl_data_card=sess.CASTable('data_card')\n",
    "tbl_data_card.where='_NMISS_>0'\n",
    "print(\"Data Summary\".center(80, '-')) # print title\n",
    "tbl_data_card.fetch() # print obs\n",
    "\n",
    "tbl_data_card.vars=['_VARNAME_', '_NMISS_', '_NOBS_']\n",
    "allRows=20000  # Assuming max rows in data_card table is <= 20,000\n",
    "df_data_card=tbl_data_card.fetch(to=allRows)['Fetch']\n",
    "df_data_card['PERCENT_MISSING']=(df_data_card['_NMISS_']/df_data_card['_NOBS_'])*100\n",
    "\n",
    "tbl_forplot=pd.Series(list(df_data_card['PERCENT_MISSING']), index=list(df_data_card['_VARNAME_']))\n",
    "ax=tbl_forplot.plot(\n",
    "  kind='bar', \n",
    "  title='Percentage of Missing Values'\n",
    ")\n",
    "ax.set_ylabel('Percent Missing')\n",
    "ax.set_xlabel('Variable Names')"
   ]
  },
  {
   "cell_type": "markdown",
   "metadata": {},
   "source": [
    "#### Impute missing values"
   ]
  },
  {
   "cell_type": "code",
   "execution_count": 8,
   "metadata": {
    "collapsed": false
   },
   "outputs": [
    {
     "data": {
      "text/html": [
       "<div class=\"cas-results-key\"><b>&#167; TransInfo</b></div>\n",
       "<div class=\"cas-results-body\">\n",
       "<div>\n",
       "<table border=\"1\" class=\"dataframe\"><caption>Transformation Requests for HMEQ</caption>\n",
       "  <thead>\n",
       "    <tr style=\"text-align: right;\">\n",
       "      <th title=\"\"></th>\n",
       "      <th title=\"Actual Name for Transformation\">ActualName</th>\n",
       "      <th title=\"Number of Transformation Variables\">NTransVars</th>\n",
       "      <th title=\"Imputation Method\">ImputeMethod</th>\n",
       "      <th title=\"Seed\">Seed</th>\n",
       "    </tr>\n",
       "  </thead>\n",
       "  <tbody>\n",
       "    <tr>\n",
       "      <th>0</th>\n",
       "      <td>_TR1</td>\n",
       "      <td>1</td>\n",
       "      <td>Mean</td>\n",
       "      <td>NaN</td>\n",
       "    </tr>\n",
       "    <tr>\n",
       "      <th>1</th>\n",
       "      <td>_TR2</td>\n",
       "      <td>1</td>\n",
       "      <td>Median</td>\n",
       "      <td>NaN</td>\n",
       "    </tr>\n",
       "    <tr>\n",
       "      <th>2</th>\n",
       "      <td>_TR3</td>\n",
       "      <td>1</td>\n",
       "      <td>Random</td>\n",
       "      <td>1.801404e+09</td>\n",
       "    </tr>\n",
       "    <tr>\n",
       "      <th>3</th>\n",
       "      <td>_TR4</td>\n",
       "      <td>2</td>\n",
       "      <td>Value</td>\n",
       "      <td>NaN</td>\n",
       "    </tr>\n",
       "  </tbody>\n",
       "</table>\n",
       "</div>\n",
       "</div>\n",
       "<div class=\"cas-results-key\"><hr/><b>&#167; VarTransInfo</b></div>\n",
       "<div class=\"cas-results-body\">\n",
       "<div>\n",
       "<table border=\"1\" class=\"dataframe\"><caption>Variable Transformation Information for HMEQ</caption>\n",
       "  <thead>\n",
       "    <tr style=\"text-align: right;\">\n",
       "      <th title=\"\"></th>\n",
       "      <th title=\"Variable\">Variable</th>\n",
       "      <th title=\"Transformation Name\">Transformation</th>\n",
       "      <th title=\"Result Variable\">ResultVar</th>\n",
       "      <th title=\"Number of Observations\">N</th>\n",
       "      <th title=\"Number of Missing\">NMiss</th>\n",
       "      <th title=\"Imputed Value\">ImputedValueContinuous</th>\n",
       "    </tr>\n",
       "  </thead>\n",
       "  <tbody>\n",
       "    <tr>\n",
       "      <th>0</th>\n",
       "      <td>CLAGE</td>\n",
       "      <td>IM</td>\n",
       "      <td>IM_CLAGE</td>\n",
       "      <td>5652</td>\n",
       "      <td>308</td>\n",
       "      <td>179.766275</td>\n",
       "    </tr>\n",
       "    <tr>\n",
       "      <th>1</th>\n",
       "      <td>DEBTINC</td>\n",
       "      <td>IM</td>\n",
       "      <td>IM_DEBTINC</td>\n",
       "      <td>4693</td>\n",
       "      <td>1267</td>\n",
       "      <td>100.000000</td>\n",
       "    </tr>\n",
       "    <tr>\n",
       "      <th>2</th>\n",
       "      <td>DELINQ</td>\n",
       "      <td>IM</td>\n",
       "      <td>IM_DELINQ</td>\n",
       "      <td>5380</td>\n",
       "      <td>580</td>\n",
       "      <td>0.000000</td>\n",
       "    </tr>\n",
       "    <tr>\n",
       "      <th>3</th>\n",
       "      <td>NINQ</td>\n",
       "      <td>IM</td>\n",
       "      <td>IM_NINQ</td>\n",
       "      <td>5450</td>\n",
       "      <td>510</td>\n",
       "      <td>NaN</td>\n",
       "    </tr>\n",
       "    <tr>\n",
       "      <th>4</th>\n",
       "      <td>YOJ</td>\n",
       "      <td>IM</td>\n",
       "      <td>IM_YOJ</td>\n",
       "      <td>5445</td>\n",
       "      <td>515</td>\n",
       "      <td>50.000000</td>\n",
       "    </tr>\n",
       "  </tbody>\n",
       "</table>\n",
       "</div>\n",
       "</div>\n",
       "<div class=\"cas-results-key\"><hr/><b>&#167; OutputCasTables</b></div>\n",
       "<div class=\"cas-results-body\">\n",
       "<div>\n",
       "<table border=\"1\" class=\"dataframe\">\n",
       "  <thead>\n",
       "    <tr style=\"text-align: right;\">\n",
       "      <th title=\"\"></th>\n",
       "      <th title=\"CAS Library\">casLib</th>\n",
       "      <th title=\"Name\">Name</th>\n",
       "      <th title=\"Number of Rows\">Rows</th>\n",
       "      <th title=\"Number of Columns\">Columns</th>\n",
       "      <th title=\"Table\">casTable</th>\n",
       "    </tr>\n",
       "  </thead>\n",
       "  <tbody>\n",
       "    <tr>\n",
       "      <th>0</th>\n",
       "      <td>CASUSER(viyauser)</td>\n",
       "      <td>hmeq_prepped</td>\n",
       "      <td>5960</td>\n",
       "      <td>18</td>\n",
       "      <td>CASTable('hmeq_prepped', caslib='CASUSER(viyau...</td>\n",
       "    </tr>\n",
       "  </tbody>\n",
       "</table>\n",
       "</div>\n",
       "</div>\n",
       "<div class=\"cas-output-area\"></div>\n",
       "<p class=\"cas-results-performance\"><small><span class=\"cas-elapsed\">elapsed 0.022s</span> &#183; <span class=\"cas-user\">user 0.017s</span> &#183; <span class=\"cas-sys\">sys 0.006s</span> &#183; <span class=\"cas-memory\">mem 9.52MB</span></small></p>"
      ],
      "text/plain": [
       "[TransInfo]\n",
       "\n",
       " Transformation Requests for HMEQ\n",
       " \n",
       "   ActualName  NTransVars ImputeMethod          Seed\n",
       " 0       _TR1           1         Mean           NaN\n",
       " 1       _TR2           1       Median           NaN\n",
       " 2       _TR3           1       Random  1.801404e+09\n",
       " 3       _TR4           2        Value           NaN\n",
       "\n",
       "[VarTransInfo]\n",
       "\n",
       " Variable Transformation Information for HMEQ\n",
       " \n",
       "   Variable Transformation   ResultVar     N  NMiss  ImputedValueContinuous\n",
       " 0    CLAGE             IM    IM_CLAGE  5652    308              179.766275\n",
       " 1  DEBTINC             IM  IM_DEBTINC  4693   1267              100.000000\n",
       " 2   DELINQ             IM   IM_DELINQ  5380    580                0.000000\n",
       " 3     NINQ             IM     IM_NINQ  5450    510                     NaN\n",
       " 4      YOJ             IM      IM_YOJ  5445    515               50.000000\n",
       "\n",
       "[OutputCasTables]\n",
       "\n",
       "               casLib          Name  Rows  Columns  \\\n",
       " 0  CASUSER(viyauser)  hmeq_prepped  5960       18   \n",
       " \n",
       "                                             casTable  \n",
       " 0  CASTable('hmeq_prepped', caslib='CASUSER(viyau...  \n",
       "\n",
       "+ Elapsed: 0.022s, user: 0.017s, sys: 0.006s, mem: 9.52mb"
      ]
     },
     "execution_count": 8,
     "metadata": {},
     "output_type": "execute_result"
    }
   ],
   "source": [
    "sess.dataPreprocess.transform(\n",
    "  table={\"name\":indata},\n",
    "  casOut={\"name\":\"hmeq_prepped\", \"replace\":True},\n",
    "  copyAllVars=True,\n",
    "  outVarsNameGlobalPrefix=\"IM\",\n",
    "  requestPackages=[\n",
    "    {\"impute\":{\"method\":\"MEAN\"}, \"inputs\":{\"clage\"}},\n",
    "    {\"impute\":{\"method\":\"MEDIAN\"}, \"inputs\":{\"delinq\"}},\n",
    "    {\"impute\":{\"method\":\"RANDOM\"}, \"inputs\":{\"ninq\"}},\n",
    "    {\"impute\":{\"method\":\"VALUE\", \"valuesContinuous\":{50, 100}}, \"inputs\":{\"debtinc\", \"yoj\"}}\n",
    "  ]\n",
    ")"
   ]
  },
  {
   "cell_type": "markdown",
   "metadata": {},
   "source": [
    "#### Identify variables that explain variance in the target"
   ]
  },
  {
   "cell_type": "code",
   "execution_count": 9,
   "metadata": {
    "collapsed": false
   },
   "outputs": [
    {
     "name": "stdout",
     "output_type": "stream",
     "text": [
      "NOTE: The CAS table 'SelectionSummary' in caslib 'CASUSER(viyauser)' has 9 rows and 9 columns.\n"
     ]
    },
    {
     "data": {
      "image/png": "[encoded data removed]",
      "text/plain": [
       "<matplotlib.figure.Figure at 0x7fa93d904048>"
      ]
     },
     "metadata": {},
     "output_type": "display_data"
    }
   ],
   "source": [
    "#/* Discriminant analysis for class target */\n",
    "sess.varReduce.super(\n",
    "  table={\"name\":\"hmeq_prepped\"},\n",
    "  analysis=\"DSC\",\n",
    "  classVars=[{\"vars\":{\"bad\", \"reason\", \"job\"}}],\n",
    "  model={\n",
    "    \"depVars\":[{\"name\":target}],\n",
    "    \"effects\":[{\"vars\":{\"reason\", \"job\", \"im_clage\", \"clno\", \n",
    "                        \"im_debtinc\", \"loan\", \"mortdue\", \"value\",\n",
    "                        \"im_yoj\", \"im_ninq\", \"derog\", \"im_delinq\"}}]\n",
    "  },\n",
    "  maxeffects=8,\n",
    "  outputTables={\"names\":{\"SelectionSummary\"}}  \n",
    ")\n",
    "\n",
    "# Compute Increment and Base variables\n",
    "selsum=sess.CASTable(\"SelectionSummary\")\n",
    "selsum.vars=['Iteration', 'Variable', 'VarExp']\n",
    "allRows=20000  # Assuming max rows in SelectionSummary table is <= 20,000\n",
    "plot_df=selsum.fetch(to=allRows)['Fetch']\n",
    " \n",
    "plot_df[\"Increment\"]=0\n",
    "prevVarExp=0\n",
    "for i, row in plot_df.iterrows():\n",
    "    if i==0:\n",
    "        prevVarExp=row[\"VarExp\"]\n",
    "    else:\n",
    "        plot_df.loc[i, \"Increment\"]=row[\"VarExp\"]-prevVarExp\n",
    "        prevVarExp=row[\"VarExp\"]\n",
    "plot_df[\"Base\"]=plot_df[\"VarExp\"]-plot_df[\"Increment\"]\n",
    "\n",
    "#/* Variance explained by Iteration plot */       \n",
    "plt.bar(plot_df[\"Iteration\"], plot_df[\"Base\"], color='b')\n",
    "plt.bar(plot_df[\"Iteration\"], plot_df[\"Increment\"], color='r', bottom=plot_df[\"Base\"])\n",
    "plt.xlabel(\"Iteration\")\n",
    "plt.ylabel(\"Variance Explained\")\n",
    "plt.title(\"Variance Explained by Iteration\")\n",
    "plt.show()"
   ]
  },
  {
   "cell_type": "markdown",
   "metadata": {},
   "source": [
    "### Partition data into Training and Validation"
   ]
  },
  {
   "cell_type": "code",
   "execution_count": 10,
   "metadata": {
    "collapsed": false
   },
   "outputs": [
    {
     "name": "stdout",
     "output_type": "stream",
     "text": [
      "NOTE: Using SEED=1386683551 for sampling.\n"
     ]
    },
    {
     "data": {
      "text/html": [
       "<div class=\"cas-results-key\"><b>&#167; outputSize</b></div>\n",
       "<div class=\"cas-results-body\">\n",
       "<div>{'outputNVars': 19, 'outputNObs': 5960.0}</div>\n",
       "</div>\n",
       "<div class=\"cas-results-key\"><hr/><b>&#167; STRAFreq</b></div>\n",
       "<div class=\"cas-results-body\">\n",
       "<div>\n",
       "<table border=\"1\" class=\"dataframe\"><caption>Frequencies</caption>\n",
       "  <thead>\n",
       "    <tr style=\"text-align: right;\">\n",
       "      <th title=\"\"></th>\n",
       "      <th title=\"Index\">ByGrpID</th>\n",
       "      <th title=\"BAD\">BAD</th>\n",
       "      <th title=\"Number of Obs\">NObs</th>\n",
       "      <th title=\"Number of Samples\">NSamp</th>\n",
       "    </tr>\n",
       "  </thead>\n",
       "  <tbody>\n",
       "    <tr>\n",
       "      <th>0</th>\n",
       "      <td>0</td>\n",
       "      <td>0</td>\n",
       "      <td>4771</td>\n",
       "      <td>3340</td>\n",
       "    </tr>\n",
       "    <tr>\n",
       "      <th>1</th>\n",
       "      <td>1</td>\n",
       "      <td>1</td>\n",
       "      <td>1189</td>\n",
       "      <td>832</td>\n",
       "    </tr>\n",
       "  </tbody>\n",
       "</table>\n",
       "</div>\n",
       "</div>\n",
       "<div class=\"cas-results-key\"><hr/><b>&#167; OutputCasTables</b></div>\n",
       "<div class=\"cas-results-body\">\n",
       "<div>\n",
       "<table border=\"1\" class=\"dataframe\">\n",
       "  <thead>\n",
       "    <tr style=\"text-align: right;\">\n",
       "      <th title=\"\"></th>\n",
       "      <th title=\"CAS Library\">casLib</th>\n",
       "      <th title=\"Name\">Name</th>\n",
       "      <th title=\"Label\">Label</th>\n",
       "      <th title=\"Number of Rows\">Rows</th>\n",
       "      <th title=\"Number of Columns\">Columns</th>\n",
       "      <th title=\"Table\">casTable</th>\n",
       "    </tr>\n",
       "  </thead>\n",
       "  <tbody>\n",
       "    <tr>\n",
       "      <th>0</th>\n",
       "      <td>CASUSER(viyauser)</td>\n",
       "      <td>hmeq_part</td>\n",
       "      <td></td>\n",
       "      <td>5960</td>\n",
       "      <td>19</td>\n",
       "      <td>CASTable('hmeq_part', caslib='CASUSER(viyauser)')</td>\n",
       "    </tr>\n",
       "  </tbody>\n",
       "</table>\n",
       "</div>\n",
       "</div>\n",
       "<div class=\"cas-output-area\"></div>\n",
       "<p class=\"cas-results-performance\"><small><span class=\"cas-elapsed\">elapsed 0.0134s</span> &#183; <span class=\"cas-user\">user 0.008s</span> &#183; <span class=\"cas-sys\">sys 0.007s</span> &#183; <span class=\"cas-memory\">mem 9.72MB</span></small></p>"
      ],
      "text/plain": [
       "[outputSize]\n",
       "\n",
       " {'outputNObs': 5960.0, 'outputNVars': 19}\n",
       "\n",
       "[STRAFreq]\n",
       "\n",
       " Frequencies\n",
       " \n",
       "    ByGrpID           BAD  NObs  NSamp\n",
       " 0        0             0  4771   3340\n",
       " 1        1             1  1189    832\n",
       "\n",
       "[OutputCasTables]\n",
       "\n",
       "               casLib       Name Label  Rows  Columns  \\\n",
       " 0  CASUSER(viyauser)  hmeq_part        5960       19   \n",
       " \n",
       "                                             casTable  \n",
       " 0  CASTable('hmeq_part', caslib='CASUSER(viyauser)')  \n",
       "\n",
       "+ Elapsed: 0.0134s, user: 0.008s, sys: 0.007s, mem: 9.72mb"
      ]
     },
     "execution_count": 10,
     "metadata": {},
     "output_type": "execute_result"
    }
   ],
   "source": [
    "sess.sampling.stratified(\n",
    "  table={\"name\":\"hmeq_prepped\", \"groupBy\":\"bad\"},\n",
    "  output={\"casOut\":{\"name\":\"hmeq_part\", \"replace\":True}, \"copyVars\":\"ALL\"},\n",
    "  samppct=70,\n",
    "  partind=True\n",
    ")"
   ]
  },
  {
   "cell_type": "markdown",
   "metadata": {},
   "source": [
    "### Random Forest"
   ]
  },
  {
   "cell_type": "code",
   "execution_count": 11,
   "metadata": {
    "collapsed": false
   },
   "outputs": [
    {
     "data": {
      "text/html": [
       "\n",
       "    <style type=\"text/css\">\n",
       "    div.cas-results {\n",
       "        overflow-x: auto;\n",
       "    }\n",
       "    div.cas-results > * {\n",
       "        margin-left: auto !important;\n",
       "        margin-right: auto !important;\n",
       "    }\n",
       "    div.cas-results .sas-dataframe th[colspan],\n",
       "    div.cas-results .byline {\n",
       "        text-align: center;\n",
       "        font-size: 110%;\n",
       "    }\n",
       "    div.cas-results .sas-dataframe > tbody > tr:nth-child(even) {\n",
       "        background-color: #f8f8f8;\n",
       "    }\n",
       "    div.cas-results .sas-dataframe td,\n",
       "    div.cas-results .sas-dataframe th {\n",
       "        border: 1px solid #aaaaaa;\n",
       "        padding: 5px 10px;\n",
       "    }\n",
       "    div.cas-results .sas-dataframe th {\n",
       "        background-color: #f0f0f0;\n",
       "    }\n",
       "    div.cas-results .sas-dataframe .double,\n",
       "    div.cas-results .sas-dataframe .int32,\n",
       "    div.cas-results .sas-dataframe .int64,\n",
       "    div.cas-results .sas-dataframe .decsext,\n",
       "    div.cas-results .sas-dataframe .decquad {\n",
       "        text-align: right;\n",
       "    }\n",
       "    </style>\n",
       "<div class=\"cas-results\"><table class=\"sas-dataframe\">\n",
       "<colgroup><col class=\"char\" /><col class=\"double\" /></colgroup>\n",
       "<thead>\n",
       "<tr><th colspan=\"2\">Forest for HMEQ_PART</th></tr>\n",
       "<th class=\"char\">Descr</th>\n",
       "<th class=\"double\">Value</th>\n",
       "</thead>\n",
       "<tbody>\n",
       "<tr><td class=\"char\">Number of Trees</td><td class=\"double\">50</td></tr>\n",
       "<tr><td class=\"char\">Number of Selected Variables (M)</td><td class=\"double\">4</td></tr>\n",
       "<tr><td class=\"char\">Random Number Seed</td><td class=\"double\">0</td></tr>\n",
       "<tr><td class=\"char\">Bootstrap Percentage (%)</td><td class=\"double\">63.212055882</td></tr>\n",
       "<tr><td class=\"char\">Number of Bins</td><td class=\"double\">20</td></tr>\n",
       "<tr><td class=\"char\">Number of Variables</td><td class=\"double\">12</td></tr>\n",
       "<tr><td class=\"char\">Confidence Level for Pruning</td><td class=\"double\">0.25</td></tr>\n",
       "<tr><td class=\"char\">Max Number of Tree Nodes</td><td class=\"double\">295</td></tr>\n",
       "<tr><td class=\"char\">Min Number of Tree Nodes</td><td class=\"double\">181</td></tr>\n",
       "<tr><td class=\"char\">Max Number of Branches</td><td class=\"double\">2</td></tr>\n",
       "<tr><td class=\"char\">Min Number of Branches</td><td class=\"double\">2</td></tr>\n",
       "<tr><td class=\"char\">Max Number of Levels</td><td class=\"double\">21</td></tr>\n",
       "<tr><td class=\"char\">Min Number of Levels</td><td class=\"double\">21</td></tr>\n",
       "<tr><td class=\"char\">Max Number of Leaves</td><td class=\"double\">148</td></tr>\n",
       "<tr><td class=\"char\">Min Number of Leaves</td><td class=\"double\">91</td></tr>\n",
       "<tr><td class=\"char\">Maximum Size of Leaves</td><td class=\"double\">1452</td></tr>\n",
       "<tr><td class=\"char\">Minimum Size of Leaves</td><td class=\"double\">5</td></tr>\n",
       "<tr><td class=\"char\">Out-of-Bag MCR (%)</td><td class=\"double\">nan</td></tr>\n",
       "</tbody>\n",
       "</table><table class=\"sas-dataframe\">\n",
       "<colgroup><col class=\"char\" /><col class=\"double\" /><col class=\"double\" /></colgroup>\n",
       "<thead>\n",
       "<tr><th colspan=\"3\">Forest for HMEQ_PART</th></tr>\n",
       "<th class=\"char\">Analysis Variable</th>\n",
       "<th class=\"double\">Importance</th>\n",
       "<th class=\"double\">Std</th>\n",
       "</thead>\n",
       "<tbody>\n",
       "<tr><td class=\"char\">IM_DEBTINC</td><td class=\"double\">224.50078126</td><td class=\"double\">70.538936174</td></tr>\n",
       "<tr><td class=\"char\">IM_DELINQ</td><td class=\"double\">61.556071463</td><td class=\"double\">9.3728459127</td></tr>\n",
       "<tr><td class=\"char\">VALUE</td><td class=\"double\">60.249553662</td><td class=\"double\">15.481369135</td></tr>\n",
       "<tr><td class=\"char\">DEROG</td><td class=\"double\">41.349313074</td><td class=\"double\">6.0219791503</td></tr>\n",
       "<tr><td class=\"char\">CLNO</td><td class=\"double\">33.09416943</td><td class=\"double\">3.098644642</td></tr>\n",
       "<tr><td class=\"char\">JOB</td><td class=\"double\">28.909513092</td><td class=\"double\">2.2747893423</td></tr>\n",
       "<tr><td class=\"char\">IM_CLAGE</td><td class=\"double\">25.092147627</td><td class=\"double\">2.7954228454</td></tr>\n",
       "<tr><td class=\"char\">MORTDUE</td><td class=\"double\">24.21905317</td><td class=\"double\">2.0586984767</td></tr>\n",
       "<tr><td class=\"char\">LOAN</td><td class=\"double\">24.129395593</td><td class=\"double\">4.0622178672</td></tr>\n",
       "<tr><td class=\"char\">IM_YOJ</td><td class=\"double\">23.276916332</td><td class=\"double\">1.9322466021</td></tr>\n",
       "<tr><td class=\"char\">IM_NINQ</td><td class=\"double\">20.629261493</td><td class=\"double\">2.0947707512</td></tr>\n",
       "<tr><td class=\"char\">REASON</td><td class=\"double\">4.9869858167</td><td class=\"double\">1.3610096337</td></tr>\n",
       "</tbody>\n",
       "</table><table class=\"sas-dataframe\">\n",
       "<colgroup><col class=\"varchar\" /><col class=\"varchar\" /><col class=\"int64\" /><col class=\"int64\" /><col class=\"object\" /></colgroup>\n",
       "<thead>\n",
       "<tr><th colspan=\"5\">Output CAS Tables</th></tr>\n",
       "<th class=\"varchar\">CAS Library</th>\n",
       "<th class=\"varchar\">Name</th>\n",
       "<th class=\"int64\">Number of Rows</th>\n",
       "<th class=\"int64\">Number of Columns</th>\n",
       "<th class=\"object\">Table</th>\n",
       "</thead>\n",
       "<tbody>\n",
       "<tr><td class=\"varchar\">CASUSER(viyauser)</td><td class=\"varchar\">forest_model</td><td class=\"int64\">12506</td><td class=\"int64\">42</td><td class=\"object\">CASTable('forest_model', caslib='CASUSER(viyauser)')</td></tr>\n",
       "</tbody>\n",
       "</table></div>"
      ]
     },
     "metadata": {},
     "output_type": "display_data"
    },
    {
     "name": "stdout",
     "output_type": "stream",
     "text": [
      "NOTE: Character values have been converted to numeric values at the places given by: (Line):(Column).\n",
      "      0:35    0:109\n",
      "NOTE: Duplicate messages output by DATA step:\n",
      "NOTE: Character values have been converted to numeric values at the places given by: (Line):(Column).  (occurred 8 times)\n",
      "      0:35    0:109  (occurred 8 times)\n"
     ]
    },
    {
     "data": {
      "text/html": [
       "<div class=\"cas-results-key\"><b>&#167; InputCasTables</b></div>\n",
       "<div class=\"cas-results-body\">\n",
       "<div>\n",
       "<table border=\"1\" class=\"dataframe\">\n",
       "  <thead>\n",
       "    <tr style=\"text-align: right;\">\n",
       "      <th title=\"\"></th>\n",
       "      <th title=\"CAS Library\">casLib</th>\n",
       "      <th title=\"Name\">Name</th>\n",
       "      <th title=\"Number of Rows\">Rows</th>\n",
       "      <th title=\"Number of Columns\">Columns</th>\n",
       "      <th title=\"Table\">casTable</th>\n",
       "    </tr>\n",
       "  </thead>\n",
       "  <tbody>\n",
       "    <tr>\n",
       "      <th>0</th>\n",
       "      <td>CASUSER(viyauser)</td>\n",
       "      <td>_scored_rf</td>\n",
       "      <td>5960</td>\n",
       "      <td>7</td>\n",
       "      <td>CASTable('_scored_rf', caslib='CASUSER(viyause...</td>\n",
       "    </tr>\n",
       "  </tbody>\n",
       "</table>\n",
       "</div>\n",
       "</div>\n",
       "<div class=\"cas-results-key\"><hr/><b>&#167; OutputCasTables</b></div>\n",
       "<div class=\"cas-results-body\">\n",
       "<div>\n",
       "<table border=\"1\" class=\"dataframe\">\n",
       "  <thead>\n",
       "    <tr style=\"text-align: right;\">\n",
       "      <th title=\"\"></th>\n",
       "      <th title=\"CAS Library\">casLib</th>\n",
       "      <th title=\"Name\">Name</th>\n",
       "      <th title=\"Number of Rows\">Rows</th>\n",
       "      <th title=\"Number of Columns\">Columns</th>\n",
       "      <th title=\"Table\">casTable</th>\n",
       "    </tr>\n",
       "  </thead>\n",
       "  <tbody>\n",
       "    <tr>\n",
       "      <th>0</th>\n",
       "      <td>CASUSER(viyauser)</td>\n",
       "      <td>_scored_rf</td>\n",
       "      <td>5960</td>\n",
       "      <td>9</td>\n",
       "      <td>CASTable('_scored_rf', caslib='CASUSER(viyause...</td>\n",
       "    </tr>\n",
       "  </tbody>\n",
       "</table>\n",
       "</div>\n",
       "</div>\n",
       "<div class=\"cas-output-area\"></div>\n",
       "<p class=\"cas-results-performance\"><small><span class=\"cas-elapsed\">elapsed 0.0125s</span> &#183; <span class=\"cas-user\">user 0.017s</span> &#183; <span class=\"cas-sys\">sys 0.006s</span> &#183; <span class=\"cas-memory\">mem 15.2MB</span></small></p>"
      ],
      "text/plain": [
       "[InputCasTables]\n",
       "\n",
       "               casLib        Name  Rows  Columns  \\\n",
       " 0  CASUSER(viyauser)  _scored_rf  5960        7   \n",
       " \n",
       "                                             casTable  \n",
       " 0  CASTable('_scored_rf', caslib='CASUSER(viyause...  \n",
       "\n",
       "[OutputCasTables]\n",
       "\n",
       "               casLib        Name  Rows  Columns  \\\n",
       " 0  CASUSER(viyauser)  _scored_rf  5960        9   \n",
       " \n",
       "                                             casTable  \n",
       " 0  CASTable('_scored_rf', caslib='CASUSER(viyause...  \n",
       "\n",
       "+ Elapsed: 0.0125s, user: 0.017s, sys: 0.006s, mem: 15.2mb"
      ]
     },
     "execution_count": 11,
     "metadata": {},
     "output_type": "execute_result"
    }
   ],
   "source": [
    "rf = sess.decisionTree.forestTrain(\n",
    "  table={\n",
    "    \"name\":\"hmeq_part\",\n",
    "    \"where\":\"strip(put(_partind_, best.))='1'\"\n",
    "  },\n",
    "  inputs=all_inputs,\n",
    "  nominals=class_vars,\n",
    "  target=\"bad\",\n",
    "  nTree=50,\n",
    "  nBins=20,\n",
    "  leafSize=5,\n",
    "  maxLevel=21,\n",
    "  crit=\"GAINRATIO\",\n",
    "  varImp=True,\n",
    "  missing=\"USEINSEARCH\",\n",
    "  vote=\"PROB\",\n",
    "  casOut={\"name\":\"forest_model\", \"replace\":True}\n",
    ")\n",
    "\n",
    "# Output model statistics\n",
    "render_html(rf)\n",
    "\n",
    "# Score \n",
    "sess.decisionTree.forestScore(\n",
    "  table={\"name\":\"hmeq_part\"},\n",
    "  modelTable={\"name\":\"forest_model\"},\n",
    "  casOut={\"name\":\"_scored_rf\", \"replace\":True},\n",
    "  copyVars={\"bad\", \"_partind_\"},\n",
    "  vote=\"PROB\"\n",
    ")\n",
    "\n",
    "# Create p_bad0 and p_bad1 as _rf_predp_ is the probability of event in _rf_predname_\n",
    "sess.dataStep.runCode(\n",
    "  code=\"\"\"data _scored_rf; set _scored_rf; if _rf_predname_=1 then do; p_bad1=_rf_predp_; \n",
    "    p_bad0=1-p_bad1; end; if _rf_predname_=0 then do; p_bad0=_rf_predp_; p_bad1=1-p_bad0; end; run;\"\"\"\n",
    ")"
   ]
  },
  {
   "cell_type": "markdown",
   "metadata": {},
   "source": [
    "### Assess Models"
   ]
  },
  {
   "cell_type": "code",
   "execution_count": 12,
   "metadata": {
    "collapsed": true
   },
   "outputs": [],
   "source": [
    "def assess_model(prefix):\n",
    "    return sess.percentile.assess(\n",
    "      table={\n",
    "        \"name\":\"_scored_\" + prefix, \n",
    "        \"where\": \"strip(put(_partind_, best.))='0'\"\n",
    "      },\n",
    "      inputs=[{\"name\":\"p_bad1\"}],      \n",
    "      response=\"bad\",\n",
    "      event=\"1\",\n",
    "      pVar={\"p_bad0\"},\n",
    "      pEvent={\"0\"}      \n",
    "    )\n",
    "\n",
    "rfAssess=assess_model(prefix=\"rf\")    \n",
    "rf_fitstat =rfAssess.FitStat\n",
    "rf_rocinfo =rfAssess.ROCInfo\n",
    "rf_liftinfo=rfAssess.LIFTInfo"
   ]
  },
  {
   "cell_type": "markdown",
   "metadata": {},
   "source": [
    "### Create ROC and Lift plots (using Validation data)"
   ]
  },
  {
   "cell_type": "markdown",
   "metadata": {},
   "source": [
    "#### Prepare assessment results for plotting"
   ]
  },
  {
   "cell_type": "code",
   "execution_count": 13,
   "metadata": {
    "collapsed": true
   },
   "outputs": [],
   "source": [
    "# Add new variable to indicate type of model\n",
    "rf_liftinfo[\"model\"]=\"Forest\"\n",
    "rf_rocinfo[\"model\"]=\"Forest\""
   ]
  },
  {
   "cell_type": "markdown",
   "metadata": {},
   "source": [
    "#### Draw ROC and Lift plots"
   ]
  },
  {
   "cell_type": "code",
   "execution_count": 14,
   "metadata": {
    "collapsed": false
   },
   "outputs": [
    {
     "data": {
      "image/png": "[encoded data removed]",
      "text/plain": [
       "<matplotlib.figure.Figure at 0x7fa93d6f8c88>"
      ]
     },
     "metadata": {},
     "output_type": "display_data"
    },
    {
     "data": {
      "image/png": "[encoded data removed]",
      "text/plain": [
       "<matplotlib.figure.Figure at 0x7fa93d98b9b0>"
      ]
     },
     "metadata": {},
     "output_type": "display_data"
    }
   ],
   "source": [
    "#/* Draw ROC charts */ \n",
    "plt.figure()\n",
    "for key, grp in rf_rocinfo.groupby([\"model\"]):\n",
    "    plt.plot(grp[\"FPR\"], grp[\"Sensitivity\"], label=key)\n",
    "plt.plot([0,1], [0,1], \"k--\")\n",
    "plt.xlabel(\"False Positive Rate\")\n",
    "plt.ylabel(\"True Positive Rate\")\n",
    "plt.grid(True)\n",
    "plt.legend(loc=\"best\")\n",
    "plt.title(\"ROC Curve (using validation data)\")\n",
    "plt.show()\n",
    "\n",
    "#/* Draw lift charts */\n",
    "plt.figure()\n",
    "for key, grp in rf_liftinfo.groupby([\"model\"]):\n",
    "    plt.plot(grp[\"Depth\"], grp[\"Lift\"], label=key)\n",
    "plt.xlabel(\"Depth\")\n",
    "plt.ylabel(\"Lift\")\n",
    "plt.grid(True)\n",
    "plt.legend(loc=\"best\")\n",
    "plt.title(\"Lift Chart (using validation data)\")\n",
    "plt.show()"
   ]
  },
  {
   "cell_type": "markdown",
   "metadata": {},
   "source": [
    "### End CAS session"
   ]
  },
  {
   "cell_type": "code",
   "execution_count": 15,
   "metadata": {
    "collapsed": true
   },
   "outputs": [],
   "source": [
    "sess.close()"
   ]
  },
  {
   "cell_type": "code",
   "execution_count": null,
   "metadata": {
    "collapsed": true
   },
   "outputs": [],
   "source": []
  }
 ],
 "metadata": {
  "anaconda-cloud": {},
  "kernelspec": {
   "display_name": "Python [default]",
   "language": "python",
   "name": "python3"
  },
  "language_info": {
   "codemirror_mode": {
    "name": "ipython",
    "version": 3
   },
   "file_extension": ".py",
   "mimetype": "text/x-python",
   "name": "python",
   "nbconvert_exporter": "python",
   "pygments_lexer": "ipython3",
   "version": "3.5.2"
  }
 },
 "nbformat": 4,
 "nbformat_minor": 0
}
