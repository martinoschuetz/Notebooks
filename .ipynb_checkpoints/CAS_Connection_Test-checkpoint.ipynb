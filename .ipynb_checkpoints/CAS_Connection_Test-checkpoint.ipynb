{
 "cells": [
  {
   "cell_type": "code",
   "execution_count": 1,
   "metadata": {},
   "outputs": [],
   "source": [
    "from swat import *\n",
    "import os"
   ]
  },
  {
   "cell_type": "code",
   "execution_count": 2,
   "metadata": {},
   "outputs": [],
   "source": [
    "#os.environ['CAS_CLIENT_SSL_CA_LIST']='C:\\\\Users\\\\germsz\\\\OneDrive - SAS\\\\johndoe\\\\sas_encrypted.crt'\n",
    "#conn = swat.CAS('localhost', 8777, username=\"johndoe\", password=\"SASpw1\", protocol=\"http\")"
   ]
  },
  {
   "cell_type": "code",
   "execution_count": 3,
   "metadata": {},
   "outputs": [],
   "source": [
    "conn = CAS('localhost', 5570, username=\"johndoe\", password=\"SASpw1\")"
   ]
  },
  {
   "cell_type": "code",
   "execution_count": 4,
   "metadata": {},
   "outputs": [
    {
     "name": "stdout",
     "output_type": "stream",
     "text": [
      "NOTE: Grid node action status report: 1 nodes, 8 total actions executed.\n"
     ]
    }
   ],
   "source": [
    "out = conn.serverstatus()"
   ]
  },
  {
   "cell_type": "code",
   "execution_count": 5,
   "metadata": {},
   "outputs": [
    {
     "name": "stdout",
     "output_type": "stream",
     "text": [
      "[About]\n",
      "\n",
      " {'CAS': 'Cloud Analytic Services',\n",
      "  'Version': '3.04',\n",
      "  'VersionLong': 'V.03.04M0P07122018',\n",
      "  'Copyright': 'Copyright © 2014-2018 SAS Institute Inc. All Rights Reserved.',\n",
      "  'ServerTime': '2019-11-04T13:37:03Z',\n",
      "  'System': {'Hostname': 'viya-local-user',\n",
      "   'OS Name': 'Linux',\n",
      "   'OS Family': 'LIN X64',\n",
      "   'OS Release': '4.9.184-linuxkit',\n",
      "   'OS Version': '#1 SMP Tue Jul 2 22:58:16 UTC 2019',\n",
      "   'Model Number': 'x86_64',\n",
      "   'Linux Distribution': 'CentOS Linux release 7.6.1810 (Core)'},\n",
      "  'license': {'site': 'Viya 3.4 VA VS VDMML 19w39',\n",
      "   'siteNum': 70180938,\n",
      "   'expires': '22. Dezember 2019 00.00 Uhr',\n",
      "   'gracePeriod': 45,\n",
      "   'warningPeriod': 46,\n",
      "   'maxCPUs': 9999}}\n",
      "\n",
      "[server]\n",
      "\n",
      " Serverstatus\n",
      " \n",
      "    nodes  actions\n",
      " 0      1        8\n",
      "\n",
      "[nodestatus]\n",
      "\n",
      " Knotenstatus\n",
      " \n",
      "               name        role  uptime  running  stalled\n",
      " 0  viya-local-user  controller   1.074        0        0\n",
      "\n",
      "+ Elapsed: 0.00102s, mem: 0.295mb\n"
     ]
    }
   ],
   "source": [
    " print(out)"
   ]
  },
  {
   "cell_type": "code",
   "execution_count": 6,
   "metadata": {},
   "outputs": [],
   "source": [
    "conn.close()"
   ]
  }
 ],
 "metadata": {
  "kernelspec": {
   "display_name": "Python 3",
   "language": "python",
   "name": "python3"
  },
  "language_info": {
   "codemirror_mode": {
    "name": "ipython",
    "version": 3
   },
   "file_extension": ".py",
   "mimetype": "text/x-python",
   "name": "python",
   "nbconvert_exporter": "python",
   "pygments_lexer": "ipython3",
   "version": "3.6.9"
  }
 },
 "nbformat": 4,
 "nbformat_minor": 2
}
